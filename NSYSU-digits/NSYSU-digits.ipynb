{
 "cells": [
  {
   "cell_type": "markdown",
   "metadata": {
    "slideshow": {
     "slide_type": "slide"
    }
   },
   "source": [
    "# 我們與數字辨識的距離\n",
    "林晉宏"
   ]
  },
  {
   "cell_type": "markdown",
   "metadata": {
    "slideshow": {
     "slide_type": "subslide"
    }
   },
   "source": [
    "此投影片由 Jupyter 製作  \n",
    "原始檔請見下方連結  \n",
    "https://github.com/jephianlin/outreach/NSYSU-digits/NSYSU-digits.ipynb"
   ]
  },
  {
   "cell_type": "markdown",
   "metadata": {
    "slideshow": {
     "slide_type": "subslide"
    }
   },
   "source": [
    "- [MNIST 手寫數字資料庫](#MNIST-database)\n",
    "- [NSYSU-digits 手寫數字資料集](#NSYSU-digits-dataset)"
   ]
  },
  {
   "cell_type": "code",
   "execution_count": null,
   "metadata": {
    "slideshow": {
     "slide_type": "notes"
    }
   },
   "outputs": [],
   "source": [
    "import numpy as np\n",
    "import matplotlib.pyplot as plt"
   ]
  },
  {
   "cell_type": "code",
   "execution_count": null,
   "metadata": {
    "slideshow": {
     "slide_type": "notes"
    }
   },
   "outputs": [],
   "source": [
    "from tensorflow.keras.datasets import mnist\n",
    "(X_train, y_train), (X_test, y_test) = mnist.load_data()"
   ]
  },
  {
   "cell_type": "markdown",
   "metadata": {
    "slideshow": {
     "slide_type": "slide"
    }
   },
   "source": [
    "## MNIST database\n",
    "MNIST 手寫數字資料庫"
   ]
  },
  {
   "cell_type": "markdown",
   "metadata": {
    "slideshow": {
     "slide_type": "skip"
    }
   },
   "source": [
    "[back to top](#%E6%88%91%E5%80%91%E8%88%87%E6%95%B8%E5%AD%97%E8%BE%A8%E8%AD%98%E7%9A%84%E8%B7%9D%E9%9B%A2)"
   ]
  },
  {
   "cell_type": "markdown",
   "metadata": {
    "slideshow": {
     "slide_type": "subslide"
    }
   },
   "source": [
    "![Webpage of MNIST dataset](MNIST-webpage.png \"Webpage of MNIST dataset\")\n",
    "\n",
    "http://yann.lecun.com/exdb/mnist/"
   ]
  },
  {
   "cell_type": "markdown",
   "metadata": {
    "slideshow": {
     "slide_type": "subslide"
    }
   },
   "source": [
    "#### 資料集內容\n",
    "- 訓練集：60,000 張圖片\n",
    "- 測試集：10,000 張圖片\n",
    "- 以 `idx` 格式儲存"
   ]
  },
  {
   "cell_type": "markdown",
   "metadata": {
    "slideshow": {
     "slide_type": "subslide"
    }
   },
   "source": [
    "![MNIST examples](https://upload.wikimedia.org/wikipedia/commons/2/27/MnistExamples.png \"MNIST examples\")\n",
    "\n",
    "(Source: [Wikipedia of MNIST database](https://en.wikipedia.org/wiki/MNIST_database)  \n",
    "author: Josef Steppan)"
   ]
  },
  {
   "cell_type": "markdown",
   "metadata": {
    "slideshow": {
     "slide_type": "subslide"
    }
   },
   "source": [
    "#### 資料來源\n",
    "- 取自 [NIST](https://en.wikipedia.org/wiki/National_Institute_of_Standards_and_Technology) 中的兩個資料集\n",
    "- Special Database 3：公務員寫的\n",
    "- Special Database 1：中學生寫的\n",
    "- MNIST training = 30,000 SD3 + 30,000 SD1\n",
    "- MNIST testing = 1,000 SD3 + 1,000 SD1"
   ]
  },
  {
   "cell_type": "markdown",
   "metadata": {
    "slideshow": {
     "slide_type": "notes"
    }
   },
   "source": [
    "原先 NIST 把 SD3 當訓練集  \n",
    "把 SD1 當測試集  \n",
    "由於兩邊手寫作者身份差太多  \n",
    "MNIST 將兩資料集重新混合\n",
    "\n",
    "Census Bureau 的公務員"
   ]
  },
  {
   "cell_type": "markdown",
   "metadata": {
    "slideshow": {
     "slide_type": "subslide"
    }
   },
   "source": [
    "#### 資料前處理\n",
    "- 每張圖大小為 28x28\n",
    "- 數字部份包在 20x20 的方框中\n",
    "- 白 0 ~ 255 黑\n",
    "- 依顏料重心置中"
   ]
  },
  {
   "cell_type": "code",
   "execution_count": null,
   "metadata": {
    "slideshow": {
     "slide_type": "notes"
    }
   },
   "outputs": [],
   "source": [
    "### check shape, bounding box, and mass center\n",
    "i = 0\n",
    "arr = X_train[i]\n",
    "print(\"image shape is\", arr.shape)\n",
    "ink_x,ink_y = np.where(arr > 0)\n",
    "print(\"vertical ink range is\", ink_x.min(), \"~\", ink_x.max())\n",
    "print(\"horizontal ink range is\", ink_y.min(), \"~\", ink_y.max())\n",
    "row_sum = np.sum(arr, axis=1)\n",
    "print(\"vertical mass center at\", (row_sum * np.arange(28)).sum() / row_sum.sum()) # ~ 13.5\n",
    "col_sum = np.sum(arr, axis=0)\n",
    "print(\"horizontal mass center at\", (col_sum * np.arange(28)).sum() / col_sum.sum()) # ~ 13.5"
   ]
  },
  {
   "cell_type": "markdown",
   "metadata": {
    "slideshow": {
     "slide_type": "subslide"
    }
   },
   "source": [
    "![Records for models](MNIST-models.png \"Records for models\")\n",
    "\n",
    "http://yann.lecun.com/exdb/mnist/"
   ]
  },
  {
   "cell_type": "markdown",
   "metadata": {
    "slideshow": {
     "slide_type": "subslide"
    }
   },
   "source": [
    "#### 沒辦法中的辦法\n",
    "- 亂猜 ~10%\n",
    "- 看墨水用量 ~ 22%"
   ]
  },
  {
   "cell_type": "code",
   "execution_count": null,
   "metadata": {
    "slideshow": {
     "slide_type": "notes"
    }
   },
   "outputs": [],
   "source": [
    "from sklearn.metrics import accuracy_score, confusion_matrix, plot_confusion_matrix"
   ]
  },
  {
   "cell_type": "code",
   "execution_count": null,
   "metadata": {},
   "outputs": [],
   "source": [
    "### random guess\n",
    "guess = np.random.randint(0, 10, (10000,))\n",
    "accuracy_score(guess, y_test)"
   ]
  },
  {
   "cell_type": "code",
   "execution_count": null,
   "metadata": {},
   "outputs": [],
   "source": [
    "### ink density histogram\n",
    "fig = plt.figure(figsize=(12,4))\n",
    "for i in range(10):\n",
    "    mask = (y_train == i)\n",
    "    wanted = X_train.reshape(60000, -1)[mask].mean(axis=1)\n",
    "    plt.hist(wanted, bins=100, label='%s'%i)\n",
    "plt.legend()"
   ]
  },
  {
   "cell_type": "code",
   "execution_count": null,
   "metadata": {},
   "outputs": [],
   "source": [
    "### ink density guess\n",
    "centers = np.zeros((10,1))\n",
    "label = np.arange(10)\n",
    "for i in range(10):\n",
    "    mask = (y_train == i)\n",
    "    centers[i,0] = X_train[mask].mean()\n",
    "\n",
    "from sklearn.neighbors import KNeighborsClassifier\n",
    "model = KNeighborsClassifier(1)\n",
    "model.fit(centers, label)\n",
    "inks = X_test.reshape(10000,-1).mean(axis=1)[:,np.newaxis]\n",
    "guess = model.predict(inks)\n",
    "accuracy_score(guess, y_test)"
   ]
  },
  {
   "cell_type": "code",
   "execution_count": null,
   "metadata": {},
   "outputs": [],
   "source": [
    "### confusion matrix\n",
    "### need to run the previous cell first\n",
    "fig = plt.figure(figsize=(8,8))\n",
    "ax = plt.gca()\n",
    "plot_confusion_matrix(model, inks, y_test, normalize='true', values_format='.2f', ax=ax)"
   ]
  },
  {
   "cell_type": "markdown",
   "metadata": {
    "slideshow": {
     "slide_type": "subslide"
    }
   },
   "source": [
    "![](ink-density.png)"
   ]
  },
  {
   "cell_type": "markdown",
   "metadata": {
    "slideshow": {
     "slide_type": "subslide"
    }
   },
   "source": [
    "![](ink-confusion-matrix.png)"
   ]
  },
  {
   "cell_type": "code",
   "execution_count": null,
   "metadata": {},
   "outputs": [],
   "source": []
  },
  {
   "cell_type": "code",
   "execution_count": null,
   "metadata": {},
   "outputs": [],
   "source": []
  },
  {
   "cell_type": "markdown",
   "metadata": {
    "slideshow": {
     "slide_type": "slide"
    }
   },
   "source": [
    "## NSYSU-digits dataset\n",
    "NSYSU-digits 手寫數字資料集"
   ]
  },
  {
   "cell_type": "markdown",
   "metadata": {
    "slideshow": {
     "slide_type": "skip"
    }
   },
   "source": [
    "[back to top](#%E6%88%91%E5%80%91%E8%88%87%E6%95%B8%E5%AD%97%E8%BE%A8%E8%AD%98%E7%9A%84%E8%B7%9D%E9%9B%A2)"
   ]
  },
  {
   "cell_type": "code",
   "execution_count": null,
   "metadata": {},
   "outputs": [],
   "source": []
  }
 ],
 "metadata": {
  "celltoolbar": "Slideshow",
  "kernelspec": {
   "display_name": "Python 3",
   "language": "python",
   "name": "python3"
  },
  "language_info": {
   "codemirror_mode": {
    "name": "ipython",
    "version": 3
   },
   "file_extension": ".py",
   "mimetype": "text/x-python",
   "name": "python",
   "nbconvert_exporter": "python",
   "pygments_lexer": "ipython3",
   "version": "3.8.5"
  }
 },
 "nbformat": 4,
 "nbformat_minor": 4
}
