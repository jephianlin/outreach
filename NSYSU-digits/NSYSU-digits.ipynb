{
 "cells": [
  {
   "cell_type": "markdown",
   "metadata": {
    "slideshow": {
     "slide_type": "slide"
    }
   },
   "source": [
    "# 我們與數字辨識的距離\n",
    "林晉宏 (Jephian Lin)"
   ]
  },
  {
   "cell_type": "markdown",
   "metadata": {
    "slideshow": {
     "slide_type": "subslide"
    }
   },
   "source": [
    "此投影片由 Jupyter 製作  \n",
    "原始檔請見下方連結  \n",
    "https://github.com/jephianlin/outreach/NSYSU-digits/NSYSU-digits.ipynb"
   ]
  },
  {
   "cell_type": "markdown",
   "metadata": {
    "slideshow": {
     "slide_type": "subslide"
    }
   },
   "source": [
    "- [MNIST 手寫數字資料庫](#MNIST-database)\n",
    "- [NSYSU-digits 手寫數字資料集](#NSYSU-digits-dataset)\n",
    "- [專案中遇到的困難、犯過的錯誤](#Difficulties/Mistakes-in-NSYSU-digits-project)\n",
    "- [Questions](#Questions)"
   ]
  },
  {
   "cell_type": "code",
   "execution_count": null,
   "metadata": {
    "slideshow": {
     "slide_type": "notes"
    }
   },
   "outputs": [],
   "source": [
    "import numpy as np\n",
    "import matplotlib.pyplot as plt\n",
    "from joblib import load, dump\n",
    "from sklearn.model_selection import train_test_split\n",
    "from sklearn.metrics import accuracy_score, confusion_matrix, plot_confusion_matrix\n",
    "from skimage.feature import hog"
   ]
  },
  {
   "cell_type": "code",
   "execution_count": null,
   "metadata": {
    "slideshow": {
     "slide_type": "notes"
    }
   },
   "outputs": [],
   "source": [
    "import tensorflow as tf\n",
    "from tensorflow.keras.datasets import mnist\n",
    "(X_train, y_train), (X_test, y_test) = mnist.load_data()\n",
    "Xf_train = X_train.reshape(60000, -1)\n",
    "Xf_test = X_test.reshape(10000, -1)\n",
    "Xcnn_train = X_train.reshape(60000, 28, 28, 1)\n",
    "Xcnn_test = X_test.reshape(10000, 28, 28, 1)\n",
    "yone_train = tf.keras.utils.to_categorical(y_train)\n",
    "yone_test = tf.keras.utils.to_categorical(y_test)"
   ]
  },
  {
   "cell_type": "markdown",
   "metadata": {
    "slideshow": {
     "slide_type": "slide"
    }
   },
   "source": [
    "## MNIST database\n",
    "MNIST 手寫數字資料庫"
   ]
  },
  {
   "cell_type": "markdown",
   "metadata": {
    "slideshow": {
     "slide_type": "skip"
    }
   },
   "source": [
    "[back to top](#%E6%88%91%E5%80%91%E8%88%87%E6%95%B8%E5%AD%97%E8%BE%A8%E8%AD%98%E7%9A%84%E8%B7%9D%E9%9B%A2)"
   ]
  },
  {
   "cell_type": "markdown",
   "metadata": {
    "slideshow": {
     "slide_type": "subslide"
    }
   },
   "source": [
    "![Webpage of MNIST dataset](MNIST-webpage.png \"Webpage of MNIST dataset\")\n",
    "\n",
    "http://yann.lecun.com/exdb/mnist/"
   ]
  },
  {
   "cell_type": "markdown",
   "metadata": {
    "slideshow": {
     "slide_type": "subslide"
    }
   },
   "source": [
    "#### 資料集內容\n",
    "- 訓練集：60,000 張圖片\n",
    "- 測試集：10,000 張圖片\n",
    "- 以 `idx` 格式儲存"
   ]
  },
  {
   "cell_type": "markdown",
   "metadata": {
    "slideshow": {
     "slide_type": "subslide"
    }
   },
   "source": [
    "![MNIST examples](https://upload.wikimedia.org/wikipedia/commons/2/27/MnistExamples.png \"MNIST examples\")\n",
    "\n",
    "(Source: [Wikipedia of MNIST database](https://en.wikipedia.org/wiki/MNIST_database)  \n",
    "author: Josef Steppan)"
   ]
  },
  {
   "cell_type": "markdown",
   "metadata": {
    "slideshow": {
     "slide_type": "subslide"
    }
   },
   "source": [
    "#### 資料來源\n",
    "- 取自 [NIST](https://en.wikipedia.org/wiki/National_Institute_of_Standards_and_Technology) 中的兩個資料集\n",
    "- Special Database 3：公務員寫的\n",
    "- Special Database 1：中學生寫的\n",
    "- MNIST training = 30,000 SD3 + 30,000 SD1\n",
    "- MNIST testing = 1,000 SD3 + 1,000 SD1"
   ]
  },
  {
   "cell_type": "markdown",
   "metadata": {
    "slideshow": {
     "slide_type": "notes"
    }
   },
   "source": [
    "原先 NIST 把 SD3 當訓練集  \n",
    "把 SD1 當測試集  \n",
    "由於兩邊手寫作者身份差太多  \n",
    "MNIST 將兩資料集重新混合\n",
    "\n",
    "Census Bureau 的公務員"
   ]
  },
  {
   "cell_type": "markdown",
   "metadata": {
    "slideshow": {
     "slide_type": "subslide"
    }
   },
   "source": [
    "#### 資料前處理\n",
    "- 每張圖大小為 28x28\n",
    "- 數字部份包在 20x20 的方框中\n",
    "- 白 0 ~ 255 黑\n",
    "- 依顏料重心置中"
   ]
  },
  {
   "cell_type": "code",
   "execution_count": null,
   "metadata": {
    "slideshow": {
     "slide_type": "notes"
    }
   },
   "outputs": [],
   "source": [
    "### check shape, bounding box, and mass center\n",
    "i = 0\n",
    "arr = X_train[i]\n",
    "print(\"image shape is\", arr.shape)\n",
    "ink_x,ink_y = np.where(arr > 0)\n",
    "print(\"vertical ink range is\", ink_x.min(), \"~\", ink_x.max())\n",
    "print(\"horizontal ink range is\", ink_y.min(), \"~\", ink_y.max())\n",
    "row_sum = np.sum(arr, axis=1)\n",
    "print(\"vertical mass center at\", (row_sum * np.arange(28)).sum() / row_sum.sum()) # ~ 13.5\n",
    "col_sum = np.sum(arr, axis=0)\n",
    "print(\"horizontal mass center at\", (col_sum * np.arange(28)).sum() / col_sum.sum()) # ~ 13.5"
   ]
  },
  {
   "cell_type": "markdown",
   "metadata": {
    "slideshow": {
     "slide_type": "subslide"
    }
   },
   "source": [
    "![Records for models](MNIST-models.png \"Records for models\")\n",
    "\n",
    "http://yann.lecun.com/exdb/mnist/"
   ]
  },
  {
   "cell_type": "markdown",
   "metadata": {
    "slideshow": {
     "slide_type": "subslide"
    }
   },
   "source": [
    "#### 沒辦法中的辦法\n",
    "- 亂猜 ~10%\n",
    "- 看墨水用量 ~ 22%"
   ]
  },
  {
   "cell_type": "markdown",
   "metadata": {
    "slideshow": {
     "slide_type": "subslide"
    }
   },
   "source": [
    "![Distribution of ink densities](ink-density.png \"Distribution of ink densities\")"
   ]
  },
  {
   "cell_type": "markdown",
   "metadata": {
    "slideshow": {
     "slide_type": "subslide"
    }
   },
   "source": [
    "![Confusion matrix of ink estimator](ink-confusion-matrix.png \"Confusion matrix of ink estimator\")"
   ]
  },
  {
   "cell_type": "code",
   "execution_count": null,
   "metadata": {
    "slideshow": {
     "slide_type": "notes"
    }
   },
   "outputs": [],
   "source": [
    "### random guess\n",
    "guess = np.random.randint(0, 10, (10000,))\n",
    "accuracy_score(y_test, guess)"
   ]
  },
  {
   "cell_type": "code",
   "execution_count": null,
   "metadata": {
    "slideshow": {
     "slide_type": "notes"
    }
   },
   "outputs": [],
   "source": [
    "### ink density histogram\n",
    "fig = plt.figure(figsize=(12,4))\n",
    "for i in range(10):\n",
    "    mask = (y_train == i)\n",
    "    wanted = X_train.reshape(60000, -1)[mask].mean(axis=1)\n",
    "    plt.hist(wanted, bins=100, label='%s'%i)\n",
    "plt.legend()"
   ]
  },
  {
   "cell_type": "code",
   "execution_count": null,
   "metadata": {
    "slideshow": {
     "slide_type": "skip"
    }
   },
   "outputs": [],
   "source": [
    "### ink density guess\n",
    "centers = np.zeros((10,1))\n",
    "label = np.arange(10)\n",
    "for i in range(10):\n",
    "    mask = (y_train == i)\n",
    "    centers[i,0] = X_train[mask].mean()\n",
    "\n",
    "from sklearn.neighbors import KNeighborsClassifier\n",
    "model = KNeighborsClassifier(1)\n",
    "model.fit(centers, label)\n",
    "inks = X_test.reshape(10000,-1).mean(axis=1)[:,np.newaxis]\n",
    "guess = model.predict(inks)\n",
    "accuracy_score(y_test, guess)"
   ]
  },
  {
   "cell_type": "code",
   "execution_count": null,
   "metadata": {
    "slideshow": {
     "slide_type": "skip"
    }
   },
   "outputs": [],
   "source": [
    "### confusion matrix\n",
    "### need to run the previous cell first\n",
    "fig = plt.figure(figsize=(8,8))\n",
    "ax = plt.gca()\n",
    "plot_confusion_matrix(model, inks, y_test, normalize='true', values_format='.2f', ax=ax)"
   ]
  },
  {
   "cell_type": "markdown",
   "metadata": {
    "slideshow": {
     "slide_type": "subslide"
    }
   },
   "source": [
    "#### 將圖片拉平\n",
    "\n",
    "```python\n",
    "a = np.array([[1,2],\n",
    "              [2,3]])\n",
    "a.reshape(-1)\n",
    "```\n",
    "會得到  \n",
    "```\n",
    "[1,2,2,3]\n",
    "```\n",
    "每個圖片都可以看成是 28x28 = 784 維的向量"
   ]
  },
  {
   "cell_type": "markdown",
   "metadata": {
    "slideshow": {
     "slide_type": "subslide"
    }
   },
   "source": [
    "#### 距離\n",
    "若 $x = (x_1, \\ldots, x_n)$,  \n",
    "$y = (y_1, \\ldots, y_n)$  \n",
    "\n",
    "則兩點之間距離為  \n",
    "$\\|x-y\\| = \\sum_{i=1}^n (x_i - y_i)^2$"
   ]
  },
  {
   "cell_type": "markdown",
   "metadata": {
    "slideshow": {
     "slide_type": "subslide"
    }
   },
   "source": [
    "#### k-nearest neighbors\n",
    "??% ~ 99.37%\n",
    "\n",
    "![k-nearest neighbors](https://upload.wikimedia.org/wikipedia/commons/thumb/e/e7/KnnClassification.svg/220px-KnnClassification.svg.png \"k-nearest neighbors\")\n",
    "\n",
    "(Source: [Wikipedia of k-nearest neighbors algorithm](https://en.wikipedia.org/wiki/K-nearest_neighbors_algorithm)  \n",
    "author: Antti Ajanki)"
   ]
  },
  {
   "cell_type": "code",
   "execution_count": null,
   "metadata": {
    "slideshow": {
     "slide_type": "notes"
    }
   },
   "outputs": [],
   "source": [
    "### kNN\n",
    "from sklearn.neighbors import KNeighborsClassifier\n",
    "model = KNeighborsClassifier()\n",
    "model.fit(Xf_train, y_train)\n",
    "guess = model.predict(Xf_test)\n",
    "accuracy_score(y_test, guess)"
   ]
  },
  {
   "cell_type": "markdown",
   "metadata": {
    "slideshow": {
     "slide_type": "subslide"
    }
   },
   "source": [
    "#### Linear classifier\n",
    "88% ~ 92.4%\n",
    "\n",
    "![Linear classifier](https://raw.githubusercontent.com/jephianlin/ModularPython/master/linear_classifier.png \"Linear classifier\")"
   ]
  },
  {
   "cell_type": "code",
   "execution_count": null,
   "metadata": {
    "slideshow": {
     "slide_type": "notes"
    }
   },
   "outputs": [],
   "source": [
    "### linear\n",
    "from sklearn.neural_network import MLPClassifier\n",
    "model = MLPClassifier(hidden_layer_sizes=(), activation='identity')\n",
    "model.fit(Xf_train, y_train)\n",
    "guess = model.predict(Xf_test)\n",
    "accuracy_score(y_test, guess)"
   ]
  },
  {
   "cell_type": "markdown",
   "metadata": {
    "slideshow": {
     "slide_type": "subslide"
    }
   },
   "source": [
    "#### Support vector machine\n",
    "??% ~ 99.44%\n",
    "\n",
    "![Kernel function](https://upload.wikimedia.org/wikipedia/commons/thumb/f/fe/Kernel_Machine.svg/500px-Kernel_Machine.svg.png \"Kernel function\")\n",
    "\n",
    "(Source: [Wikipedia of Support vector machine](https://en.wikipedia.org/wiki/K-nearest_neighbors_algorithm)  \n",
    "author: Alisneaky)"
   ]
  },
  {
   "cell_type": "code",
   "execution_count": null,
   "metadata": {
    "slideshow": {
     "slide_type": "notes"
    }
   },
   "outputs": [],
   "source": [
    "### SVM\n",
    "from sklearn.svm import SVC\n",
    "model = SVC()\n",
    "model.fit(Xf_train, y_train)\n",
    "guess = model.predict(Xf_test)\n",
    "accuracy_score(y_test, guess)"
   ]
  },
  {
   "cell_type": "markdown",
   "metadata": {
    "slideshow": {
     "slide_type": "subslide"
    }
   },
   "source": [
    "#### Neural network\n",
    "92% ~ 99.17%\n",
    "\n",
    "- 每層神經網路 = 一個矩陣 $W$、一個向量 $b$、一個非線性函數 $\\sigma$\n",
    "- 輸入 $x$ 和輸出 $y$ 的關係  \n",
    "$y = \\sigma(xW +b)$"
   ]
  },
  {
   "cell_type": "code",
   "execution_count": null,
   "metadata": {
    "slideshow": {
     "slide_type": "notes"
    }
   },
   "outputs": [],
   "source": [
    "### neural network\n",
    "model = tf.keras.models.Sequential()\n",
    "model.add(tf.keras.Input(shape=(784,)))\n",
    "model.add(tf.keras.layers.Dense(32, activation='relu'))\n",
    "model.add(tf.keras.layers.Dense(10, activation='softmax'))\n",
    "model.compile(loss='categorical_crossentropy', \n",
    "              optimizer='adam', \n",
    "              metrics=['accuracy'])\n",
    "model.fit(Xf_train, yone_train, epochs=10, batch_size=100, validation_data=(Xf_test, yone_test))"
   ]
  },
  {
   "cell_type": "markdown",
   "metadata": {
    "slideshow": {
     "slide_type": "subslide"
    }
   },
   "source": [
    "#### 距離？\n",
    "算一下 $x$, $y$, $z$ 之間的距離：\n",
    "```python\n",
    "x = [0,1,0,0,1,0,0,1,0]\n",
    "y = [0,0,1,0,0,1,0,0,1]\n",
    "z = [1,1,1,1,0,1,1,1,1]\n",
    "```"
   ]
  },
  {
   "cell_type": "markdown",
   "metadata": {
    "slideshow": {
     "slide_type": "subslide"
    }
   },
   "source": [
    "![Distance between pictures](xyz-distance.png \"Distance between pictures\")"
   ]
  },
  {
   "cell_type": "code",
   "execution_count": null,
   "metadata": {
    "slideshow": {
     "slide_type": "skip"
    }
   },
   "outputs": [],
   "source": [
    "### draw xyz-distance.png\n",
    "x = np.array([0,1,0,0,1,0,0,1,0]).reshape(3,3)\n",
    "y = np.array([0,0,1,0,0,1,0,0,1]).reshape(3,3)\n",
    "z = np.array([1,1,1,1,0,1,1,1,1]).reshape(3,3)\n",
    "\n",
    "\n",
    "fig = plt.figure(figsize=(5,5))\n",
    "back = fig.add_axes([0,0,1,1])\n",
    "ax1 = fig.add_axes([0.1,0.2,0.2,0.2])\n",
    "ax1.imshow(x, cmap='Greys')\n",
    "ax2 = fig.add_axes([0.7,0.2,0.2,0.2])\n",
    "ax2.imshow(y, cmap='Greys')\n",
    "ax3 = fig.add_axes([0.4,0.7,0.2,0.2])\n",
    "ax3.imshow(z, cmap='Greys')\n",
    "back.text(0.3, 0.5, '$\\sqrt{7}$', size='xx-large', usetex=True, ha='center')\n",
    "back.text(0.7, 0.5, '$\\sqrt{5}$', size='xx-large', usetex=True, ha='center')\n",
    "back.text(0.5, 0.3, '$\\sqrt{6}$', size='xx-large', usetex=True, ha='center')\n",
    "\n",
    "for ax in [back, ax1, ax2, ax3]:\n",
    "    ax.axis('off')"
   ]
  },
  {
   "cell_type": "markdown",
   "metadata": {
    "slideshow": {
     "slide_type": "subslide"
    }
   },
   "source": [
    "#### Convolution\n",
    "![Convolution](convolution.png \"Convolution\")"
   ]
  },
  {
   "cell_type": "code",
   "execution_count": null,
   "metadata": {
    "slideshow": {
     "slide_type": "skip"
    }
   },
   "outputs": [],
   "source": [
    "### draw convolution.png\n",
    "arr = np.abs(X_train[1][:,2:] - X_train[1][:,:-2])\n",
    "fea,vis = hog(X_train[1], pixels_per_cell=(4,4), cells_per_block=(2,2), visualize=True)\n",
    "\n",
    "fig = plt.figure(figsize=(9,3))\n",
    "axs = fig.subplots(1,3)\n",
    "axs[0].imshow(X_train[1], cmap='Greys')\n",
    "axs[0].set_title('original')\n",
    "axs[1].imshow(arr, cmap='Greys')\n",
    "axs[1].set_title('[-1,0,1] filter')\n",
    "axs[2].imshow(vis, cmap='Greys')\n",
    "axs[2].set_title('HOG feature')"
   ]
  },
  {
   "cell_type": "markdown",
   "metadata": {
    "slideshow": {
     "slide_type": "subslide"
    }
   },
   "source": [
    "#### Convolution neural network\n",
    "97% ~ 99.77%"
   ]
  },
  {
   "cell_type": "code",
   "execution_count": null,
   "metadata": {
    "slideshow": {
     "slide_type": "notes"
    }
   },
   "outputs": [],
   "source": [
    "### convolution neural network\n",
    "model = tf.keras.models.Sequential()\n",
    "model.add(tf.keras.layers.Conv2D(32, kernel_size=(3, 3), \n",
    "                                 activation='relu', \n",
    "                                 input_shape=(28, 28, 1)))\n",
    "model.add(tf.keras.layers.Conv2D(64, (3, 3), activation='relu'))\n",
    "model.add(tf.keras.layers.MaxPool2D(pool_size=(2, 2)))\n",
    "model.add(tf.keras.layers.Dropout(0.25))\n",
    "model.add(tf.keras.layers.Flatten())\n",
    "model.add(tf.keras.layers.Dense(128, activation='relu'))\n",
    "model.add(tf.keras.layers.Dropout(0.5))\n",
    "model.add(tf.keras.layers.Dense(10, activation='softmax'))\n",
    "\n",
    "model.compile(loss='categorical_crossentropy', \n",
    "              optimizer='adam', \n",
    "              metrics=['accuracy'])\n",
    "model.fit(Xcnn_train, yone_train, epochs=1, batch_size=100, validation_data=(Xcnn_test, yone_test))"
   ]
  },
  {
   "cell_type": "markdown",
   "metadata": {
    "slideshow": {
     "slide_type": "slide"
    }
   },
   "source": [
    "## NSYSU-digits dataset\n",
    "NSYSU-digits 手寫數字資料集"
   ]
  },
  {
   "cell_type": "markdown",
   "metadata": {
    "slideshow": {
     "slide_type": "skip"
    }
   },
   "source": [
    "[back to top](#%E6%88%91%E5%80%91%E8%88%87%E6%95%B8%E5%AD%97%E8%BE%A8%E8%AD%98%E7%9A%84%E8%B7%9D%E9%9B%A2)"
   ]
  },
  {
   "cell_type": "code",
   "execution_count": null,
   "metadata": {
    "slideshow": {
     "slide_type": "notes"
    }
   },
   "outputs": [],
   "source": [
    "### load nsysu\n",
    "\n",
    "import urllib\n",
    "import numpy as np\n",
    "\n",
    "base = r\"https://github.com/SageLabTW/auto-grading/raw/master/nsysu-digits/\"\n",
    "urllib.request.urlretrieve(base + \"X.csv\", \"nsysu-digits-X.csv\")\n",
    "urllib.request.urlretrieve(base + \"y.csv\", \"nsysu-digits-y.csv\")\n",
    "\n",
    "Xsys = np.genfromtxt('nsysu-digits-X.csv', dtype=int, delimiter=',') ### flattened already\n",
    "ysys = np.genfromtxt('nsysu-digits-y.csv', dtype=int, delimiter=',')"
   ]
  },
  {
   "cell_type": "code",
   "execution_count": null,
   "metadata": {
    "slideshow": {
     "slide_type": "notes"
    }
   },
   "outputs": [],
   "source": [
    "num = Xsys.shape[0] ### 552\n",
    "Xsyscnn = Xsys.reshape(num, 28, 28, 1)\n",
    "ysysone = tf.keras.utils.to_categorical(ysys)"
   ]
  },
  {
   "cell_type": "markdown",
   "metadata": {
    "slideshow": {
     "slide_type": "subslide"
    }
   },
   "source": [
    "#### 資料集內容\n",
    "- 共 552 張圖片\n",
    "- 未區分訓練集及測試集\n",
    "- 以 `png` 格式儲存"
   ]
  },
  {
   "cell_type": "markdown",
   "metadata": {
    "slideshow": {
     "slide_type": "subslide"
    }
   },
   "source": [
    "![NSYSU digits examples](nsysu-digits-examples.png \"NSYSU digits examples\")"
   ]
  },
  {
   "cell_type": "markdown",
   "metadata": {
    "slideshow": {
     "slide_type": "subslide"
    }
   },
   "source": [
    "#### 資料來源\n",
    "- 來自學生小考考卷\n",
    "- 課前詢問學生是否同意以匿名方式貢獻資料\n",
    "- 由研究助理加標籤\n",
    "- 公開在 GitHub: [SageLabTW/auto-grading.git](https://github.com/SageLabTW/auto-grading)"
   ]
  },
  {
   "cell_type": "markdown",
   "metadata": {
    "slideshow": {
     "slide_type": "subslide"
    }
   },
   "source": [
    "#### 資料前處理\n",
    "- 每張圖大小為 28x28\n",
    "- 數字大小不一致\n",
    "- 白 0 ~ 255 黑（顏色偏淺）\n",
    "- 未置中"
   ]
  },
  {
   "cell_type": "markdown",
   "metadata": {
    "slideshow": {
     "slide_type": "subslide"
    }
   },
   "source": [
    "#### MNIST 訓練、NSYSU-digits 測試\n",
    "- random: ~10%\n",
    "- ink: 6%\n",
    "- kNN:\n",
    "- linear: 21%\n",
    "- SVM: \n",
    "- NN: 28%\n",
    "- CNN: 44% (one epoch) ~ 58%\n"
   ]
  },
  {
   "cell_type": "markdown",
   "metadata": {
    "slideshow": {
     "slide_type": "subslide"
    }
   },
   "source": [
    "![Les Misérables](https://upload.wikimedia.org/wikipedia/en/6/67/LesMisLogo.png \"Les Misérables\")\n",
    "\n",
    "(Source: [Wikipedia of Les Misérables (musical)](https://en.wikipedia.org/wiki/Les_Mis%C3%A9rables_(musical)  \n",
    "[Details of copyright](https://en.wikipedia.org/wiki/File:LesMisLogo.png))"
   ]
  },
  {
   "cell_type": "markdown",
   "metadata": {
    "slideshow": {
     "slide_type": "fragment"
    }
   },
   "source": [
    " 悲慘世界"
   ]
  },
  {
   "cell_type": "code",
   "execution_count": null,
   "metadata": {
    "slideshow": {
     "slide_type": "notes"
    }
   },
   "outputs": [],
   "source": [
    "### random guess\n",
    "guess = np.random.randint(0, 10, (num,))\n",
    "accuracy_score(ysys, guess)"
   ]
  },
  {
   "cell_type": "code",
   "execution_count": null,
   "metadata": {
    "slideshow": {
     "slide_type": "notes"
    }
   },
   "outputs": [],
   "source": [
    "### ink density guess\n",
    "centers = np.zeros((10,1))\n",
    "label = np.arange(10)\n",
    "for i in range(10):\n",
    "    mask = (y_train == i)\n",
    "    centers[i,0] = X_train[mask].mean()\n",
    "\n",
    "from sklearn.neighbors import KNeighborsClassifier\n",
    "model = KNeighborsClassifier(1)\n",
    "model.fit(centers, label)\n",
    "inks = Xsys.mean(axis=1)[:,np.newaxis]\n",
    "guess = model.predict(inks)\n",
    "accuracy_score(ysys, guess)"
   ]
  },
  {
   "cell_type": "code",
   "execution_count": null,
   "metadata": {
    "slideshow": {
     "slide_type": "notes"
    }
   },
   "outputs": [],
   "source": [
    "### kNN\n",
    "from sklearn.neighbors import KNeighborsClassifier\n",
    "model = KNeighborsClassifier()\n",
    "model.fit(Xf_train, y_train)\n",
    "guess = model.predict(Xsys)\n",
    "accuracy_score(ysys, guess)"
   ]
  },
  {
   "cell_type": "code",
   "execution_count": null,
   "metadata": {
    "slideshow": {
     "slide_type": "notes"
    }
   },
   "outputs": [],
   "source": [
    "### linear\n",
    "from sklearn.neural_network import MLPClassifier\n",
    "model = MLPClassifier(hidden_layer_sizes=(), activation='identity')\n",
    "model.fit(Xf_train, y_train)\n",
    "guess = model.predict(Xsys)\n",
    "accuracy_score(ysys, guess)"
   ]
  },
  {
   "cell_type": "code",
   "execution_count": null,
   "metadata": {
    "slideshow": {
     "slide_type": "notes"
    }
   },
   "outputs": [],
   "source": [
    "### SVM\n",
    "from sklearn.svm import SVC\n",
    "model = SVC()\n",
    "model.fit(Xf_train, y_train)\n",
    "guess = model.predict(Xsys)\n",
    "accuracy_score(ysys, guess)"
   ]
  },
  {
   "cell_type": "code",
   "execution_count": null,
   "metadata": {
    "slideshow": {
     "slide_type": "notes"
    }
   },
   "outputs": [],
   "source": [
    "### neural network\n",
    "model = tf.keras.models.Sequential()\n",
    "model.add(tf.keras.Input(shape=(784,)))\n",
    "model.add(tf.keras.layers.Dense(32, activation='relu'))\n",
    "model.add(tf.keras.layers.Dense(10, activation='softmax'))\n",
    "model.compile(loss='categorical_crossentropy', \n",
    "              optimizer='adam', \n",
    "              metrics=['accuracy'])\n",
    "model.fit(Xf_train, yone_train, epochs=10, batch_size=100, validation_data=(Xsys, ysysone))"
   ]
  },
  {
   "cell_type": "code",
   "execution_count": null,
   "metadata": {
    "slideshow": {
     "slide_type": "notes"
    }
   },
   "outputs": [],
   "source": [
    "### convolution neural network\n",
    "model = tf.keras.models.Sequential()\n",
    "model.add(tf.keras.layers.Conv2D(32, kernel_size=(3, 3), \n",
    "                                 activation='relu', \n",
    "                                 input_shape=(28, 28, 1)))\n",
    "model.add(tf.keras.layers.Conv2D(64, (3, 3), activation='relu'))\n",
    "model.add(tf.keras.layers.MaxPool2D(pool_size=(2, 2)))\n",
    "model.add(tf.keras.layers.Dropout(0.25))\n",
    "model.add(tf.keras.layers.Flatten())\n",
    "model.add(tf.keras.layers.Dense(128, activation='relu'))\n",
    "model.add(tf.keras.layers.Dropout(0.5))\n",
    "model.add(tf.keras.layers.Dense(10, activation='softmax'))\n",
    "\n",
    "model.compile(loss='categorical_crossentropy', \n",
    "              optimizer='adam', \n",
    "              metrics=['accuracy'])\n",
    "model.fit(Xcnn_train, yone_train, epochs=1, batch_size=100, validation_data=(Xsyscnn, ysysone))"
   ]
  },
  {
   "cell_type": "markdown",
   "metadata": {
    "slideshow": {
     "slide_type": "subslide"
    }
   },
   "source": [
    "#### NSYSU-digits 3/4 訓練、1/4 測試\n",
    "- random: ~10%\n",
    "- ink: 19%\n",
    "- kNN: 45%\n",
    "- linear: **34%**\n",
    "- SVM: 52%\n",
    "- NN: **25%**\n",
    "- CNN: **32%** (one epoch) ~ 75%\n"
   ]
  },
  {
   "cell_type": "code",
   "execution_count": null,
   "metadata": {
    "slideshow": {
     "slide_type": "notes"
    }
   },
   "outputs": [],
   "source": [
    "### split the data\n",
    "Xsys_train, Xsys_test, ysys_train, ysys_test = train_test_split(Xsys, ysys)\n",
    "num_train,num_test =  Xsys_train.shape[0], Xsys_test.shape[0]\n",
    "Xsyscnn_train = Xsys_train.reshape(num_train, 28, 28, 1)\n",
    "Xsyscnn_test = Xsys_test.reshape(num_test, 28, 28, 1)\n",
    "ysysone_train = tf.keras.utils.to_categorical(ysys_train)\n",
    "ysysone_test = tf.keras.utils.to_categorical(ysys_test)\n",
    "print(num_train, num_test)"
   ]
  },
  {
   "cell_type": "code",
   "execution_count": null,
   "metadata": {
    "slideshow": {
     "slide_type": "notes"
    }
   },
   "outputs": [],
   "source": [
    "### random guess\n",
    "guess = np.random.randint(0, 10, (num_test,))\n",
    "accuracy_score(ysys_test, guess)"
   ]
  },
  {
   "cell_type": "code",
   "execution_count": null,
   "metadata": {
    "slideshow": {
     "slide_type": "notes"
    }
   },
   "outputs": [],
   "source": [
    "### ink density guess\n",
    "centers = np.zeros((10,1))\n",
    "label = np.arange(10)\n",
    "for i in range(10):\n",
    "    mask = (ysys_train == i)\n",
    "    centers[i,0] = Xsys_train[mask].mean()\n",
    "\n",
    "from sklearn.neighbors import KNeighborsClassifier\n",
    "model = KNeighborsClassifier(1)\n",
    "model.fit(centers, label)\n",
    "inks = Xsys_test.mean(axis=1)[:,np.newaxis]\n",
    "guess = model.predict(inks)\n",
    "accuracy_score(ysys_test, guess)"
   ]
  },
  {
   "cell_type": "code",
   "execution_count": null,
   "metadata": {
    "slideshow": {
     "slide_type": "notes"
    }
   },
   "outputs": [],
   "source": [
    "### kNN\n",
    "from sklearn.neighbors import KNeighborsClassifier\n",
    "model = KNeighborsClassifier()\n",
    "model.fit(Xsys_train, ysys_train)\n",
    "guess = model.predict(Xsys_test)\n",
    "accuracy_score(ysys_test, guess)"
   ]
  },
  {
   "cell_type": "code",
   "execution_count": null,
   "metadata": {
    "slideshow": {
     "slide_type": "notes"
    }
   },
   "outputs": [],
   "source": [
    "### linear\n",
    "from sklearn.neural_network import MLPClassifier\n",
    "model = MLPClassifier(hidden_layer_sizes=(), activation='identity')\n",
    "model.fit(Xsys_train, ysys_train)\n",
    "guess = model.predict(Xsys_test)\n",
    "accuracy_score(ysys_test, guess)"
   ]
  },
  {
   "cell_type": "code",
   "execution_count": null,
   "metadata": {
    "slideshow": {
     "slide_type": "notes"
    }
   },
   "outputs": [],
   "source": [
    "### SVM\n",
    "from sklearn.svm import SVC\n",
    "model = SVC()\n",
    "model.fit(Xsys_train, ysys_train)\n",
    "guess = model.predict(Xsys_test)\n",
    "accuracy_score(ysys_test, guess)"
   ]
  },
  {
   "cell_type": "code",
   "execution_count": null,
   "metadata": {
    "slideshow": {
     "slide_type": "notes"
    }
   },
   "outputs": [],
   "source": [
    "### neural network\n",
    "model = tf.keras.models.Sequential()\n",
    "model.add(tf.keras.Input(shape=(784,)))\n",
    "model.add(tf.keras.layers.Dense(32, activation='relu'))\n",
    "model.add(tf.keras.layers.Dense(10, activation='softmax'))\n",
    "model.compile(loss='categorical_crossentropy', \n",
    "              optimizer='adam', \n",
    "              metrics=['accuracy'])\n",
    "model.fit(Xsys_train, ysysone_train, epochs=10, batch_size=100, validation_data=(Xsys_test, ysysone_test))"
   ]
  },
  {
   "cell_type": "code",
   "execution_count": null,
   "metadata": {
    "slideshow": {
     "slide_type": "notes"
    }
   },
   "outputs": [],
   "source": [
    "### convolution neural network\n",
    "model = tf.keras.models.Sequential()\n",
    "model.add(tf.keras.layers.Conv2D(32, kernel_size=(3, 3), \n",
    "                                 activation='relu', \n",
    "                                 input_shape=(28, 28, 1)))\n",
    "model.add(tf.keras.layers.Conv2D(64, (3, 3), activation='relu'))\n",
    "model.add(tf.keras.layers.MaxPool2D(pool_size=(2, 2)))\n",
    "model.add(tf.keras.layers.Dropout(0.25))\n",
    "model.add(tf.keras.layers.Flatten())\n",
    "model.add(tf.keras.layers.Dense(128, activation='relu'))\n",
    "model.add(tf.keras.layers.Dropout(0.5))\n",
    "model.add(tf.keras.layers.Dense(10, activation='softmax'))\n",
    "\n",
    "model.compile(loss='categorical_crossentropy', \n",
    "              optimizer='adam', \n",
    "              metrics=['accuracy'])\n",
    "model.fit(Xsyscnn_train, ysysone_train, epochs=20, batch_size=100, validation_data=(Xsyscnn_test, ysysone_test))"
   ]
  },
  {
   "cell_type": "markdown",
   "metadata": {},
   "source": [
    "## Difficulties/Mistakes in NSYSU-digits project\n",
    "專案中遇到的困難、犯過的錯誤"
   ]
  },
  {
   "cell_type": "markdown",
   "metadata": {},
   "source": [
    "機械上的誤差"
   ]
  },
  {
   "cell_type": "markdown",
   "metadata": {},
   "source": [
    "人為的誤差"
   ]
  },
  {
   "cell_type": "markdown",
   "metadata": {},
   "source": [
    "尺寸錯誤"
   ]
  },
  {
   "cell_type": "markdown",
   "metadata": {},
   "source": [
    "程式碼有錯"
   ]
  },
  {
   "cell_type": "markdown",
   "metadata": {},
   "source": [
    "不知道怎麼克服的障礙 清洗"
   ]
  },
  {
   "cell_type": "markdown",
   "metadata": {},
   "source": [
    "無法克服的障礙 ID"
   ]
  },
  {
   "cell_type": "code",
   "execution_count": null,
   "metadata": {},
   "outputs": [],
   "source": []
  },
  {
   "cell_type": "markdown",
   "metadata": {},
   "source": [
    "#### 總結\n",
    "- 機器在學習、人類也在學習，任何專案都應該是不斷修正的過程。\n",
    "- 資料是否前處理過會大幅影響訓練的成過。\n",
    "- 所學應該用在生活上；如果有什麼想法，就應該去試試看。\n",
    "- 一次完成一件事，才有可能累積可大的成果。"
   ]
  },
  {
   "cell_type": "markdown",
   "metadata": {},
   "source": [
    "## Questions\n",
    "1. 用 MNIST 訓練、NSYSU-digits 測試合理嗎？\n",
    "2. 如果用 NSYSU-digits 訓練加測試，我可以期待下一批學生寫出來的字有同樣的準確率嗎？\n",
    "3. 如果是你，你會如何將 NSYSU-digits 資料做前處理？"
   ]
  },
  {
   "cell_type": "code",
   "execution_count": null,
   "metadata": {},
   "outputs": [],
   "source": []
  }
 ],
 "metadata": {
  "celltoolbar": "Slideshow",
  "kernelspec": {
   "display_name": "Python 3",
   "language": "python",
   "name": "python3"
  },
  "language_info": {
   "codemirror_mode": {
    "name": "ipython",
    "version": 3
   },
   "file_extension": ".py",
   "mimetype": "text/x-python",
   "name": "python",
   "nbconvert_exporter": "python",
   "pygments_lexer": "ipython3",
   "version": "3.8.5"
  }
 },
 "nbformat": 4,
 "nbformat_minor": 4
}
