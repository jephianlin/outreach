{
 "cells": [
  {
   "cell_type": "markdown",
   "metadata": {},
   "source": [
    "## MNIST 手寫數字資料"
   ]
  },
  {
   "cell_type": "markdown",
   "metadata": {},
   "source": [
    "![](MNIST-digitwise-means.png \"\")"
   ]
  },
  {
   "cell_type": "markdown",
   "metadata": {},
   "source": [
    "各數字墨水用量的平均、標準差  \n",
    "```\n",
    "digit: ink_mean, ink_std\n",
    "0: 44.216828, 10.736191\n",
    "1: 19.379654, 5.607750\n",
    "2: 37.988658, 9.703046\n",
    "3: 36.090187, 9.635850\n",
    "4: 30.948226, 8.130984\n",
    "5: 32.831095, 9.502106\n",
    "6: 35.011953, 9.544340\n",
    "7: 29.204563, 7.811263\n",
    "8: 38.289775, 9.851285\n",
    "9: 31.260435, 8.273293\n",
    "```"
   ]
  },
  {
   "cell_type": "markdown",
   "metadata": {},
   "source": [
    "Q1(a). 用墨水量猜猜看以下分別是哪一個數字？\n",
    "```\n",
    "index: ink\n",
    "59677: 34.308673\n",
    "35981: 25.968112\n",
    "6865: 56.959184\n",
    "26064: 22.743622\n",
    "18741: 16.200255\n",
    "22600: 37.936224\n",
    "27950: 24.501276\n",
    "16411: 36.030612\n",
    "5475: 69.881378\n",
    "32134: 28.904337\n",
    "```"
   ]
  },
  {
   "cell_type": "markdown",
   "metadata": {},
   "source": [
    "Q1(b). 用每個數字附近的數字，來猜猜看它是哪個數字？\n",
    "```\n",
    "ind: neighboring digits\n",
    "28370: [2 1 1 2 6 1]\n",
    "34420: [9 0 9 4 7 7]\n",
    "11959: [6 1 1 1 1 1]\n",
    "55532: [4 4 6 4 5 4]\n",
    "54421: [0 5 7 4 7 4]\n",
    "43773: [3 3 3 2 3 0]\n",
    "25899: [1 1 1 1 1 1]\n",
    "24254: [7 7 7 4 0 7]\n",
    "2927: [8 0 8 5 3 6]\n",
    "39562: [5 9 3 6 4 6]\n",
    "```"
   ]
  },
  {
   "cell_type": "markdown",
   "metadata": {},
   "source": []
  },
  {
   "cell_type": "markdown",
   "metadata": {},
   "source": []
  },
  {
   "cell_type": "markdown",
   "metadata": {},
   "source": []
  },
  {
   "cell_type": "markdown",
   "metadata": {},
   "source": []
  },
  {
   "cell_type": "markdown",
   "metadata": {},
   "source": []
  },
  {
   "cell_type": "markdown",
   "metadata": {},
   "source": []
  },
  {
   "cell_type": "markdown",
   "metadata": {},
   "source": []
  },
  {
   "cell_type": "markdown",
   "metadata": {},
   "source": []
  },
  {
   "cell_type": "markdown",
   "metadata": {},
   "source": [
    "## NSYSU-digits 手寫資料"
   ]
  },
  {
   "cell_type": "markdown",
   "metadata": {},
   "source": [
    "![](NSYSU-digitwise-means.png \"\")"
   ]
  },
  {
   "cell_type": "markdown",
   "metadata": {},
   "source": [
    "各數字墨水用量的平均、標準差  \n",
    "```\n",
    "digit: ink_mean, ink_std\n",
    "0: 8.794989, 2.483019\n",
    "1: 6.589010, 1.590713\n",
    "2: 8.955215, 2.848100\n",
    "3: 8.041135, 2.143122\n",
    "4: 10.732587, 2.402498\n",
    "5: 8.376941, 2.135341\n",
    "6: 9.320737, 2.628407\n",
    "7: 9.650199, 2.013895\n",
    "8: 12.371447, 3.414354\n",
    "9: 9.639391, 2.456494\n",
    "```"
   ]
  },
  {
   "cell_type": "markdown",
   "metadata": {},
   "source": [
    "Q1(a). 用墨水量猜猜看以下分別是哪一個數字？\n",
    "```\n",
    "index: ink\n",
    "273: 12.673469\n",
    "87: 14.271684\n",
    "490: 13.397959\n",
    "14: 13.533163\n",
    "367: 4.100765\n",
    "390: 8.561224\n",
    "311: 5.316327\n",
    "211: 9.485969\n",
    "299: 8.251276\n",
    "229: 10.153061\n",
    "```"
   ]
  },
  {
   "cell_type": "markdown",
   "metadata": {},
   "source": [
    "Q1(b). 用每個數字附近的數字，來猜猜看它是哪個數字？\n",
    "```\n",
    "ind: neighboring digits\n",
    "53: [2 3 0 6 2]\n",
    "483: [1 7 1 3 1]\n",
    "60: [1 6 6 1 1]\n",
    "257: [0 4 4 0 6]\n",
    "358: [0 1 5 4 9]\n",
    "230: [3 3 6 3 9]\n",
    "287: [1 1 1 9 4]\n",
    "280: [7 7 1 0 6]\n",
    "84: [8 0 8 2 5]\n",
    "264: [9 1 1 7 0]\n",
    "```"
   ]
  },
  {
   "cell_type": "markdown",
   "metadata": {},
   "source": []
  },
  {
   "cell_type": "markdown",
   "metadata": {},
   "source": []
  },
  {
   "cell_type": "markdown",
   "metadata": {},
   "source": []
  },
  {
   "cell_type": "markdown",
   "metadata": {},
   "source": []
  },
  {
   "cell_type": "markdown",
   "metadata": {},
   "source": []
  },
  {
   "cell_type": "markdown",
   "metadata": {},
   "source": []
  },
  {
   "cell_type": "markdown",
   "metadata": {},
   "source": []
  },
  {
   "cell_type": "markdown",
   "metadata": {},
   "source": []
  },
  {
   "cell_type": "markdown",
   "metadata": {},
   "source": []
  },
  {
   "cell_type": "markdown",
   "metadata": {},
   "source": [
    "## Answers"
   ]
  },
  {
   "cell_type": "markdown",
   "metadata": {},
   "source": [
    "A1(a). 有猜對嗎？\n",
    "```\n",
    "index: ink <-- answer\n",
    "59677: 34.308673 <-- 2: 37.988658, 9.703046\n",
    "35981: 25.968112 <-- 8: 38.289775, 9.851285\n",
    "6865: 56.959184 <-- 4: 30.948226, 8.130984\n",
    "26064: 22.743622 <-- 9: 31.260435, 8.273293\n",
    "18741: 16.200255 <-- 1: 19.379654, 5.607750\n",
    "22600: 37.936224 <-- 6: 35.011953, 9.544340\n",
    "27950: 24.501276 <-- 7: 29.204563, 7.811263\n",
    "16411: 36.030612 <-- 3: 36.090187, 9.635850\n",
    "5475: 69.881378 <-- 0: 44.216828, 10.736191\n",
    "32134: 28.904337 <-- 5: 32.831095, 9.502106\n",
    "```"
   ]
  },
  {
   "cell_type": "markdown",
   "metadata": {},
   "source": [
    "A1(b). 有猜對嗎？\n",
    "```\n",
    "ind: neighboring digits <-- answer\n",
    "28370: [2 1 1 2 6 1] <-- 2\n",
    "34420: [9 0 9 4 7 7] <-- 9\n",
    "11959: [6 1 1 1 1 1] <-- 6\n",
    "55532: [4 4 6 4 5 4] <-- 4\n",
    "54421: [0 5 7 4 7 4] <-- 0\n",
    "43773: [3 3 3 2 3 0] <-- 3\n",
    "25899: [1 1 1 1 1 1] <-- 1\n",
    "24254: [7 7 7 4 0 7] <-- 7\n",
    "2927: [8 0 8 5 3 6] <-- 8\n",
    "39562: [5 9 3 6 4 6] <-- 5\n",
    "```"
   ]
  },
  {
   "cell_type": "markdown",
   "metadata": {},
   "source": [
    "A2(a). 有猜對嗎？\n",
    "```\n",
    "index: ink <-- answer\n",
    "273: 12.673469 <-- 2: 8.955215, 2.848100\n",
    "87: 14.271684 <-- 8: 12.371447, 3.414354\n",
    "490: 13.397959 <-- 4: 10.732587, 2.402498\n",
    "14: 13.533163 <-- 9: 9.639391, 2.456494\n",
    "367: 4.100765 <-- 1: 6.589010, 1.590713\n",
    "390: 8.561224 <-- 6: 9.320737, 2.628407\n",
    "311: 5.316327 <-- 7: 9.650199, 2.013895\n",
    "211: 9.485969 <-- 3: 8.041135, 2.143122\n",
    "299: 8.251276 <-- 0: 8.794989, 2.483019\n",
    "229: 10.153061 <-- 5: 8.376941, 2.135341\n",
    "```"
   ]
  },
  {
   "cell_type": "markdown",
   "metadata": {},
   "source": [
    "A2(b). 有猜對嗎？\n",
    "```\n",
    "ind: neighboring digits <-- answer\n",
    "53: [2 3 0 6 2] <-- 2\n",
    "483: [1 7 1 3 1] <-- 9\n",
    "60: [1 6 6 1 1] <-- 6\n",
    "257: [0 4 4 0 6] <-- 4\n",
    "358: [0 1 5 4 9] <-- 0\n",
    "230: [3 3 6 3 9] <-- 3\n",
    "287: [1 1 1 9 4] <-- 1\n",
    "280: [7 7 1 0 6] <-- 7\n",
    "84: [8 0 8 2 5] <-- 8\n",
    "264: [9 1 1 7 0] <-- 5\n",
    "```"
   ]
  },
  {
   "cell_type": "markdown",
   "metadata": {},
   "source": []
  },
  {
   "cell_type": "markdown",
   "metadata": {},
   "source": []
  },
  {
   "cell_type": "markdown",
   "metadata": {},
   "source": []
  },
  {
   "cell_type": "markdown",
   "metadata": {},
   "source": []
  },
  {
   "cell_type": "markdown",
   "metadata": {},
   "source": []
  },
  {
   "cell_type": "markdown",
   "metadata": {},
   "source": []
  },
  {
   "cell_type": "markdown",
   "metadata": {},
   "source": []
  },
  {
   "cell_type": "markdown",
   "metadata": {},
   "source": []
  },
  {
   "cell_type": "markdown",
   "metadata": {},
   "source": [
    "## Code"
   ]
  },
  {
   "cell_type": "code",
   "execution_count": null,
   "metadata": {},
   "outputs": [],
   "source": [
    "import os\n",
    "import numpy as np\n",
    "import matplotlib.pyplot as plt"
   ]
  },
  {
   "cell_type": "markdown",
   "metadata": {},
   "source": [
    "### MNIST"
   ]
  },
  {
   "cell_type": "code",
   "execution_count": null,
   "metadata": {},
   "outputs": [],
   "source": [
    "### load MNIST\n",
    "\n",
    "import tensorflow as tf\n",
    "from tensorflow.keras.datasets import mnist\n",
    "(X_train, y_train), (X_test, y_test) = mnist.load_data()\n",
    "\n",
    "X = X_train\n",
    "y = y_train\n",
    "N = X.shape[0]"
   ]
  },
  {
   "cell_type": "code",
   "execution_count": null,
   "metadata": {
    "scrolled": true
   },
   "outputs": [],
   "source": [
    "fig, axs = plt.subplots(2, 5, figsize=(10,4))\n",
    "\n",
    "for k in range(10):\n",
    "    ax = axs[k // 5, k % 5]\n",
    "    ax.axis('off')\n",
    "    mask = (y == k)\n",
    "    mean_img = X[mask].mean(axis=0)\n",
    "    ax.imshow(mean_img, cmap='Greys')"
   ]
  },
  {
   "cell_type": "code",
   "execution_count": null,
   "metadata": {},
   "outputs": [],
   "source": [
    "### ink density histogram\n",
    "# fig = plt.figure(figsize=(12,4))\n",
    "dwise = np.zeros((10,2), dtype=float)\n",
    "print(\"digit: ink_mean, ink_std\")\n",
    "for k in range(10):\n",
    "    mask = (y == k)\n",
    "    wanted = X.reshape(N, -1)[mask].mean(axis=1)\n",
    "    dwise[k][0],dwise[k][1] = wanted.mean(),wanted.std()\n",
    "    print(\"%d: %f, %f\"%(k, dwise[k][0], dwise[k][1]))\n",
    "#     plt.hist(wanted, bins=100, label='%s'%k)\n",
    "# plt.legend()"
   ]
  },
  {
   "cell_type": "code",
   "execution_count": null,
   "metadata": {},
   "outputs": [],
   "source": [
    "rng = np.random.RandomState(0)\n",
    "choices = np.arange(10)\n",
    "rng.shuffle(choices)\n",
    "print(choices)\n",
    "inds = np.zeros((10,), dtype=int)\n",
    "for i in range(10):\n",
    "    mask = (y == choices[i])\n",
    "    inds[i] = rng.choice(np.arange(N)[mask])\n",
    "\n",
    "print(\"index: ink\")\n",
    "for i in range(10):\n",
    "    ind = inds[i]\n",
    "    k = choices[i]\n",
    "    ink = X[ind].mean()\n",
    "    print(\"%d: %f\"%(ind,ink))\n",
    "    \n",
    "print(\"index: ink <-- answer\")\n",
    "for i in range(10):\n",
    "    ind = inds[i]\n",
    "    k = choices[i]\n",
    "    ink = X[ind].mean()\n",
    "    print(\"%d: %f <-- %d: %f, %f\"%(ind,ink,k,dwise[k][0],dwise[k][1]))"
   ]
  },
  {
   "cell_type": "code",
   "execution_count": null,
   "metadata": {},
   "outputs": [],
   "source": [
    "rng = np.random.RandomState(1)\n",
    "choices = np.arange(10)\n",
    "rng.shuffle(choices)\n",
    "print(choices)\n",
    "inds = np.zeros((10,), dtype=int)\n",
    "for i in range(10):\n",
    "    mask = (y == choices[i])\n",
    "    inds[i] = rng.choice(np.arange(N)[mask])\n",
    "\n",
    "print(\"ind: neighboring digits\")\n",
    "for i in range(10):\n",
    "    ind = inds[i]\n",
    "    k = choices[i]\n",
    "    x = X[ind]\n",
    "    dist = ((x - X)**2).sum(axis=-1).sum(axis=-1)\n",
    "    nbr = y[dist.argsort()[:6]]\n",
    "    print(\"%d: %s\"%(ind, nbr))\n",
    "    \n",
    "print(\"ind: neighboring digits <-- answer\")\n",
    "for i in range(10):\n",
    "    ind = inds[i]\n",
    "    k = choices[i]\n",
    "    x = X[ind]\n",
    "    dist = ((x - X)**2).sum(axis=-1).sum(axis=-1)\n",
    "    nbr = y[dist.argsort()[:6]]\n",
    "    print(\"%d: %s <-- %d\"%(ind, nbr, k))"
   ]
  },
  {
   "cell_type": "markdown",
   "metadata": {},
   "source": [
    "### NSYSU-digits"
   ]
  },
  {
   "cell_type": "code",
   "execution_count": null,
   "metadata": {},
   "outputs": [],
   "source": [
    "### load nsysu\n",
    "\n",
    "import urllib\n",
    "import numpy as np\n",
    "\n",
    "base = r\"https://github.com/SageLabTW/auto-grading/raw/master/nsysu-digits/\"\n",
    "for c in ['X', 'y']:\n",
    "    filename = \"nsysu-digits-%s.csv\"%c\n",
    "    if filename not in os.listdir('.'):\n",
    "        print(filename, 'not found --- will download')\n",
    "        urllib.request.urlretrieve(base + c + \".csv\", filename)\n",
    "\n",
    "Xsys = np.genfromtxt('nsysu-digits-X.csv', dtype=int, delimiter=',') ### flattened already\n",
    "ysys = np.genfromtxt('nsysu-digits-y.csv', dtype=int, delimiter=',')\n",
    "\n",
    "N = Xsys.shape[0]\n",
    "X = Xsys.reshape(N,28,28)\n",
    "y = ysys"
   ]
  },
  {
   "cell_type": "code",
   "execution_count": null,
   "metadata": {
    "scrolled": true
   },
   "outputs": [],
   "source": [
    "fig, axs = plt.subplots(2, 5, figsize=(10,4))\n",
    "\n",
    "for k in range(10):\n",
    "    ax = axs[k // 5, k % 5]\n",
    "    ax.axis('off')\n",
    "    mask = (y == k)\n",
    "    mean_img = X[mask].mean(axis=0)\n",
    "    ax.imshow(mean_img, cmap='Greys')"
   ]
  },
  {
   "cell_type": "code",
   "execution_count": null,
   "metadata": {},
   "outputs": [],
   "source": [
    "### ink density histogram\n",
    "# fig = plt.figure(figsize=(12,4))\n",
    "dwise = np.zeros((10,2), dtype=float)\n",
    "print(\"digit: ink_mean, ink_std\")\n",
    "for k in range(10):\n",
    "    mask = (y == k)\n",
    "    wanted = X.reshape(N, -1)[mask].mean(axis=1)\n",
    "    dwise[k][0],dwise[k][1] = wanted.mean(),wanted.std()\n",
    "    print(\"%d: %f, %f\"%(k, dwise[k][0], dwise[k][1]))\n",
    "#     plt.hist(wanted, bins=100, label='%s'%k)\n",
    "# plt.legend()"
   ]
  },
  {
   "cell_type": "code",
   "execution_count": null,
   "metadata": {},
   "outputs": [],
   "source": [
    "rng = np.random.RandomState(0)\n",
    "choices = np.arange(10)\n",
    "rng.shuffle(choices)\n",
    "print(choices)\n",
    "inds = np.zeros((10,), dtype=int)\n",
    "for i in range(10):\n",
    "    mask = (y == choices[i])\n",
    "    inds[i] = rng.choice(np.arange(N)[mask])\n",
    "\n",
    "print(\"index: ink\")\n",
    "for i in range(10):\n",
    "    ind = inds[i]\n",
    "    k = choices[i]\n",
    "    ink = X[ind].mean()\n",
    "    print(\"%d: %f\"%(ind,ink))\n",
    "    \n",
    "print(\"index: ink <-- answer\")\n",
    "for i in range(10):\n",
    "    ind = inds[i]\n",
    "    k = choices[i]\n",
    "    ink = X[ind].mean()\n",
    "    print(\"%d: %f <-- %d: %f, %f\"%(ind,ink,k,dwise[k][0],dwise[k][1]))"
   ]
  },
  {
   "cell_type": "code",
   "execution_count": null,
   "metadata": {},
   "outputs": [],
   "source": [
    "rng = np.random.RandomState(1)\n",
    "choices = np.arange(10)\n",
    "rng.shuffle(choices)\n",
    "print(choices)\n",
    "inds = np.zeros((10,), dtype=int)\n",
    "for i in range(10):\n",
    "    mask = (y == choices[i])\n",
    "    inds[i] = rng.choice(np.arange(N)[mask])\n",
    "\n",
    "print(\"ind: neighboring digits\")\n",
    "for i in range(10):\n",
    "    ind = inds[i]\n",
    "    k = choices[i]\n",
    "    x = X[ind]\n",
    "    dist = ((x - X)**2).sum(axis=-1).sum(axis=-1)\n",
    "    nbr = y[dist.argsort()[1:6]]\n",
    "    print(\"%d: %s\"%(ind, nbr))\n",
    "    \n",
    "print(\"ind: neighboring digits <-- answer\")\n",
    "for i in range(10):\n",
    "    ind = inds[i]\n",
    "    k = choices[i]\n",
    "    x = X[ind]\n",
    "    dist = ((x - X)**2).sum(axis=-1).sum(axis=-1)\n",
    "    nbr = y[dist.argsort()[1:6]]\n",
    "    print(\"%d: %s <-- %d\"%(ind, nbr, k))"
   ]
  },
  {
   "cell_type": "code",
   "execution_count": null,
   "metadata": {
    "slideshow": {
     "slide_type": "skip"
    }
   },
   "outputs": [],
   "source": []
  }
 ],
 "metadata": {
  "kernelspec": {
   "display_name": "Python 3",
   "language": "python",
   "name": "python3"
  },
  "language_info": {
   "codemirror_mode": {
    "name": "ipython",
    "version": 3
   },
   "file_extension": ".py",
   "mimetype": "text/x-python",
   "name": "python",
   "nbconvert_exporter": "python",
   "pygments_lexer": "ipython3",
   "version": "3.9.3"
  }
 },
 "nbformat": 4,
 "nbformat_minor": 4
}
