{
 "cells": [
  {
   "cell_type": "markdown",
   "metadata": {},
   "source": [
    "# 微積分（Calculus）"
   ]
  },
  {
   "cell_type": "markdown",
   "metadata": {},
   "source": [
    "![Creative Commons License](https://i.creativecommons.org/l/by/4.0/88x31.png)\n",
    "\n",
    "This work by Jephian Lin is licensed under a [Creative Commons Attribution 4.0 International License](http://creativecommons.org/licenses/by/4.0/)."
   ]
  },
  {
   "cell_type": "markdown",
   "metadata": {},
   "source": [
    "_Tested on SageMath version 8.7_"
   ]
  },
  {
   "cell_type": "code",
   "execution_count": 1,
   "metadata": {},
   "outputs": [],
   "source": [
    "import numpy as np\n",
    "import matplotlib.pyplot as plt"
   ]
  },
  {
   "cell_type": "markdown",
   "metadata": {},
   "source": [
    "## 極限\n",
    "當 $x$ 非常靠近一個數值的時候  \n",
    "往往 $f(x)$ 也會非常靠近一個數值"
   ]
  },
  {
   "cell_type": "markdown",
   "metadata": {},
   "source": [
    "想像你眼前有一根桿子（紅線）  \n",
    "擋住一小部份的視線  \n",
    "這時有一隻鳥從左邊往右邊飛過  \n",
    "牠飛過桿子後方的時候被遮住了  \n",
    "你猜得到牠在桿子後方時的高度嗎？"
   ]
  },
  {
   "cell_type": "code",
   "execution_count": 9,
   "metadata": {},
   "outputs": [
    {
     "data": {
      "text/plain": [
       "[<matplotlib.lines.Line2D object at 0x7f2ca2382390>]"
      ]
     },
     "execution_count": 9,
     "metadata": {},
     "output_type": "execute_result"
    },
    {
     "data": {
      "image/png": "[encoded data removed]",
      "text/plain": [
       "<matplotlib.figure.Figure object at 0x7f2ca248d210>"
      ]
     },
     "metadata": {},
     "output_type": "display_data"
    }
   ],
   "source": [
    "x = np.linspace(0,10,20)\n",
    "y = 0.5 * np.sin(x) + 2\n",
    "plt.axis('equal')\n",
    "plt.plot(x,y)\n",
    "plt.plot([5,5], [0,4], c='red')"
   ]
  },
  {
   "cell_type": "markdown",
   "metadata": {},
   "source": [
    "如果 $f(x)$ 的函數值沒有亂跳  \n",
    "在 $x$ 非常接近某一點 $x_0$ 的時候  \n",
    "$f(x)$ 也會非常接近某一數數值  \n",
    "這個數值我們稱之為當 $x$ 趨近到 $x_0$ 時 $f(x)$ 的**極限**  \n",
    "記作 $\\lim_{x\\rightarrow x_0}f(x)$"
   ]
  },
  {
   "cell_type": "markdown",
   "metadata": {},
   "source": [
    "比如說 $f(x) = x^2$  \n",
    "則 $\\lim_{x\\rightarrow 3}f(x) = 9$"
   ]
  },
  {
   "cell_type": "markdown",
   "metadata": {},
   "source": [
    "但在數學上  \n",
    "我們並不在意 $f(x_0)$ 是多少  \n",
    "也許它是一個很大的數字  \n",
    "或是 $f(x_0)$ 沒有定義  \n",
    "$\\lim_{x\\rightarrow x_0}f(x)$ 代表的是  \n",
    "當 $x$ 很接近**但不等於** $x_0$ 的時候  \n",
    "$f(x)$ 會接近的數"
   ]
  },
  {
   "cell_type": "markdown",
   "metadata": {},
   "source": [
    "常見的例子是分數  \n",
    "比如說 $f(x) = \\frac{x^2（x-3)}{x-3}$  \n",
    "因為分母不得為零，$f(3)$ 沒有定義  \n",
    "但這並不影響極限的計算  \n",
    "因為 $x\\neq 3$  \n",
    "$\\lim_{x\\rightarrow 3}\\frac{x^2（x-3)}{x-3} = \\lim_{x\\rightarrow 3}x^2 = 9$"
   ]
  },
  {
   "cell_type": "markdown",
   "metadata": {},
   "source": [
    "可以代入 $x_0$ 附近的數  \n",
    "來求極限值的近似值"
   ]
  },
  {
   "cell_type": "code",
   "execution_count": 13,
   "metadata": {},
   "outputs": [
    {
     "data": {
      "text/plain": [
       "9.00060001000000"
      ]
     },
     "execution_count": 13,
     "metadata": {},
     "output_type": "execute_result"
    }
   ],
   "source": [
    "f = lambda x: x**2 * (x-3) / (x-3)\n",
    "f(3.0001)\n",
    "# f(3) 可以試試看 f(3) 會出錯，因為分母為零"
   ]
  },
  {
   "cell_type": "markdown",
   "metadata": {},
   "source": [
    "要求出正確的極限值  \n",
    "通常要經過代數運算  \n",
    "而 Sage 的 `limit` 函數可以處理這件事"
   ]
  },
  {
   "cell_type": "code",
   "execution_count": 16,
   "metadata": {},
   "outputs": [
    {
     "data": {
      "text/plain": [
       "9"
      ]
     },
     "execution_count": 16,
     "metadata": {},
     "output_type": "execute_result"
    }
   ],
   "source": [
    "x = var('x') ### 將 x 設為一個變數\n",
    "limit(x**2 * (x-3) / (x-3), x=3)"
   ]
  },
  {
   "cell_type": "markdown",
   "metadata": {},
   "source": [
    "$\\lim_{x\\rightarrow 2}\\frac{x^2 - x -2}{x-2} = 3$"
   ]
  },
  {
   "cell_type": "code",
   "execution_count": 21,
   "metadata": {},
   "outputs": [
    {
     "data": {
      "text/plain": [
       "3"
      ]
     },
     "execution_count": 21,
     "metadata": {},
     "output_type": "execute_result"
    }
   ],
   "source": [
    "limit( (x^2 - x - 2) / (x-2), x=2)"
   ]
  },
  {
   "cell_type": "markdown",
   "metadata": {},
   "source": [
    "$\\lim_{x\\rightarrow 1}\\frac{x^{10} - 1}{x - 1} = 10$"
   ]
  },
  {
   "cell_type": "code",
   "execution_count": 20,
   "metadata": {},
   "outputs": [
    {
     "data": {
      "text/plain": [
       "10"
      ]
     },
     "execution_count": 20,
     "metadata": {},
     "output_type": "execute_result"
    }
   ],
   "source": [
    "limit( (x^10 - 1) / (x-1), x=1)"
   ]
  },
  {
   "cell_type": "markdown",
   "metadata": {},
   "source": [
    "在 Sage 裡可以用 `oo` 來代表無限大  \n",
    "$\\lim_{x\\rightarrow\\infty}\\frac{1}{x} = 0$"
   ]
  },
  {
   "cell_type": "code",
   "execution_count": 22,
   "metadata": {},
   "outputs": [
    {
     "data": {
      "text/plain": [
       "0"
      ]
     },
     "execution_count": 22,
     "metadata": {},
     "output_type": "execute_result"
    }
   ],
   "source": [
    "limit( 1/x, x=oo)"
   ]
  },
  {
   "cell_type": "markdown",
   "metadata": {},
   "source": [
    "**歐拉常數** $e$ 的其中一種定義方式為  \n",
    "$e = \\lim_{x\\rightarrow\\infty}\\left(1+\\frac{1}{x}\\right)^x$"
   ]
  },
  {
   "cell_type": "code",
   "execution_count": 19,
   "metadata": {
    "scrolled": true
   },
   "outputs": [
    {
     "data": {
      "text/plain": [
       "e"
      ]
     },
     "execution_count": 19,
     "metadata": {},
     "output_type": "execute_result"
    }
   ],
   "source": [
    "limit( (1+1/x)^x, x=oo)"
   ]
  },
  {
   "cell_type": "markdown",
   "metadata": {},
   "source": [
    "## 微分\n",
    "一個函數 $f(x)$ 在某一點 $x_0$ 的**微分**為  \n",
    "$f(x)$ 在 $x_0$ 這點的切線斜率  \n",
    "$f'(x_0) = \\lim_{h\\rightarrow 0}\\frac{f(x_0+h) - f(x_0)}{h}$"
   ]
  },
  {
   "cell_type": "markdown",
   "metadata": {},
   "source": [
    "![derivative](https://upload.wikimedia.org/wikipedia/commons/c/cc/Tangent_animation.gif \"derivative\")  \n",
    "Source:  Brnbrnz / CC BY-SA (https://creativecommons.org/licenses/by-sa/4.0)"
   ]
  },
  {
   "cell_type": "markdown",
   "metadata": {},
   "source": [
    "以 $f(x) = x^2$ 為例  \n",
    "$f'(0) = 0$"
   ]
  },
  {
   "cell_type": "code",
   "execution_count": 1,
   "metadata": {},
   "outputs": [
    {
     "name": "stdout",
     "output_type": "stream",
     "text": [
      "('quo =', h)\n"
     ]
    },
    {
     "data": {
      "text/plain": [
       "0"
      ]
     },
     "execution_count": 1,
     "metadata": {},
     "output_type": "execute_result"
    }
   ],
   "source": [
    "x,h = var('x h')\n",
    "f = x^2\n",
    "x0 = 0\n",
    "quo = (f.subs(x = x0+h) - f.subs(x = x0)) / h\n",
    "print(\"quo =\", quo)\n",
    "limit(quo, h=0)"
   ]
  },
  {
   "cell_type": "markdown",
   "metadata": {},
   "source": [
    "$f'(1) = 2$"
   ]
  },
  {
   "cell_type": "code",
   "execution_count": 28,
   "metadata": {},
   "outputs": [
    {
     "name": "stdout",
     "output_type": "stream",
     "text": [
      "('quo =', ((h + 1)^2 - 1)/h)\n"
     ]
    },
    {
     "data": {
      "text/plain": [
       "2"
      ]
     },
     "execution_count": 28,
     "metadata": {},
     "output_type": "execute_result"
    }
   ],
   "source": [
    "x0 = 1\n",
    "quo = (f.subs(x = x0+h) - f.subs(x = x0)) / h\n",
    "print(\"quo =\", quo)\n",
    "limit(quo, h=0)"
   ]
  },
  {
   "cell_type": "markdown",
   "metadata": {},
   "source": [
    "另外一種計算方法  \n",
    "是把 $x_0$ 當作一個未知數 $y$  \n",
    "先計算完  \n",
    "$f'(y) = \\lim_{h\\rightarrow 0}\\frac{f(y+h) - f(y)}{h}$  \n",
    "再代入 $y=x_0$"
   ]
  },
  {
   "cell_type": "code",
   "execution_count": 30,
   "metadata": {},
   "outputs": [
    {
     "name": "stdout",
     "output_type": "stream",
     "text": [
      "('quo =', ((h + y)^2 - y^2)/h)\n"
     ]
    },
    {
     "data": {
      "text/plain": [
       "2*y"
      ]
     },
     "execution_count": 30,
     "metadata": {},
     "output_type": "execute_result"
    }
   ],
   "source": [
    "x,y,h = var('x y h')\n",
    "f = x^2\n",
    "quo = (f.subs(x = y+h) - f.subs(x = y)) / h\n",
    "print(\"quo =\", quo)\n",
    "limit(quo, h=0)"
   ]
  },
  {
   "cell_type": "markdown",
   "metadata": {},
   "source": [
    "這裡算出來的 $f'(y)$ 被稱作 $f(x)$ 的**導函數**  \n",
    "因為 $y$ 這個變數不一定要叫 $y$  \n",
    "通常導函數會沿用原本的變數 $x$ 記作 $f'(x)$"
   ]
  },
  {
   "cell_type": "markdown",
   "metadata": {},
   "source": [
    "例如 $f(x) = x^2$  \n",
    "的導函數就是 $f'(x) = 2x$"
   ]
  },
  {
   "cell_type": "code",
   "execution_count": 31,
   "metadata": {},
   "outputs": [
    {
     "name": "stdout",
     "output_type": "stream",
     "text": [
      "('quo =', ((h + x)^2 - x^2)/h)\n"
     ]
    },
    {
     "data": {
      "text/plain": [
       "2*x"
      ]
     },
     "execution_count": 31,
     "metadata": {},
     "output_type": "execute_result"
    }
   ],
   "source": [
    "x,h = var('x h')\n",
    "f = x^2\n",
    "quo = (f.subs(x = x+h) - f.subs(x = x)) / h\n",
    "print(\"quo =\", quo)\n",
    "limit(quo, h=0)"
   ]
  },
  {
   "cell_type": "markdown",
   "metadata": {},
   "source": [
    "如此一來就可以快速地算出  \n",
    "$f'(0) = 0$、$f'(1) = 2$"
   ]
  },
  {
   "cell_type": "markdown",
   "metadata": {},
   "source": [
    "Sage 擅長代數運算  \n",
    "當 `f` 是一個函數（`x` 的表示式）時  \n",
    "可以用 `f.derivative()` 來計算 `f` 的導函數"
   ]
  },
  {
   "cell_type": "code",
   "execution_count": 2,
   "metadata": {},
   "outputs": [
    {
     "data": {
      "text/plain": [
       "2*x"
      ]
     },
     "execution_count": 2,
     "metadata": {},
     "output_type": "execute_result"
    }
   ],
   "source": [
    "f = x^2\n",
    "f.derivative()"
   ]
  },
  {
   "cell_type": "code",
   "execution_count": 34,
   "metadata": {},
   "outputs": [
    {
     "data": {
      "text/plain": [
       "3*x^2"
      ]
     },
     "execution_count": 34,
     "metadata": {},
     "output_type": "execute_result"
    }
   ],
   "source": [
    "f = x^3\n",
    "f.derivative()"
   ]
  },
  {
   "cell_type": "code",
   "execution_count": 35,
   "metadata": {},
   "outputs": [
    {
     "data": {
      "text/plain": [
       "3*x^2 + 2*x"
      ]
     },
     "execution_count": 35,
     "metadata": {},
     "output_type": "execute_result"
    }
   ],
   "source": [
    "f = x^3 + x^2\n",
    "f.derivative()"
   ]
  },
  {
   "cell_type": "code",
   "execution_count": 36,
   "metadata": {},
   "outputs": [
    {
     "data": {
      "text/plain": [
       "cos(x)"
      ]
     },
     "execution_count": 36,
     "metadata": {},
     "output_type": "execute_result"
    }
   ],
   "source": [
    "f = sin(x)\n",
    "f.derivative()"
   ]
  },
  {
   "cell_type": "markdown",
   "metadata": {},
   "source": [
    "### 瞬時速度\n",
    "若一個物體在數線上的位置  \n",
    "隨著時間 $t$ 改變  \n",
    "並且可以用 $f(t)$ 來表示  \n",
    "則 $f'(t)$ 為物體在時間 $t$ 時的**瞬時速度**"
   ]
  },
  {
   "cell_type": "markdown",
   "metadata": {},
   "source": [
    "比如說自由落體  \n",
    "物體在時間 $t$ 時距離起始點的距離為 $f(t) = 4.9t^2$  "
   ]
  },
  {
   "cell_type": "code",
   "execution_count": 37,
   "metadata": {},
   "outputs": [],
   "source": [
    "t = var('t')\n",
    "f = 4.9 * t^2\n",
    "fprime = f.derivative()"
   ]
  },
  {
   "cell_type": "markdown",
   "metadata": {},
   "source": [
    "初始速度為 0"
   ]
  },
  {
   "cell_type": "code",
   "execution_count": 39,
   "metadata": {},
   "outputs": [
    {
     "data": {
      "text/plain": [
       "0.000000000000000"
      ]
     },
     "execution_count": 39,
     "metadata": {},
     "output_type": "execute_result"
    }
   ],
   "source": [
    "fprime.subs(t=0)"
   ]
  },
  {
   "cell_type": "markdown",
   "metadata": {},
   "source": [
    "$t=1$ 時速度為，且速度隨時間增長"
   ]
  },
  {
   "cell_type": "code",
   "execution_count": 40,
   "metadata": {},
   "outputs": [
    {
     "data": {
      "text/plain": [
       "9.80000000000000"
      ]
     },
     "execution_count": 40,
     "metadata": {},
     "output_type": "execute_result"
    }
   ],
   "source": [
    "fprime.subs(t=1)"
   ]
  },
  {
   "cell_type": "markdown",
   "metadata": {},
   "source": [
    "## 積分\n",
    "積分在計算函數 $f(x)$ 底下的面積  "
   ]
  },
  {
   "cell_type": "markdown",
   "metadata": {},
   "source": [
    "當 $h$ 很小的時候  \n",
    "從 $x=x_0$ 到 $x=x_0+h$ 所蓋住 $f(x)$ 的面積  \n",
    "大約是 $h\\cdot f(x_0)$  "
   ]
  },
  {
   "cell_type": "markdown",
   "metadata": {},
   "source": [
    "所以 $f(x)$ 介在 $x=a$ 和 $x=b$ 之間的面積  \n",
    "可以寫為  \n",
    "$\\int_a^b f(x)\\,dx = \\lim_{n\\rightarrow\\infty}\\sum_{k=1}^{n}f(a+kh)h$  \n",
    "這裡 $h = \\frac{b-a}{n}$"
   ]
  },
  {
   "cell_type": "markdown",
   "metadata": {},
   "source": [
    "![integral](https://upload.wikimedia.org/wikipedia/commons/0/0a/Riemann_Integration_and_Darboux_Upper_Sums.gif \"integral\")  \n",
    "Source:  IkamusumeFan / CC BY-SA (https://creativecommons.org/licenses/by-sa/3.0)"
   ]
  },
  {
   "cell_type": "markdown",
   "metadata": {},
   "source": [
    "積分的計算更為繁瑣  \n",
    "但依然可以用逼近的方法來求出近似值"
   ]
  },
  {
   "cell_type": "markdown",
   "metadata": {},
   "source": [
    "比如說 $f(x) = x^2$  \n",
    "$a=1$ 到 $b=3$"
   ]
  },
  {
   "cell_type": "code",
   "execution_count": 2,
   "metadata": {},
   "outputs": [
    {
     "name": "stdout",
     "output_type": "stream",
     "text": [
      "area ~ 9.17\n"
     ]
    }
   ],
   "source": [
    "a,b = 1,3\n",
    "f = lambda x: x**2\n",
    "\n",
    "n = 20\n",
    "h = (b-a) / float(n)\n",
    "x = np.linspace(a,b,n+1)\n",
    "area = f(x).sum() * h\n",
    "print(\"area ~ %s\"%area)"
   ]
  },
  {
   "cell_type": "markdown",
   "metadata": {},
   "source": [
    "比如說上半圓 $f(x) = \\sqrt{1-x^2}$  \n",
    "$a = -1$ 到 $b = 1$"
   ]
  },
  {
   "cell_type": "code",
   "execution_count": 3,
   "metadata": {},
   "outputs": [
    {
     "name": "stdout",
     "output_type": "stream",
     "text": [
      "area ~ 1.5522591631241591\n"
     ]
    }
   ],
   "source": [
    "a,b = -1,1\n",
    "f = lambda x: np.sqrt(1-x**2)\n",
    "\n",
    "n = 20\n",
    "h = (b-a) / float(n)\n",
    "x = np.linspace(a,b,n+1)\n",
    "area = f(x).sum() * h\n",
    "print(\"area ~ %s\"%area)"
   ]
  },
  {
   "cell_type": "markdown",
   "metadata": {},
   "source": [
    "然而確切的數值必須經過複雜的代數計算  \n",
    "在 Sage 中  \n",
    "如果 `f` 是一個 `x` 的表示式  \n",
    "則 `f.integral(x, a, b)` 可以用來計算 $\\int_a^b f(x)\\,dx$"
   ]
  },
  {
   "cell_type": "markdown",
   "metadata": {},
   "source": [
    "$f(x) = x^2$  \n",
    "$\\int_1^3 f(x)\\,dx = \\frac{26}{3} \\sim 8.666\\ldots$"
   ]
  },
  {
   "cell_type": "code",
   "execution_count": 56,
   "metadata": {},
   "outputs": [
    {
     "data": {
      "text/plain": [
       "26/3"
      ]
     },
     "execution_count": 56,
     "metadata": {},
     "output_type": "execute_result"
    }
   ],
   "source": [
    "x = var('x')\n",
    "f = x^2\n",
    "f.integral(x, 1, 3)"
   ]
  },
  {
   "cell_type": "markdown",
   "metadata": {},
   "source": [
    "$f(x) = \\sqrt{1-x^2}$  \n",
    "$\\int_{-1}^1 f(x)\\,dx = \\frac{\\pi}{2} \\sim 1.571\\ldots$"
   ]
  },
  {
   "cell_type": "code",
   "execution_count": 60,
   "metadata": {},
   "outputs": [
    {
     "data": {
      "text/plain": [
       "1/2*pi"
      ]
     },
     "execution_count": 60,
     "metadata": {},
     "output_type": "execute_result"
    }
   ],
   "source": [
    "x = var('x')\n",
    "f = sqrt(1-x^2)\n",
    "f.integral(x, -1, 1)"
   ]
  },
  {
   "cell_type": "markdown",
   "metadata": {},
   "source": [
    "一些特殊的幾何圖形可以直接計算  \n",
    "其函數下的面積"
   ]
  },
  {
   "cell_type": "markdown",
   "metadata": {},
   "source": [
    "比如說 $f(x) = x$  \n",
    "從 $x=0$ 到 $x=3$  \n",
    "所圍出來的是一個側邊長為 $3$ 的等腰三角形  \n",
    "所以面積為 $\\frac{1}{2}\\cdot 3^2 = 4.5$"
   ]
  },
  {
   "cell_type": "code",
   "execution_count": 61,
   "metadata": {},
   "outputs": [
    {
     "data": {
      "text/plain": [
       "9/2"
      ]
     },
     "execution_count": 61,
     "metadata": {},
     "output_type": "execute_result"
    }
   ],
   "source": [
    "x = var('x')\n",
    "f = x\n",
    "f.integral(x, 0, 3)"
   ]
  },
  {
   "cell_type": "markdown",
   "metadata": {},
   "source": [
    "## 動手試試看"
   ]
  },
  {
   "cell_type": "markdown",
   "metadata": {},
   "source": [
    "###### 練習 1\n",
    "\n",
    "試著運用函數 `limit`，  \n",
    "求出 $\\lim_{x\\rightarrow 5} \\frac{x^2 - 25}{x - 5}$"
   ]
  },
  {
   "cell_type": "code",
   "execution_count": null,
   "metadata": {},
   "outputs": [],
   "source": [
    "### your answer here"
   ]
  },
  {
   "cell_type": "markdown",
   "metadata": {},
   "source": [
    "###### 練習 2\n",
    "\n",
    "試著運用函數 `limit`，  \n",
    "求出 $\\lim_{x\\rightarrow 0} \\frac{\\sin(x)}{x}$"
   ]
  },
  {
   "cell_type": "code",
   "execution_count": null,
   "metadata": {},
   "outputs": [],
   "source": [
    "### your answer here"
   ]
  },
  {
   "cell_type": "markdown",
   "metadata": {},
   "source": [
    "###### 練習 3\n",
    "\n",
    "試著運用函數 `limit`，  \n",
    "求出函數 $\\frac{|x|}{x}$ ，當x趨近於 `0` 時的__左極限__和**右極限**  \n",
    "(提示：在`limit`函數中加入參數 `dir = '+'` 或 `dir = '-'` 即可改變逼近方向)"
   ]
  },
  {
   "cell_type": "code",
   "execution_count": null,
   "metadata": {},
   "outputs": [],
   "source": [
    "### your answer here"
   ]
  },
  {
   "cell_type": "markdown",
   "metadata": {},
   "source": [
    "##### 練習 4\n",
    "\n",
    "試著運用 `derivative` 函數，  \n",
    "計算 $f(x) = e^{2x}$ 的一次微分、二次微分、三次微分  \n",
    "並觀察三者的結果"
   ]
  },
  {
   "cell_type": "code",
   "execution_count": null,
   "metadata": {},
   "outputs": [],
   "source": [
    "### your answer here"
   ]
  },
  {
   "cell_type": "markdown",
   "metadata": {},
   "source": [
    "##### 練習 5\n",
    "\n",
    "試著用上面提及的用很多個長方形逼近曲線下面積的方法，  \n",
    "估算 $x^2 + 5$ 在 `x = 1` 到 `x = 4` 曲線下的面積  "
   ]
  },
  {
   "cell_type": "code",
   "execution_count": null,
   "metadata": {},
   "outputs": [],
   "source": [
    "### your answer here"
   ]
  },
  {
   "cell_type": "markdown",
   "metadata": {},
   "source": [
    "##### 練習 6\n",
    "\n",
    "試著運用 `integral()` 函數，  \n",
    "計算 $f(x) = x^2 + 5$ 從 `x = 1` 到 `x = 2` 的積分"
   ]
  },
  {
   "cell_type": "code",
   "execution_count": null,
   "metadata": {},
   "outputs": [],
   "source": [
    "### your answer here"
   ]
  },
  {
   "cell_type": "markdown",
   "metadata": {},
   "source": [
    "##### 練習 7\n",
    "\n",
    "試著運用 `integral()` 函數，  \n",
    "計算 `f(x) = 1/x` 從 `x = 1` 到 `x = 2` 的積分"
   ]
  },
  {
   "cell_type": "code",
   "execution_count": null,
   "metadata": {},
   "outputs": [],
   "source": [
    "### your answer here"
   ]
  },
  {
   "cell_type": "markdown",
   "metadata": {},
   "source": [
    "##### 練習 8\n",
    "\n",
    "承上題，函數 $f(x) = 1/x$ 可以在 [`0` 到 `任一正整數`] 之間做用`integral()` 函數做積分嗎？  \n",
    "若不能的話想想看為什麼？"
   ]
  },
  {
   "cell_type": "code",
   "execution_count": null,
   "metadata": {},
   "outputs": [],
   "source": [
    "### your answer here"
   ]
  },
  {
   "cell_type": "markdown",
   "metadata": {},
   "source": [
    "##### 練習 9\n",
    "\n",
    "已知一點從原點出發、以`x > 0`為正，做一維的直線運動，且已知它的速度對時間的函數  \n",
    "$v(t) = 3t^2 + 5t$   \n",
    "定義一個函數 `position(t)` 其功能為：  \n",
    "傳入當前的時間 `t` 並回傳該點當下的座標"
   ]
  },
  {
   "cell_type": "code",
   "execution_count": null,
   "metadata": {},
   "outputs": [],
   "source": [
    "### your answer here"
   ]
  },
  {
   "cell_type": "markdown",
   "metadata": {},
   "source": [
    "##### 練習 10\n",
    "\n",
    "承上題，  \n",
    "定義一個函數 `acceleration(t)` 其功能為：  \n",
    "傳入當前的時間 `t` 並回傳該點當下的加速度"
   ]
  },
  {
   "cell_type": "code",
   "execution_count": null,
   "metadata": {},
   "outputs": [],
   "source": [
    "### your answer here"
   ]
  }
 ],
 "metadata": {
  "kernelspec": {
   "display_name": "SageMath 9.3",
   "language": "sage",
   "name": "sagemath"
  },
  "language_info": {
   "codemirror_mode": {
    "name": "ipython",
    "version": 3
   },
   "file_extension": ".py",
   "mimetype": "text/x-python",
   "name": "python",
   "nbconvert_exporter": "python",
   "pygments_lexer": "ipython3",
   "version": "3.9.6"
  }
 },
 "nbformat": 4,
 "nbformat_minor": 2
}
