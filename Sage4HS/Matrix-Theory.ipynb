{
 "cells": [
  {
   "cell_type": "markdown",
   "metadata": {},
   "source": [
    "# 矩陣理論（Matrix Theory）"
   ]
  },
  {
   "cell_type": "markdown",
   "metadata": {},
   "source": [
    "![Creative Commons License](https://i.creativecommons.org/l/by/4.0/88x31.png)\n",
    "\n",
    "This work by Jephian Lin is licensed under a [Creative Commons Attribution 4.0 International License](http://creativecommons.org/licenses/by/4.0/)."
   ]
  },
  {
   "cell_type": "markdown",
   "metadata": {},
   "source": [
    "_Tested on SageMath version 8.7_"
   ]
  },
  {
   "cell_type": "markdown",
   "metadata": {},
   "source": [
    "## 反矩陣"
   ]
  },
  {
   "cell_type": "markdown",
   "metadata": {},
   "source": [
    "在數字的世界裡  \n",
    "任何數乘上 $1$ 數字都不變"
   ]
  },
  {
   "cell_type": "markdown",
   "metadata": {},
   "source": [
    "在矩陣世界裡也有一個類似 $1$ 的角色  \n",
    "叫作**單位矩陣** $I = \n",
    "\\begin{bmatrix}\n",
    " 1 & 0 & \\cdots & 0 \\\\\n",
    " 0 & 1 & \\ddots & \\vdots \\\\\n",
    " \\vdots & \\ddots & \\ddots & 0 \\\\\n",
    " 0 & \\cdots & 0 & 1\n",
    "\\end{bmatrix}$\n",
    "\n",
    "任何矩陣乘上單位矩陣乘都不會改變"
   ]
  },
  {
   "cell_type": "code",
   "execution_count": 2,
   "metadata": {},
   "outputs": [
    {
     "name": "stdout",
     "output_type": "stream",
     "text": [
      "A =\n",
      "[1 2 3]\n",
      "[4 5 6]\n",
      "[7 8 9]\n",
      "AI =\n",
      "[1 2 3]\n",
      "[4 5 6]\n",
      "[7 8 9]\n",
      "IA =\n",
      "[1 2 3]\n",
      "[4 5 6]\n",
      "[7 8 9]\n"
     ]
    }
   ],
   "source": [
    "A = matrix([\n",
    "        [1,2,3],\n",
    "        [4,5,6],\n",
    "        [7,8,9]\n",
    "    ])\n",
    "I = identity_matrix(3)\n",
    "print(\"A =\")\n",
    "print(A)\n",
    "print(\"AI =\")\n",
    "print(A * I)\n",
    "print(\"IA =\")\n",
    "print(I * A)"
   ]
  },
  {
   "cell_type": "markdown",
   "metadata": {},
   "source": [
    "數字世界裡的任何非零數 $x$  \n",
    "都有一個**倒數** $x^{-1}$  \n",
    "使得 $x\\cdot x^{-1} = 1$"
   ]
  },
  {
   "cell_type": "markdown",
   "metadata": {},
   "source": [
    "矩陣世界裡的部份的方陣 $A$（長寬一樣的矩陣）  \n",
    "也有一個**反矩陣** $A^{-1}$  \n",
    "使得 $A\\cdot A^{-1} = I$"
   ]
  },
  {
   "cell_type": "code",
   "execution_count": 4,
   "metadata": {},
   "outputs": [
    {
     "name": "stdout",
     "output_type": "stream",
     "text": [
      "A =\n",
      "[1 2]\n",
      "[3 4]\n",
      "Ainv =\n",
      "[  -2    1]\n",
      "[ 3/2 -1/2]\n",
      "A Ainv =\n",
      "[1 0]\n",
      "[0 1]\n"
     ]
    }
   ],
   "source": [
    "A = matrix([\n",
    "        [1,2],\n",
    "        [3,4]\n",
    "    ])\n",
    "Ainv = A.inverse()\n",
    "print(\"A =\")\n",
    "print(A)\n",
    "print(\"Ainv =\")\n",
    "print(Ainv)\n",
    "print(\"A Ainv =\")\n",
    "print(A * Ainv)"
   ]
  },
  {
   "cell_type": "markdown",
   "metadata": {},
   "source": [
    "### 用反矩陣求解\n",
    "若一個線性方程組所對應的矩陣有反矩陣  \n",
    "則方程組的解可以用反矩陣寫出來  \n",
    "$\\begin{aligned}\n",
    " x + 2y &= 3 \\\\\n",
    "3x + 4y &= 7\n",
    "\\end{aligned}\\implies  \n",
    "\\begin{bmatrix}\n",
    " 1 & 2 \\\\ \n",
    " 3 & 4 \n",
    "\\end{bmatrix}\n",
    "\\begin{bmatrix} x \\\\ y \\end{bmatrix} \n",
    "=\n",
    "\\begin{bmatrix} 3 \\\\ 7 \\end{bmatrix}$  \n",
    "$\\implies\\begin{bmatrix} x \\\\ y \\end{bmatrix} = \n",
    "\\begin{bmatrix}  \n",
    " 1 & 2 \\\\\n",
    " 3 & 4 \n",
    "\\end{bmatrix}^{-1}\n",
    "\\begin{bmatrix} 3 \\\\ 7 \\end{bmatrix}$"
   ]
  },
  {
   "cell_type": "code",
   "execution_count": 6,
   "metadata": {},
   "outputs": [
    {
     "name": "stdout",
     "output_type": "stream",
     "text": [
      "Ainv =\n",
      "[  -2    1]\n",
      "[ 3/2 -1/2]\n",
      "b =\n",
      "[3]\n",
      "[7]\n",
      "Ainv b =\n",
      "[1]\n",
      "[1]\n"
     ]
    }
   ],
   "source": [
    "A = matrix([\n",
    "        [1,2],\n",
    "        [3,4]\n",
    "    ])\n",
    "b = matrix([\n",
    "        [3],\n",
    "        [7]\n",
    "    ])\n",
    "Ainv = A.inverse()\n",
    "print(\"Ainv =\")\n",
    "print(Ainv)\n",
    "print(\"b =\")\n",
    "print(b)\n",
    "print(\"Ainv b =\")\n",
    "print(Ainv * b)"
   ]
  },
  {
   "cell_type": "markdown",
   "metadata": {},
   "source": [
    "### 如何求反矩陣\n",
    "令 ${\\bf e}_1 = (1,0,0,\\ldots,0)^\\top$,  \n",
    "${\\bf e}_2 = (0,1,0,\\ldots,0)^\\top$, $\\ldots$  \n",
    "方程式 $A{\\bf v} = {\\bf e}_j$ 中 ${\\bf v}$ 的解就是 $A^{-1}$ 的第 $j$ 行"
   ]
  },
  {
   "cell_type": "markdown",
   "metadata": {},
   "source": [
    "$\\begin{bmatrix}\n",
    " 1 & 2 \\\\\n",
    " 3 & 4 \n",
    "\\end{bmatrix}\n",
    "\\begin{bmatrix} x \\\\ y \\end{bmatrix}\n",
    "=\n",
    "\\begin{bmatrix} 1 \\\\ 0 \\end{bmatrix}  \n",
    "\\implies \n",
    "\\begin{bmatrix} x \\\\ y \\end{bmatrix}\n",
    "=\n",
    "\\begin{bmatrix} -2 \\\\ 3/2 \\end{bmatrix}$  \n",
    "$\\begin{bmatrix}\n",
    " 1 & 2 \\\\\n",
    " 3 & 4 \n",
    "\\end{bmatrix}\n",
    "\\begin{bmatrix} x \\\\ y \\end{bmatrix}\n",
    "=\n",
    "\\begin{bmatrix} 0 \\\\ 1 \\end{bmatrix}  \n",
    "\\implies \n",
    "\\begin{bmatrix} x \\\\ y \\end{bmatrix}\n",
    "=\n",
    "\\begin{bmatrix} 3/2 \\\\ -1/2 \\end{bmatrix}$"
   ]
  },
  {
   "cell_type": "markdown",
   "metadata": {},
   "source": [
    "$\\begin{bmatrix}\n",
    " 1 & 2 \\\\\n",
    " 3 & 4 \n",
    "\\end{bmatrix}^{-1}\n",
    "= \n",
    "\\begin{bmatrix}\n",
    " -2 & 3/2 \\\\\n",
    " 3/2 & -1/2\n",
    "\\end{bmatrix}$"
   ]
  },
  {
   "cell_type": "markdown",
   "metadata": {},
   "source": [
    "## 行列式值\n",
    "每個方陣可以計算其行列式值  \n",
    "行列式值可以用來  \n",
    "判斷一個方陣是否有反矩陣"
   ]
  },
  {
   "cell_type": "markdown",
   "metadata": {},
   "source": [
    "$2\\times 2$ 方陣的行列式值為  \n",
    "$\\det\\begin{bmatrix} \n",
    " a & b \\\\\n",
    " c & d \n",
    "\\end{bmatrix}\n",
    "= ad - bc$"
   ]
  },
  {
   "cell_type": "code",
   "execution_count": 7,
   "metadata": {},
   "outputs": [
    {
     "data": {
      "text/plain": [
       "-2"
      ]
     },
     "execution_count": 7,
     "metadata": {},
     "output_type": "execute_result"
    }
   ],
   "source": [
    "A = matrix([\n",
    "        [1,2],\n",
    "        [3,4]\n",
    "    ])\n",
    "A.determinant()"
   ]
  },
  {
   "cell_type": "markdown",
   "metadata": {},
   "source": [
    "$3\\times 3$ 方陣的行列式值為  \n",
    "$\\det\\begin{bmatrix} \n",
    " a & b & c \\\\\n",
    " d & e & f \\\\\n",
    " g & h & i\n",
    "\\end{bmatrix}\n",
    "= aei + bfg + cdh - ceg - bdi - afh$"
   ]
  },
  {
   "cell_type": "code",
   "execution_count": 8,
   "metadata": {},
   "outputs": [
    {
     "data": {
      "text/plain": [
       "0"
      ]
     },
     "execution_count": 8,
     "metadata": {},
     "output_type": "execute_result"
    }
   ],
   "source": [
    "A = matrix([\n",
    "        [1,2,3],\n",
    "        [4,5,6],\n",
    "        [7,8,9]\n",
    "    ])\n",
    "A.determinant()"
   ]
  },
  {
   "cell_type": "markdown",
   "metadata": {},
   "source": [
    "高階矩陣必須利用**降階**的方式  \n",
    "來計算行列式值  "
   ]
  },
  {
   "cell_type": "markdown",
   "metadata": {},
   "source": [
    "若 $A=\\begin{bmatrix}a_{ij}\\end{bmatrix}$ 為一 $n\\times n$ 矩陣  \n",
    "令 $A_j$ 為一 $(n-1)\\times(n-1)$ 矩陣  \n",
    "這個小矩陣是由 $A$ 將第 $0$ 列及第 $j$ 行刪掉得來  \n",
    "則 $\\det(A) = \\sum_{j=0}^{n-1} (-1)^{0+j}a_{0j}\\det(A_j)$"
   ]
  },
  {
   "cell_type": "code",
   "execution_count": 25,
   "metadata": {},
   "outputs": [
    {
     "name": "stdout",
     "output_type": "stream",
     "text": [
      "A1 =\n",
      "[5 6]\n",
      "[8 9]\n",
      "det(A0) = -3\n",
      "A2 =\n",
      "[4 6]\n",
      "[7 9]\n",
      "det(A1) = -6\n",
      "A3 =\n",
      "[4 5]\n",
      "[7 8]\n",
      "det(A2) = -3\n"
     ]
    }
   ],
   "source": [
    "A = matrix([\n",
    "        [1,2,3],\n",
    "        [4,5,6],\n",
    "        [7,8,9]\n",
    "    ])\n",
    "A0 = A[[1,2],[1,2]]\n",
    "A1 = A[[1,2],[0,2]]\n",
    "A2 = A[[1,2],[0,1]]\n",
    "print(\"A1 =\")\n",
    "print(A0)\n",
    "print(\"det(A0) = %s\"%A0.determinant())\n",
    "print(\"A2 =\")\n",
    "print(A1)\n",
    "print(\"det(A1) = %s\"%A1.determinant())\n",
    "print(\"A3 =\")\n",
    "print(A2)\n",
    "print(\"det(A2) = %s\"%A2.determinant())"
   ]
  },
  {
   "cell_type": "markdown",
   "metadata": {},
   "source": [
    "若 `A` 為 Sage 裡的一方陣  \n",
    "則 `A.determinant()` 會自動計算行列式值"
   ]
  },
  {
   "cell_type": "code",
   "execution_count": 33,
   "metadata": {},
   "outputs": [
    {
     "data": {
      "text/plain": [
       "0"
      ]
     },
     "execution_count": 33,
     "metadata": {},
     "output_type": "execute_result"
    }
   ],
   "source": [
    "A = matrix([\n",
    "        [0, 1, 0, 1],\n",
    "        [1, 0, 1, 0],\n",
    "        [0, 1, 0, 1],\n",
    "        [1, 0, 1, 0]\n",
    "    ])\n",
    "A.determinant()"
   ]
  },
  {
   "cell_type": "markdown",
   "metadata": {},
   "source": [
    "就算式子裡有變數也可以算出來"
   ]
  },
  {
   "cell_type": "code",
   "execution_count": 34,
   "metadata": {},
   "outputs": [
    {
     "data": {
      "text/plain": [
       "x^4 - 4*x^2"
      ]
     },
     "execution_count": 34,
     "metadata": {},
     "output_type": "execute_result"
    }
   ],
   "source": [
    "x = var('x')\n",
    "Ax = matrix([\n",
    "        [x, -1, 0, -1],\n",
    "        [-1, x, -1, 0],\n",
    "        [0, -1, x, -1],\n",
    "        [-1, 0, -1, x]\n",
    "    ])\n",
    "Ax.determinant()"
   ]
  },
  {
   "cell_type": "markdown",
   "metadata": {},
   "source": [
    "## 特徵多項式\n",
    "一個方陣的**特徵多項式**  \n",
    "定義為 $p_A(x) = \\det(xI-A)$"
   ]
  },
  {
   "cell_type": "code",
   "execution_count": 35,
   "metadata": {},
   "outputs": [
    {
     "name": "stdout",
     "output_type": "stream",
     "text": [
      "xI - A =\n",
      "[ x -1  0 -1]\n",
      "[-1  x -1  0]\n",
      "[ 0 -1  x -1]\n",
      "[-1  0 -1  x]\n",
      "p_A(x) = x^4 - 4*x^2\n"
     ]
    }
   ],
   "source": [
    "x = var('x')\n",
    "A = matrix([\n",
    "        [0, 1, 0, 1],\n",
    "        [1, 0, 1, 0],\n",
    "        [0, 1, 0, 1],\n",
    "        [1, 0, 1, 0]\n",
    "    ])\n",
    "Ax = x*identity_matrix(4) - A\n",
    "p = Ax.determinant()\n",
    "print(\"xI - A =\")\n",
    "print(Ax)\n",
    "print(\"p_A(x) = %s\"%p)"
   ]
  },
  {
   "cell_type": "markdown",
   "metadata": {},
   "source": [
    "一個 $n\\times n$ 的矩陣 $A$  \n",
    "其特徵多項式 $p_A(x)$ 是一個 $n$ 階的多項式  \n",
    "因此有 $p_A(x)=0$ 有 $n$ 個解  \n",
    "（有可能為複數解）  \n",
    "這些解叫作 $A$ 的**特徵值**"
   ]
  },
  {
   "cell_type": "code",
   "execution_count": 37,
   "metadata": {},
   "outputs": [
    {
     "data": {
      "text/plain": [
       "(x + 2)*(x - 2)*x^2"
      ]
     },
     "execution_count": 37,
     "metadata": {},
     "output_type": "execute_result"
    }
   ],
   "source": [
    "factor(p) # x = 0, 0, 2, -2"
   ]
  },
  {
   "cell_type": "markdown",
   "metadata": {},
   "source": [
    "當 $x$ 為 $A$ 的特徵值時  \n",
    "$xI - A$ 的行列式值為零  \n",
    "而 $(xI - A){\\bf v} = {\\bf 0}$ 找得到非零的解 ${\\bf v}$  \n",
    "這個 ${\\bf v}$ 叫作 $A$ 的特徵向量  "
   ]
  },
  {
   "cell_type": "markdown",
   "metadata": {},
   "source": [
    "#### Case 1. $x=2$"
   ]
  },
  {
   "cell_type": "code",
   "execution_count": 54,
   "metadata": {},
   "outputs": [
    {
     "name": "stdout",
     "output_type": "stream",
     "text": [
      "[ 2 -1  0 -1]\n",
      "[-1  2 -1  0]\n",
      "[ 0 -1  2 -1]\n",
      "[-1  0 -1  2]\n"
     ]
    }
   ],
   "source": [
    "A = matrix([\n",
    "        [0, 1, 0, 1],\n",
    "        [1, 0, 1, 0],\n",
    "        [0, 1, 0, 1],\n",
    "        [1, 0, 1, 0]\n",
    "    ])\n",
    "Ax2 = 2*identity_matrix(4) - A\n",
    "print(Ax2)"
   ]
  },
  {
   "cell_type": "code",
   "execution_count": 55,
   "metadata": {},
   "outputs": [
    {
     "data": {
      "text/plain": [
       "Free module of degree 4 and rank 1 over Integer Ring\n",
       "Echelon basis matrix:\n",
       "[1 1 1 1]"
      ]
     },
     "execution_count": 55,
     "metadata": {},
     "output_type": "execute_result"
    }
   ],
   "source": [
    "ker = Ax2.right_kernel()\n",
    "ker"
   ]
  },
  {
   "cell_type": "markdown",
   "metadata": {},
   "source": [
    "$(2I - A){\\bf v} = {\\bf 0}$"
   ]
  },
  {
   "cell_type": "code",
   "execution_count": 56,
   "metadata": {},
   "outputs": [
    {
     "data": {
      "text/plain": [
       "(0, 0, 0, 0)"
      ]
     },
     "execution_count": 56,
     "metadata": {},
     "output_type": "execute_result"
    }
   ],
   "source": [
    "v2 = ker.basis()[0]\n",
    "Ax2 * v2"
   ]
  },
  {
   "cell_type": "markdown",
   "metadata": {},
   "source": [
    "$A{\\bf v} = 2{\\bf v}$"
   ]
  },
  {
   "cell_type": "code",
   "execution_count": 57,
   "metadata": {},
   "outputs": [
    {
     "data": {
      "text/plain": [
       "(2, 2, 2, 2)"
      ]
     },
     "execution_count": 57,
     "metadata": {},
     "output_type": "execute_result"
    }
   ],
   "source": [
    "A * v2"
   ]
  },
  {
   "cell_type": "markdown",
   "metadata": {},
   "source": [
    "#### Case 2. $x=0$"
   ]
  },
  {
   "cell_type": "markdown",
   "metadata": {},
   "source": [
    "若一個解有重根  \n",
    "則解出來的 ${\\bf v}$ 也有可能很多個"
   ]
  },
  {
   "cell_type": "code",
   "execution_count": 58,
   "metadata": {},
   "outputs": [
    {
     "name": "stdout",
     "output_type": "stream",
     "text": [
      "[ 0 -1  0 -1]\n",
      "[-1  0 -1  0]\n",
      "[ 0 -1  0 -1]\n",
      "[-1  0 -1  0]\n"
     ]
    }
   ],
   "source": [
    "A = matrix([\n",
    "        [0, 1, 0, 1],\n",
    "        [1, 0, 1, 0],\n",
    "        [0, 1, 0, 1],\n",
    "        [1, 0, 1, 0]\n",
    "    ])\n",
    "Ax0 = 0*identity_matrix(4) - A\n",
    "print(Ax0)"
   ]
  },
  {
   "cell_type": "code",
   "execution_count": 62,
   "metadata": {
    "scrolled": true
   },
   "outputs": [
    {
     "data": {
      "text/plain": [
       "Free module of degree 4 and rank 2 over Integer Ring\n",
       "Echelon basis matrix:\n",
       "[ 1  0 -1  0]\n",
       "[ 0  1  0 -1]"
      ]
     },
     "execution_count": 62,
     "metadata": {},
     "output_type": "execute_result"
    }
   ],
   "source": [
    "ker = Ax0.right_kernel()\n",
    "ker"
   ]
  },
  {
   "cell_type": "code",
   "execution_count": 64,
   "metadata": {},
   "outputs": [],
   "source": [
    "v0,u0 = ker.basis()"
   ]
  },
  {
   "cell_type": "markdown",
   "metadata": {},
   "source": [
    "#### Case 3. $x=-2$"
   ]
  },
  {
   "cell_type": "markdown",
   "metadata": {},
   "source": [
    "同樣的，我們也可以計算 $x=-2$  \n",
    "對應到的特徵向量  "
   ]
  },
  {
   "cell_type": "code",
   "execution_count": 67,
   "metadata": {},
   "outputs": [
    {
     "data": {
      "text/plain": [
       "(1, -1, 1, -1)"
      ]
     },
     "execution_count": 67,
     "metadata": {},
     "output_type": "execute_result"
    }
   ],
   "source": [
    "A = matrix([\n",
    "        [0, 1, 0, 1],\n",
    "        [1, 0, 1, 0],\n",
    "        [0, 1, 0, 1],\n",
    "        [1, 0, 1, 0]\n",
    "    ])\n",
    "Axm2 = (-2)*identity_matrix(4) - A\n",
    "ker = Axm2.right_kernel()\n",
    "vm2 = ker.basis()[0]\n",
    "vm2"
   ]
  },
  {
   "cell_type": "markdown",
   "metadata": {},
   "source": [
    "## 對角化\n",
    "如果運氣好  \n",
    "矩陣 $A$ 有找到 $n$ 個*獨立*的特徵向量  \n",
    "${\\bf v}_0, \\ldots, {\\bf v}_{n-1}$  \n",
    "其對應到的特徵值為  \n",
    "$\\lambda_0, \\ldots, \\lambda_{n-1}$  \n",
    "則我們有  \n",
    "$A\\begin{bmatrix}\n",
    " | & \\cdots & | \\\\\n",
    " {\\bf v}_0 & \\cdots & {\\bf v}_{n-1} \\\\\n",
    " | & \\cdots & | \\\\\n",
    "\\end{bmatrix}\n",
    "=\n",
    "\\begin{bmatrix}\n",
    " | & \\cdots & | \\\\\n",
    " \\lambda_0{\\bf v}_0 & \\cdots & \\lambda_{n-1}{\\bf v}_{n-1} \\\\\n",
    " | & \\cdots & | \\\\\n",
    "\\end{bmatrix}\n",
    "=\n",
    "\\begin{bmatrix}\n",
    " | & \\cdots & | \\\\\n",
    " {\\bf v}_0 & \\cdots & {\\bf v}_{n-1} \\\\\n",
    " | & \\cdots & | \\\\\n",
    "\\end{bmatrix}\n",
    "\\begin{bmatrix}\n",
    " \\lambda_0 & ~ & 0 \\\\\n",
    " ~ & \\ddots & ~ \\\\\n",
    " 0 & ~ & \\lambda_{n-1}\n",
    "\\end{bmatrix}$"
   ]
  },
  {
   "cell_type": "markdown",
   "metadata": {},
   "source": [
    "改寫成 $AV = VD$  \n",
    "如此一來就有 $V^{-1}AV = D$  \n",
    "而這個過程叫作 $A$ 的**對角化**"
   ]
  },
  {
   "cell_type": "markdown",
   "metadata": {},
   "source": [
    "以剛剛的例子來說  \n",
    "四個向量都已經算好了  "
   ]
  },
  {
   "cell_type": "code",
   "execution_count": 84,
   "metadata": {},
   "outputs": [
    {
     "name": "stdout",
     "output_type": "stream",
     "text": [
      "(1, 1, 1, 1)\n",
      "(1, 0, -1, 0)\n",
      "(0, 1, 0, -1)\n",
      "(1, -1, 1, -1)\n"
     ]
    }
   ],
   "source": [
    "print(v2) # lambda = 2\n",
    "print(v0) # lambda = 0\n",
    "print(u0) # lambda = 0\n",
    "print(vm2) # lambda = -2"
   ]
  },
  {
   "cell_type": "code",
   "execution_count": 70,
   "metadata": {},
   "outputs": [
    {
     "data": {
      "text/plain": [
       "[ 1  1  0  1]\n",
       "[ 1  0  1 -1]\n",
       "[ 1 -1  0  1]\n",
       "[ 1  0 -1 -1]"
      ]
     },
     "execution_count": 70,
     "metadata": {},
     "output_type": "execute_result"
    }
   ],
   "source": [
    "V = matrix([v2, v0, u0, vm2]).transpose()\n",
    "V"
   ]
  },
  {
   "cell_type": "code",
   "execution_count": 72,
   "metadata": {},
   "outputs": [
    {
     "data": {
      "text/plain": [
       "[ 2  0  0 -2]\n",
       "[ 2  0  0  2]\n",
       "[ 2  0  0 -2]\n",
       "[ 2  0  0  2]"
      ]
     },
     "execution_count": 72,
     "metadata": {},
     "output_type": "execute_result"
    }
   ],
   "source": [
    "A * V"
   ]
  },
  {
   "cell_type": "code",
   "execution_count": 74,
   "metadata": {
    "scrolled": true
   },
   "outputs": [
    {
     "data": {
      "text/plain": [
       "[ 2  0  0 -2]\n",
       "[ 2  0  0  2]\n",
       "[ 2  0  0 -2]\n",
       "[ 2  0  0  2]"
      ]
     },
     "execution_count": 74,
     "metadata": {},
     "output_type": "execute_result"
    }
   ],
   "source": [
    "D = matrix([\n",
    "        [2, 0, 0, 0],\n",
    "        [0, 0, 0, 0],\n",
    "        [0, 0, 0, 0],\n",
    "        [0, 0, 0, -2]\n",
    "    ])\n",
    "V * D"
   ]
  },
  {
   "cell_type": "code",
   "execution_count": 75,
   "metadata": {},
   "outputs": [
    {
     "data": {
      "text/plain": [
       "[ 2  0  0  0]\n",
       "[ 0  0  0  0]\n",
       "[ 0  0  0  0]\n",
       "[ 0  0  0 -2]"
      ]
     },
     "execution_count": 75,
     "metadata": {},
     "output_type": "execute_result"
    }
   ],
   "source": [
    "V.inverse() * A * V"
   ]
  },
  {
   "cell_type": "markdown",
   "metadata": {},
   "source": [
    "特徵值和特徵向量的計算  \n",
    "通常非常煩雜  "
   ]
  },
  {
   "cell_type": "markdown",
   "metadata": {},
   "source": [
    "若 `A` 為 Sage 裡的矩陣  \n",
    "則 `A.eigenmatrix_right()`  \n",
    "可以把 $D$ 和 $V$ 算出來  \n",
    "（其中 $V$ 的列排序不見得和我們算得一樣  \n",
    "有和 $D$ 相對應就可以）"
   ]
  },
  {
   "cell_type": "code",
   "execution_count": 76,
   "metadata": {},
   "outputs": [
    {
     "data": {
      "text/plain": [
       "(\n",
       "[ 2  0  0  0]  [ 1  1  1  0]\n",
       "[ 0 -2  0  0]  [ 1 -1  0  1]\n",
       "[ 0  0  0  0]  [ 1  1 -1  0]\n",
       "[ 0  0  0  0], [ 1 -1  0 -1]\n",
       ")"
      ]
     },
     "execution_count": 76,
     "metadata": {},
     "output_type": "execute_result"
    }
   ],
   "source": [
    "A.eigenmatrix_right()"
   ]
  },
  {
   "cell_type": "markdown",
   "metadata": {},
   "source": [
    "大型的矩陣幾乎不可能  \n",
    "用代數運算來找到  \n",
    "確切的特徵值和特徵向量  \n",
    "但可以用數值方法來求得近似值  \n",
    "（一直到現在  \n",
    "如何有效的計算特徵值和特徵向量  \n",
    "都還是很重要的研究領域）"
   ]
  },
  {
   "cell_type": "markdown",
   "metadata": {},
   "source": [
    "這種數值解可以利用\n",
    "SciPy 套件裡的 linalg 模組計算  \n",
    "```Python\n",
    "import scipy.linalg as LA\n",
    "LA.eig(A) # 適用任何方陣\n",
    "LA.eigh(A) # 適用對稱矩陣\n",
    "```"
   ]
  },
  {
   "cell_type": "code",
   "execution_count": 79,
   "metadata": {},
   "outputs": [],
   "source": [
    "import numpy as np\n",
    "import scipy.linalg as LA"
   ]
  },
  {
   "cell_type": "code",
   "execution_count": 82,
   "metadata": {
    "scrolled": true
   },
   "outputs": [
    {
     "data": {
      "text/plain": [
       "(array([ -2.00000000e+00,   0.00000000e+00,   2.66453526e-15,\n",
       "          2.00000000e+00]),\n",
       " array([[  5.00000000e-01,   0.00000000e+00,   7.07106781e-01,\n",
       "           5.00000000e-01],\n",
       "        [ -5.00000000e-01,  -7.07106781e-01,   3.92523115e-16,\n",
       "           5.00000000e-01],\n",
       "        [  5.00000000e-01,   0.00000000e+00,  -7.07106781e-01,\n",
       "           5.00000000e-01],\n",
       "        [ -5.00000000e-01,   7.07106781e-01,   3.92523115e-16,\n",
       "           5.00000000e-01]]))"
      ]
     },
     "execution_count": 82,
     "metadata": {},
     "output_type": "execute_result"
    }
   ],
   "source": [
    "npA = np.array(A)\n",
    "LA.eigh(A)"
   ]
  },
  {
   "cell_type": "markdown",
   "metadata": {},
   "source": [
    "## 動手試試看"
   ]
  },
  {
   "cell_type": "markdown",
   "metadata": {},
   "source": [
    "##### 練習 1\n",
    "\n",
    "已知一組聯立方程式：  \n",
    "$3X + Y = 16$  \n",
    "$2X + 2Y = 20$  \n",
    "請將該方程組寫成對應的矩陣，並用反矩陣的方法求該方程組的解。"
   ]
  },
  {
   "cell_type": "code",
   "execution_count": 1,
   "metadata": {},
   "outputs": [],
   "source": [
    "### your answer here"
   ]
  },
  {
   "cell_type": "markdown",
   "metadata": {},
   "source": [
    "##### 練習 2\n",
    "\n",
    "已知一組聯立方程式：  \n",
    "$2X + Y + 2Z = 25$  \n",
    "$X + Y + 4Z = 23$  \n",
    "$2Y + Z = 20$  \n",
    "請將該方程組寫成對應的矩陣，並用反矩陣的方法求該方程組的解。"
   ]
  },
  {
   "cell_type": "code",
   "execution_count": 2,
   "metadata": {},
   "outputs": [],
   "source": [
    "### your answer here"
   ]
  },
  {
   "cell_type": "markdown",
   "metadata": {},
   "source": [
    "##### 練習 3\n",
    "\n",
    "定義一個函數，其功能為：  \n",
    "傳入`3個`在__三維空間__中的線性獨立向量，  \n",
    "並回傳3個向量所張出來的**六面體體積**。"
   ]
  },
  {
   "cell_type": "code",
   "execution_count": 3,
   "metadata": {},
   "outputs": [],
   "source": [
    "### your answer here"
   ]
  },
  {
   "cell_type": "markdown",
   "metadata": {},
   "source": [
    "##### 練習 4\n",
    "\n",
    "已知一矩陣；\n",
    "$A = \n",
    "\\begin{bmatrix} \n",
    "\\frac{1}{2} & \\frac{\\sqrt{3}}{2} \\\\\n",
    "\\frac{-\\sqrt{3}}{2} & \\frac{1}{2}\n",
    "\\end{bmatrix}$  \n",
    "\n",
    "請試著找反矩陣 $A^{-1}$  \n",
    "並觀察 $A^{-1}$ 和 $A^\\top$ 的關係。"
   ]
  },
  {
   "cell_type": "code",
   "execution_count": null,
   "metadata": {},
   "outputs": [],
   "source": [
    "### your answer here"
   ]
  },
  {
   "cell_type": "markdown",
   "metadata": {},
   "source": [
    "##### 練習 5\n",
    "\n",
    "已知一矩陣：  \n",
    "\n",
    "$A = \n",
    "\\begin{bmatrix} \n",
    " 1 & 2 & 3 \\\\\n",
    " 0 & 2 & 3 \\\\\n",
    " 0 & 0 & 0\n",
    "\\end{bmatrix}$  \n",
    "請用上面提到的方法將矩陣 `A` 對角化。  \n",
    "(找出$A = VDV^{-1}$)"
   ]
  },
  {
   "cell_type": "code",
   "execution_count": 4,
   "metadata": {},
   "outputs": [],
   "source": [
    "### your answer here"
   ]
  },
  {
   "cell_type": "markdown",
   "metadata": {},
   "source": [
    "##### 練習 6\n",
    "\n",
    "承上題，運用對角化出來的結果，計算出 `矩陣A` 的 `10` 次方。  \n",
    "($A^{10} = VDV^{-1}\\cdot VDV^{-1}\\cdot\\cdots\\cdot VDV^{-1}$)"
   ]
  },
  {
   "cell_type": "code",
   "execution_count": 5,
   "metadata": {},
   "outputs": [],
   "source": [
    "### your answer here"
   ]
  },
  {
   "cell_type": "markdown",
   "metadata": {},
   "source": [
    "##### 練習 7\n",
    "\n",
    "已知每年會有 10% 的人從 A 市遷移至 B 市，  \n",
    "且有 20% 的人從 B 市遷移至 A 市，因此我們有轉移矩陣：  \n",
    "$A = \\begin{bmatrix} \n",
    "0.9 & 0.2 \\\\\n",
    "0.1 & 0.8 \n",
    "\\end{bmatrix}$    \n",
    "請將矩陣 A 對角化，並觀察 $A^{n}$ 當 $n$ 趨向無限時，  \n",
    "A 市和 B 市的人口最終會呈現什麼比例？"
   ]
  },
  {
   "cell_type": "code",
   "execution_count": 6,
   "metadata": {},
   "outputs": [],
   "source": [
    "### your answer here"
   ]
  },
  {
   "cell_type": "markdown",
   "metadata": {},
   "source": [
    "##### 練習 8\n",
    "\n",
    "線性代數中，有一個定理叫做_凱萊–哈密頓定理（Cayley–Hamilton theorem）_，其內容大致上是說：  \n",
    "如果我們有一個`n階方陣` $A$ ，我們定義一條多項式 $p(\\lambda)$ 為 $\\lambda I_n - A$ 的絕對值。  \n",
    "（也就是 $p(\\lambda) = \\det(\\lambda I_n - A)$）  \n",
    "則如果我們把 $p(\\lambda)$ 帶入 $A$ 進去的話，結果會是 $O_n$  \n",
    "例如：$A = \\begin{bmatrix} 1& 3 \\\\ -1& -2 \\end{bmatrix}$ ，\n",
    "則 $p(\\lambda) = \\det\\begin{bmatrix} \\lambda-1& -3 \\\\ -(-1)& \\lambda-(-2) \\end{bmatrix} = \\lambda^2 + \\lambda + 1$  \n",
    "將 $\\lambda$ 代入 $A$ 的話：$A^2 + A + I_2 = \n",
    "\\begin{bmatrix} -2& -3 \\\\ 1& 1 \\end{bmatrix} + \n",
    "\\begin{bmatrix} 1& 3 \\\\ -1& -2 \\end{bmatrix} + \n",
    "\\begin{bmatrix} 1& 0 \\\\ 0& 1 \\end{bmatrix} = \n",
    "\\begin{bmatrix} 0& 0 \\\\ 0& 0 \\end{bmatrix}$  \n",
    "  \n",
    "---\n",
    "  \n",
    "就以上定理，已知一矩陣 $A = \\begin{bmatrix} 1& 2 \\\\ 3& 4 \\end{bmatrix}$，請計算出它的 $p(\\lambda)$  \n",
    "並驗證 $p(A)$ 是否為 $O_2$"
   ]
  },
  {
   "cell_type": "code",
   "execution_count": null,
   "metadata": {},
   "outputs": [],
   "source": [
    "### your answer here"
   ]
  },
  {
   "cell_type": "markdown",
   "metadata": {},
   "source": [
    "##### 練習 9\n",
    "\n",
    "已知一矩陣：  \n",
    "$A = \n",
    "\\begin{bmatrix} \n",
    " 4 & 3 \\\\\n",
    " -7 & -5 \n",
    "\\end{bmatrix}$   \n",
    "請利用 _凱萊–哈密頓定理_ ，求出 $A^6$   \n",
    "（提示：$(x - 1)(x^2 + x + 1) = x^3 - 1$）"
   ]
  },
  {
   "cell_type": "code",
   "execution_count": null,
   "metadata": {},
   "outputs": [],
   "source": [
    "### your answer here"
   ]
  },
  {
   "cell_type": "markdown",
   "metadata": {},
   "source": [
    "##### 練習 10\n",
    "\n",
    "線性代數中若一個方形矩陣，以對角線為軸左右對稱的話，則稱之為對稱矩陣  \n",
    "例如：$A = \n",
    "\\begin{bmatrix}\n",
    "1 & 2 & 3 \\\\\n",
    "2 & 1 & 2 \\\\\n",
    "3 & 2 & 1 \n",
    "\\end{bmatrix}$  \n",
    "同時 $A = A^\\top$ ，而且當 $A$ 中的元素都是實數時 $A$ 必可對角化。  \n",
    "\n",
    "請試著對角化 $A$"
   ]
  },
  {
   "cell_type": "code",
   "execution_count": null,
   "metadata": {},
   "outputs": [],
   "source": [
    "### your answer here"
   ]
  }
 ],
 "metadata": {
  "kernelspec": {
   "display_name": "SageMath",
   "language": "",
   "name": "sagemath"
  },
  "language_info": {
   "codemirror_mode": {
    "name": "ipython",
    "version": 2
   },
   "file_extension": ".py",
   "mimetype": "text/x-python",
   "name": "python",
   "nbconvert_exporter": "python",
   "pygments_lexer": "ipython2",
   "version": "2.7.17"
  }
 },
 "nbformat": 4,
 "nbformat_minor": 2
}
