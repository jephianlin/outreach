{
 "cells": [
  {
   "cell_type": "markdown",
   "metadata": {},
   "source": [
    "# 矩陣與 NumPy（Matrices and NumPy）"
   ]
  },
  {
   "cell_type": "markdown",
   "metadata": {},
   "source": [
    "![Creative Commons License](https://i.creativecommons.org/l/by/4.0/88x31.png)\n",
    "\n",
    "This work by Jephian Lin is licensed under a [Creative Commons Attribution 4.0 International License](http://creativecommons.org/licenses/by/4.0/)."
   ]
  },
  {
   "cell_type": "markdown",
   "metadata": {},
   "source": [
    "_Tested on SageMath version 8.7_"
   ]
  },
  {
   "cell_type": "markdown",
   "metadata": {},
   "source": [
    "## 矩陣\n",
    "一個 $m\\times n$ 的**矩陣**  \n",
    "有 $m$ 個橫排（稱作__列__）  \n",
    "以及 $n$ 個直排（稱作**行**）  \n",
    "共有 $mn$ 個數字組成"
   ]
  },
  {
   "cell_type": "code",
   "execution_count": 2,
   "metadata": {},
   "outputs": [
    {
     "data": {
      "text/plain": [
       "[ 1  2  3  4]\n",
       "[ 5  6  7  8]\n",
       "[ 9 10 11 12]"
      ]
     },
     "execution_count": 2,
     "metadata": {},
     "output_type": "execute_result"
    }
   ],
   "source": [
    "A = matrix([\n",
    "        [1,2,3,4],\n",
    "        [5,6,7,8],\n",
    "        [9,10,11,12]\n",
    "    ])\n",
    "A"
   ]
  },
  {
   "cell_type": "markdown",
   "metadata": {},
   "source": [
    "可以用 `A[i,j]` 來叫出 $A$ 的第 $i,j$-項  \n",
    "（注意 Sage 裡列和行都是從 0 開始數）"
   ]
  },
  {
   "cell_type": "code",
   "execution_count": 5,
   "metadata": {},
   "outputs": [
    {
     "data": {
      "text/plain": [
       "6"
      ]
     },
     "execution_count": 5,
     "metadata": {},
     "output_type": "execute_result"
    }
   ],
   "source": [
    "A = matrix([\n",
    "        [1,2,3,4],\n",
    "        [5,6,7,8],\n",
    "        [9,10,11,12]\n",
    "    ])\n",
    "A[1,1]"
   ]
  },
  {
   "cell_type": "markdown",
   "metadata": {},
   "source": [
    "也可以用 `A[list or rows, list of columns]`  \n",
    "來叫出**子矩陣**"
   ]
  },
  {
   "cell_type": "code",
   "execution_count": 6,
   "metadata": {},
   "outputs": [
    {
     "data": {
      "text/plain": [
       "[ 6  8]\n",
       "[10 12]"
      ]
     },
     "execution_count": 6,
     "metadata": {},
     "output_type": "execute_result"
    }
   ],
   "source": [
    "A = matrix([\n",
    "        [1,2,3,4],\n",
    "        [5,6,7,8],\n",
    "        [9,10,11,12]\n",
    "    ])\n",
    "A[[1,2],[1,3]]"
   ]
  },
  {
   "cell_type": "markdown",
   "metadata": {},
   "source": [
    "矩陣的列和行都可以視為一個向量  \n",
    "分別稱作矩陣的__列向量__和**行向量**  \n",
    "（程式碼中的 `:` 代表全部的意思）"
   ]
  },
  {
   "cell_type": "code",
   "execution_count": 8,
   "metadata": {},
   "outputs": [
    {
     "name": "stdout",
     "output_type": "stream",
     "text": [
      "A[2,:] = \n",
      "[ 9 10 11 12]\n",
      "A[:,3] = \n",
      "[ 4]\n",
      "[ 8]\n",
      "[12]\n"
     ]
    }
   ],
   "source": [
    "A = matrix([\n",
    "        [1,2,3,4],\n",
    "        [5,6,7,8],\n",
    "        [9,10,11,12]\n",
    "    ])\n",
    "print(\"A[2,:] = \")\n",
    "print(A[2,:])\n",
    "print(\"A[:,3] = \")\n",
    "print(A[:,3])"
   ]
  },
  {
   "cell_type": "markdown",
   "metadata": {},
   "source": [
    "### 矩陣運算"
   ]
  },
  {
   "cell_type": "markdown",
   "metadata": {},
   "source": [
    "#### 矩陣加矩陣\n",
    "兩個大小一樣的矩陣才能相加  \n",
    "如果 $A$ 和 $B$ 都是 $m\\times n$ 矩陣  \n",
    "則 $A+B$ 也是一個 $m\\times n$ 矩陣  \n",
    "其每一項都是把 $A$ 和 $B$ 中的相對應項相加得來"
   ]
  },
  {
   "cell_type": "code",
   "execution_count": 46,
   "metadata": {},
   "outputs": [
    {
     "name": "stdout",
     "output_type": "stream",
     "text": [
      "A =\n",
      "[ 1  2  3  4]\n",
      "[ 5  6  7  8]\n",
      "[ 9 10 11 12]\n",
      "B =\n",
      "[12 11 10  9]\n",
      "[ 8  7  6  5]\n",
      "[ 4  3  2  1]\n",
      "A + B =\n",
      "[13 13 13 13]\n",
      "[13 13 13 13]\n",
      "[13 13 13 13]\n"
     ]
    }
   ],
   "source": [
    "A = matrix([\n",
    "        [1,2,3,4],\n",
    "        [5,6,7,8],\n",
    "        [9,10,11,12]\n",
    "    ])\n",
    "B = matrix([\n",
    "        [12,11,10,9],\n",
    "        [8,7,6,5],\n",
    "        [4,3,2,1]\n",
    "    ])\n",
    "print(\"A =\")\n",
    "print(A)\n",
    "print(\"B =\")\n",
    "print(B)\n",
    "print(\"A + B =\")\n",
    "print(A + B)"
   ]
  },
  {
   "cell_type": "markdown",
   "metadata": {},
   "source": [
    "#### 純量乘矩陣\n",
    "一個純量 $k$ 可以和任一個 $m\\times n$ 矩陣 $A$ 相乘  \n",
    "所得的矩陣 $kA$ 也是一個 $m\\times n$ 矩陣  \n",
    "其每一項都是把 $A$ 的相對應項乘 $k$ 得來"
   ]
  },
  {
   "cell_type": "code",
   "execution_count": 47,
   "metadata": {},
   "outputs": [
    {
     "name": "stdout",
     "output_type": "stream",
     "text": [
      "A =\n",
      "[ 1  2  3  4]\n",
      "[ 5  6  7  8]\n",
      "[ 9 10 11 12]\n",
      "k = 2\n",
      "kA =\n",
      "[ 2  4  6  8]\n",
      "[10 12 14 16]\n",
      "[18 20 22 24]\n"
     ]
    }
   ],
   "source": [
    "A = matrix([\n",
    "        [1,2,3,4],\n",
    "        [5,6,7,8],\n",
    "        [9,10,11,12]\n",
    "    ])\n",
    "k = 2\n",
    "print(\"A =\")\n",
    "print(A)\n",
    "print(\"k = %s\"%k)\n",
    "print(\"kA =\")\n",
    "print(k * A)"
   ]
  },
  {
   "cell_type": "markdown",
   "metadata": {},
   "source": [
    "#### 矩陣乘向量（內積觀點）\n",
    "一個 $m\\times n$ 的矩陣 $A$ 可以和一個長度為 $n$ 的向量 ${\\bf v}$ 相乘  \n",
    "所得的結果 $A{\\bf v}$ 是一個長度為 $m$ 的向量  \n",
    "$({\\bf v}\\cdot{\\bf r}_0, \\ldots, {\\bf v}\\cdot{\\bf r}_0)$  \n",
    "其中 ${\\bf r}_0, \\ldots, {\\bf r}_{n-1}$ 為 $A$ 的列向量"
   ]
  },
  {
   "cell_type": "code",
   "execution_count": 48,
   "metadata": {},
   "outputs": [
    {
     "name": "stdout",
     "output_type": "stream",
     "text": [
      "A =\n",
      "[ 1  2  3  4]\n",
      "[ 5  6  7  8]\n",
      "[ 9 10 11 12]\n",
      "v =\n",
      "[1]\n",
      "[1]\n",
      "[1]\n",
      "[1]\n",
      "Av =\n",
      "[10]\n",
      "[26]\n",
      "[42]\n"
     ]
    }
   ],
   "source": [
    "A = matrix([\n",
    "        [1,2,3,4],\n",
    "        [5,6,7,8],\n",
    "        [9,10,11,12]\n",
    "    ])\n",
    "v = matrix([\n",
    "        [1], \n",
    "        [1], \n",
    "        [1], \n",
    "        [1]\n",
    "    ])\n",
    "print(\"A =\")\n",
    "print(A)\n",
    "print(\"v =\")\n",
    "print(v)\n",
    "print(\"Av =\")\n",
    "print(A * v)"
   ]
  },
  {
   "cell_type": "markdown",
   "metadata": {},
   "source": [
    "矩陣的其中一個由來是為了記錄線性方程式  \n",
    "比如說  \n",
    "$\\begin{aligned}\n",
    "x + 2y + 3z + 4w &= 10 \\\\\n",
    "5x + 6y + 7z + 8w &= 26 \\\\\n",
    "9x + 10y + 11z + 12w &= 42\n",
    "\\end{aligned}$  \n",
    "就可以簡寫成  \n",
    "$\\begin{bmatrix}\n",
    " 1 & 2 & 3 & 4 \\\\\n",
    " 5 & 6 & 7 & 8 \\\\\n",
    " 9 & 10 & 11 & 12 \n",
    "\\end{bmatrix}\n",
    "\\begin{bmatrix}\n",
    " x \\\\ y \\\\ z \\\\ w\n",
    "\\end{bmatrix}\n",
    "=\n",
    "\\begin{bmatrix}\n",
    " 10 \\\\ 26 \\\\ 42\n",
    "\\end{bmatrix}$"
   ]
  },
  {
   "cell_type": "markdown",
   "metadata": {},
   "source": [
    "矩陣也包含很多幾何意義  \n",
    "想像 ${\\bf v}$ 是一個超平面的法向量  \n",
    "則 $A{\\bf v}$ 的每一項可以告訴我們 $A$ 的列是不是和 ${\\bf v}$ 在同一側  \n",
    "${\\bf v}\\cdot{\\bf r}_i > 0$：${\\bf r}_i$ 和 ${\\bf v}$ 在超平面的同一側  \n",
    "${\\bf v}\\cdot{\\bf r}_i = 0$：${\\bf r}_i$ 在超平面上  \n",
    "${\\bf v}\\cdot{\\bf r}_i < 0$：${\\bf r}_i$ 和 ${\\bf v}$ 在超平面的另一側  "
   ]
  },
  {
   "cell_type": "markdown",
   "metadata": {},
   "source": [
    "#### 矩陣乘向量（線性組合觀點）\n",
    "一個 $m\\times n$ 的矩陣 $A$ 可以和一個長度為 $n$ 的向量 ${\\bf v}$ 相乘  \n",
    "所得的結果 $A{\\bf v}$ 是一個長度為 $m$ 的向量  \n",
    "$b_0{\\bf c}_0 + \\cdots + b_{n-1}{\\bf c}_{n-1}$  \n",
    "其中 ${\\bf v} = (b_0, \\ldots, b_{n-1})$  \n",
    "而 ${\\bf c}_0, \\ldots, {\\bf c}_{n-1}$ 為 $A$ 的行向量"
   ]
  },
  {
   "cell_type": "code",
   "execution_count": 49,
   "metadata": {},
   "outputs": [
    {
     "name": "stdout",
     "output_type": "stream",
     "text": [
      "A =\n",
      "[ 1  2  3  4]\n",
      "[ 5  6  7  8]\n",
      "[ 9 10 11 12]\n",
      "v =\n",
      "[1]\n",
      "[1]\n",
      "[1]\n",
      "[1]\n",
      "Av =\n",
      "[10]\n",
      "[26]\n",
      "[42]\n"
     ]
    }
   ],
   "source": [
    "A = matrix([\n",
    "        [1,2,3,4],\n",
    "        [5,6,7,8],\n",
    "        [9,10,11,12]\n",
    "    ])\n",
    "v = matrix([\n",
    "        [1], \n",
    "        [1], \n",
    "        [1], \n",
    "        [1]\n",
    "    ])\n",
    "print(\"A =\")\n",
    "print(A)\n",
    "print(\"v =\")\n",
    "print(v)\n",
    "print(\"Av =\")\n",
    "print(A * v)"
   ]
  },
  {
   "cell_type": "markdown",
   "metadata": {},
   "source": [
    "令 ${\\bf e}_0 = (1,0,0,\\ldots,0)$  \n",
    "${\\bf e}_1 = (0,1,0,\\ldots,0)$ 等等  \n",
    "則可以看出 $A{\\bf e}_i = {\\bf c}_i$"
   ]
  },
  {
   "cell_type": "code",
   "execution_count": 50,
   "metadata": {},
   "outputs": [
    {
     "name": "stdout",
     "output_type": "stream",
     "text": [
      "ei =\n",
      "[0]\n",
      "[0]\n",
      "[1]\n",
      "[0]\n",
      "A ei =\n",
      "[ 3]\n",
      "[ 7]\n",
      "[11]\n"
     ]
    }
   ],
   "source": [
    "A = matrix([\n",
    "        [1,2,3,4],\n",
    "        [5,6,7,8],\n",
    "        [9,10,11,12]\n",
    "    ])\n",
    "i = 2\n",
    "ei = matrix([\n",
    "        [0],\n",
    "        [0],\n",
    "        [0],\n",
    "        [0]\n",
    "    ])\n",
    "ei[i,0] = 1\n",
    "print(\"ei =\")\n",
    "print(ei)\n",
    "print(\"A ei =\")\n",
    "print(A * ei)"
   ]
  },
  {
   "cell_type": "markdown",
   "metadata": {},
   "source": [
    "#### 旋轉矩陣\n",
    "固定一個角度 $\\theta$  \n",
    "二維向量 ${\\bf e}_0$ 逆時針旋轉 $\\theta$ 以後會是 $(\\cos\\theta,\\sin\\theta)^\\top$  \n",
    "二維向量 ${\\bf e}_1$ 逆時針旋轉 $\\theta$ 以後會是 $(-\\sin\\theta,\\cos\\theta)^\\top$"
   ]
  },
  {
   "cell_type": "code",
   "execution_count": 29,
   "metadata": {},
   "outputs": [
    {
     "data": {
      "image/png": "[encoded data removed]",
      "text/plain": [
       "Graphics object consisting of 4 graphics primitives"
      ]
     },
     "metadata": {},
     "output_type": "display_data"
    }
   ],
   "source": [
    "theta = pi/4\n",
    "e0 = vector([1,0])\n",
    "e1 = vector([0,1])\n",
    "new_e0 = vector([cos(theta), sin(theta)])\n",
    "new_e1 = vector([-sin(theta), cos(theta)])\n",
    "pic = e0.plot() + e1.plot() + new_e0.plot(color='red') + new_e1.plot(color='red')\n",
    "pic.show(xmin=-2, xmax=2, ymin=-2, ymax=2, figsize=(3,3))"
   ]
  },
  {
   "cell_type": "markdown",
   "metadata": {},
   "source": [
    "如果要用一個矩陣 $A$ 來代表旋轉  \n",
    "也就是 $A{\\bf v}$ 是把 ${\\bf v}$ 逆時針旋轉 $\\theta$  \n",
    "\n",
    "則 $A$ 必須符合  \n",
    "$A{\\bf e}_0 = (\\cos\\theta,\\sin\\theta)^\\top$  \n",
    "$A{\\bf e}_1 = (-\\sin\\theta,\\cos\\theta)^\\top$"
   ]
  },
  {
   "cell_type": "markdown",
   "metadata": {},
   "source": [
    "唯一的可能就是  \n",
    "$A = \\begin{bmatrix}\n",
    "\\cos\\theta & -\\sin\\theta \\\\\n",
    "\\sin\\theta & \\cos\\theta\n",
    "\\end{bmatrix}$"
   ]
  },
  {
   "cell_type": "code",
   "execution_count": 36,
   "metadata": {},
   "outputs": [
    {
     "data": {
      "image/png": "[encoded data removed]",
      "text/plain": [
       "Graphics object consisting of 4 graphics primitives"
      ]
     },
     "metadata": {},
     "output_type": "display_data"
    }
   ],
   "source": [
    "theta = 15 * (pi/180) ### 15 degree\n",
    "e0 = vector([1,0])\n",
    "e1 = vector([0,1])\n",
    "A = matrix([\n",
    "        [cos(theta), -sin(theta)],\n",
    "        [sin(theta), cos(theta)]\n",
    "    ])\n",
    "new_e0 = A*e0\n",
    "new_e1 = A*e1\n",
    "pic = e0.plot() + e1.plot() + new_e0.plot(color='red') + new_e1.plot(color='red')\n",
    "pic.show(xmin=-2, xmax=2, ymin=-2, ymax=2, figsize=(3,3))"
   ]
  },
  {
   "cell_type": "markdown",
   "metadata": {},
   "source": [
    "#### 矩陣乘矩陣\n",
    "一個 $m\\times n$ 的矩陣 $A$  \n",
    "可以和一個 $n\\times\\ell$ 的矩陣 $B$ 相乘  \n",
    "所得的結果 $AB$ 為一個 $m\\times\\ell$ 的矩陣  \n",
    "$AB$ 矩陣中的第 $j$ 個行  \n",
    "是由 $A$ 乘上 $B$ 中的第 $j$ 個行得來"
   ]
  },
  {
   "cell_type": "code",
   "execution_count": 51,
   "metadata": {},
   "outputs": [
    {
     "name": "stdout",
     "output_type": "stream",
     "text": [
      "A =\n",
      "[ 1  2  3  4]\n",
      "[ 5  6  7  8]\n",
      "[ 9 10 11 12]\n",
      "B =\n",
      "[1 2]\n",
      "[1 2]\n",
      "[1 2]\n",
      "[1 2]\n",
      "AB =\n",
      "[10 20]\n",
      "[26 52]\n",
      "[42 84]\n"
     ]
    }
   ],
   "source": [
    "A = matrix([\n",
    "        [1,2,3,4],\n",
    "        [5,6,7,8],\n",
    "        [9,10,11,12]\n",
    "    ])\n",
    "B = matrix([\n",
    "        [1,2],\n",
    "        [1,2],\n",
    "        [1,2],\n",
    "        [1,2]\n",
    "    ])\n",
    "print(\"A =\")\n",
    "print(A)\n",
    "print(\"B =\")\n",
    "print(B)\n",
    "print(\"AB =\")\n",
    "print(A * B)"
   ]
  },
  {
   "cell_type": "markdown",
   "metadata": {},
   "source": [
    "## NumPy\n",
    "`matrix` 函數是 Sage 裡定義的  \n",
    "適合代數運算（保留分數、根號等結構）  \n",
    "一般的 Python 中也可以用 NumPy 來處理矩陣  \n",
    "較適合數值運算（用小數運算；快速、但會有誤差）"
   ]
  },
  {
   "cell_type": "markdown",
   "metadata": {},
   "source": [
    "用  \n",
    "```Python\n",
    "import numpy as np\n",
    "```\n",
    "來讀入 NumPy 套件"
   ]
  },
  {
   "cell_type": "code",
   "execution_count": 41,
   "metadata": {},
   "outputs": [
    {
     "data": {
      "text/plain": [
       "'1.13.3'"
      ]
     },
     "execution_count": 41,
     "metadata": {},
     "output_type": "execute_result"
    }
   ],
   "source": [
    "import numpy as np\n",
    "np.__version__"
   ]
  },
  {
   "cell_type": "markdown",
   "metadata": {},
   "source": [
    "在 NumPy 中的一個矩陣  \n",
    "就是一個二維的**陣列**"
   ]
  },
  {
   "cell_type": "code",
   "execution_count": null,
   "metadata": {},
   "outputs": [],
   "source": [
    "A = np.array([\n",
    "        [1,2,3,4],\n",
    "        [5,6,7,8],\n",
    "        [9,10,11,12]\n",
    "    ])\n",
    "A"
   ]
  },
  {
   "cell_type": "markdown",
   "metadata": {},
   "source": [
    "同樣地  \n",
    "相同大小的陣列可以相加  \n",
    "純量也可以和陣列相乘  "
   ]
  },
  {
   "cell_type": "code",
   "execution_count": 45,
   "metadata": {},
   "outputs": [
    {
     "name": "stdout",
     "output_type": "stream",
     "text": [
      "A + B =\n",
      "[[13 13 13 13]\n",
      " [13 13 13 13]\n",
      " [13 13 13 13]]\n",
      "kA =\n",
      "[[ 2  4  6  8]\n",
      " [10 12 14 16]\n",
      " [18 20 22 24]]\n"
     ]
    }
   ],
   "source": [
    "A = np.array([\n",
    "        [1,2,3,4],\n",
    "        [5,6,7,8],\n",
    "        [9,10,11,12]\n",
    "    ])\n",
    "B = np.array([\n",
    "        [12,11,10,9],\n",
    "        [8,7,6,5],\n",
    "        [4,3,2,1]\n",
    "    ])\n",
    "k = 2\n",
    "print(\"A + B =\")\n",
    "print(A + B)\n",
    "print(\"kA =\")\n",
    "print(k * A)"
   ]
  },
  {
   "cell_type": "markdown",
   "metadata": {},
   "source": [
    "但在 NumPy 中預設的乘法是逐項相乘  \n",
    "大小相同的陣列 $A$ 和陣列 $B$  \n",
    "可以相乘  \n",
    "其結果為將 $A$ 和 $B$ 的相對應項相乘得來"
   ]
  },
  {
   "cell_type": "code",
   "execution_count": 54,
   "metadata": {},
   "outputs": [
    {
     "name": "stdout",
     "output_type": "stream",
     "text": [
      "A * B (entrywise product) =\n",
      "[[12 22 30 36]\n",
      " [40 42 42 40]\n",
      " [36 30 22 12]]\n"
     ]
    }
   ],
   "source": [
    "A = np.array([\n",
    "        [1,2,3,4],\n",
    "        [5,6,7,8],\n",
    "        [9,10,11,12]\n",
    "    ])\n",
    "B = np.array([\n",
    "        [12,11,10,9],\n",
    "        [8,7,6,5],\n",
    "        [4,3,2,1]\n",
    "    ])\n",
    "print(\"A * B (entrywise product) =\")\n",
    "print(A * B)"
   ]
  },
  {
   "cell_type": "markdown",
   "metadata": {},
   "source": [
    "若要運算數學中的矩陣乘法  \n",
    "可以用 `np.dot(A, B)`"
   ]
  },
  {
   "cell_type": "code",
   "execution_count": 55,
   "metadata": {},
   "outputs": [
    {
     "name": "stdout",
     "output_type": "stream",
     "text": [
      "A * B (matrix product) =\n",
      "[[10 20]\n",
      " [26 52]\n",
      " [42 84]]\n"
     ]
    }
   ],
   "source": [
    "A = np.array([\n",
    "        [1,2,3,4],\n",
    "        [5,6,7,8],\n",
    "        [9,10,11,12]\n",
    "    ])\n",
    "B = np.array([\n",
    "        [1,2],\n",
    "        [1,2],\n",
    "        [1,2],\n",
    "        [1,2]\n",
    "    ])\n",
    "print(\"A * B (matrix product) =\")\n",
    "print(np.dot(A, B))"
   ]
  },
  {
   "cell_type": "code",
   "execution_count": 56,
   "metadata": {},
   "outputs": [
    {
     "name": "stdout",
     "output_type": "stream",
     "text": [
      "A * v (matrix-vector product) =\n",
      "[10 26 42]\n"
     ]
    }
   ],
   "source": [
    "A = np.array([\n",
    "        [1,2,3,4],\n",
    "        [5,6,7,8],\n",
    "        [9,10,11,12]\n",
    "    ])\n",
    "v = np.array([1,1,1,1])\n",
    "print(\"A * v (matrix-vector product) =\")\n",
    "print(np.dot(A, v))"
   ]
  },
  {
   "cell_type": "markdown",
   "metadata": {},
   "source": [
    "### 向量化運算（vectorization）\n",
    "NumPy 的優勢是它的速度  \n",
    "\n",
    "若將一些大量的運算  \n",
    "改寫成矩陣、向量的運算  \n",
    "再利用 NumPy（或是 MATLAB 等高效演算來）來加速  \n",
    "則稱為**向量化運算**"
   ]
  },
  {
   "cell_type": "markdown",
   "metadata": {},
   "source": [
    "若一維陣列 `a` 裡有很多數字  \n",
    "然要將所有數字相加  \n",
    "可以使用迴圈"
   ]
  },
  {
   "cell_type": "code",
   "execution_count": 58,
   "metadata": {},
   "outputs": [
    {
     "name": "stdout",
     "output_type": "stream",
     "text": [
      "(1000000,)\n"
     ]
    },
    {
     "data": {
      "text/plain": [
       "array([-1.35005403, -0.00447513, -1.68813751, ...,  0.40778158,\n",
       "        1.25642718, -0.48231264])"
      ]
     },
     "execution_count": 58,
     "metadata": {},
     "output_type": "execute_result"
    }
   ],
   "source": [
    "a = np.random.randn(1000000)\n",
    "print(a.shape)\n",
    "a"
   ]
  },
  {
   "cell_type": "code",
   "execution_count": 59,
   "metadata": {},
   "outputs": [
    {
     "data": {
      "text/plain": [
       "-988.95266700060188"
      ]
     },
     "execution_count": 59,
     "metadata": {},
     "output_type": "execute_result"
    }
   ],
   "source": [
    "### with for loop\n",
    "total = 0\n",
    "for num in a:\n",
    "    total += num\n",
    "total"
   ]
  },
  {
   "cell_type": "markdown",
   "metadata": {},
   "source": [
    "也可以把 `a` 和一個全一的向量內積  \n",
    "$(a_1,\\ldots, a_n)\\cdot(1,\\ldots,1) = a_1 + \\cdots + a_n$"
   ]
  },
  {
   "cell_type": "code",
   "execution_count": 60,
   "metadata": {},
   "outputs": [
    {
     "data": {
      "text/plain": [
       "-988.95266700060188"
      ]
     },
     "execution_count": 60,
     "metadata": {},
     "output_type": "execute_result"
    }
   ],
   "source": [
    "### basic vectorization\n",
    "all_ones = np.ones_like(a)\n",
    "np.dot(a, all_ones)"
   ]
  },
  {
   "cell_type": "markdown",
   "metadata": {},
   "source": [
    "也可以用 NumPy 裡的內建函數 `np.sum(a)`"
   ]
  },
  {
   "cell_type": "code",
   "execution_count": 61,
   "metadata": {},
   "outputs": [
    {
     "data": {
      "text/plain": [
       "-988.95266700064724"
      ]
     },
     "execution_count": 61,
     "metadata": {},
     "output_type": "execute_result"
    }
   ],
   "source": [
    "### with np.sum\n",
    "np.sum(a)"
   ]
  },
  {
   "cell_type": "markdown",
   "metadata": {},
   "source": [
    "在 Jupyter 裡  \n",
    "可以用 `%%timeit` 來測量計算一個區塊所需的時間  \n",
    "（這類的特殊函數叫作 magic method）"
   ]
  },
  {
   "cell_type": "code",
   "execution_count": 62,
   "metadata": {},
   "outputs": [
    {
     "name": "stdout",
     "output_type": "stream",
     "text": [
      "10 loops, best of 3: 64.7 ms per loop\n"
     ]
    }
   ],
   "source": [
    "%%timeit\n",
    "\n",
    "### with for loop\n",
    "total = 0\n",
    "for num in a:\n",
    "    total += num\n",
    "total"
   ]
  },
  {
   "cell_type": "code",
   "execution_count": 63,
   "metadata": {},
   "outputs": [
    {
     "name": "stdout",
     "output_type": "stream",
     "text": [
      "1000 loops, best of 3: 1.69 ms per loop\n"
     ]
    }
   ],
   "source": [
    "%%timeit\n",
    "\n",
    "### basic vectorization\n",
    "all_ones = np.ones_like(a)\n",
    "np.dot(a, all_ones)"
   ]
  },
  {
   "cell_type": "code",
   "execution_count": 64,
   "metadata": {},
   "outputs": [
    {
     "name": "stdout",
     "output_type": "stream",
     "text": [
      "1000 loops, best of 3: 207 µs per loop\n"
     ]
    }
   ],
   "source": [
    "%%timeit\n",
    "\n",
    "### with np.sum\n",
    "np.sum(a)"
   ]
  },
  {
   "cell_type": "markdown",
   "metadata": {},
   "source": [
    "## 動手試試看"
   ]
  },
  {
   "cell_type": "markdown",
   "metadata": {},
   "source": [
    "##### 練習 1\n",
    "若 $A_1 = \\begin{bmatrix}\n",
    "14 & 9 \\\\ \n",
    "21 & 16\n",
    "\\end{bmatrix}$ 且 $A_2 = \\begin{bmatrix}\n",
    "3 & 8 \\\\ \n",
    "17 & 42\n",
    "\\end{bmatrix} $。\n",
    "\n",
    "計算 $8 A_1 + 3 A_2$。"
   ]
  },
  {
   "cell_type": "code",
   "execution_count": 1,
   "metadata": {},
   "outputs": [],
   "source": [
    "### your answer here"
   ]
  },
  {
   "cell_type": "markdown",
   "metadata": {},
   "source": [
    "##### 練習 2\n",
    "若 $A_1 = \\begin{bmatrix}\n",
    "5 & 29 \\\\ \n",
    "13 & 33\n",
    "\\end{bmatrix}$ 且 $A_2 = \\begin{bmatrix}\n",
    "75 & 2 \\\\ \n",
    "23 & 14\n",
    "\\end{bmatrix} $。\n",
    "\n",
    "1. 計算 $A_1 \\circ A_2$（相對應項相乘）。\n",
    "\n",
    "2. 計算 $A_1 \\times A_2$（矩陣相乘）。"
   ]
  },
  {
   "cell_type": "code",
   "execution_count": 2,
   "metadata": {},
   "outputs": [],
   "source": [
    "### your answer here "
   ]
  },
  {
   "cell_type": "markdown",
   "metadata": {},
   "source": [
    "##### 練習 3\n",
    "在二維平面上有一正三角形，點 A(16,25)、B、C(13,21) 分別是三角形上的三點。\n",
    "\n",
    "求 B 點座標。  \n",
    "（提示：旋轉矩陣）"
   ]
  },
  {
   "cell_type": "code",
   "execution_count": 3,
   "metadata": {},
   "outputs": [],
   "source": [
    "### your answer here"
   ]
  },
  {
   "cell_type": "markdown",
   "metadata": {},
   "source": [
    "##### 練習 4\n",
    "定義一個函數 `inverse(A)` 其功能為：  \n",
    "可以將一個 $2\\times2$ 的矩陣 `A` 轉成反矩陣  \n",
    "（附註：反矩陣的公式為 $\\frac{1}{ad-bc} \\begin{bmatrix}\n",
    "d & -b \\\\ \n",
    "-c & a\n",
    "\\end{bmatrix}$）"
   ]
  },
  {
   "cell_type": "code",
   "execution_count": 1,
   "metadata": {},
   "outputs": [],
   "source": [
    "### your answer here"
   ]
  },
  {
   "cell_type": "markdown",
   "metadata": {},
   "source": [
    "##### 練習 5\n",
    " \n",
    "若$\\begin{bmatrix}\n",
    "5 & 29 \\\\ \n",
    "13 & 33\n",
    "\\end{bmatrix}\\begin{bmatrix}\n",
    "x & y \\\\ \n",
    "z & w\n",
    "\\end{bmatrix} = \\begin{bmatrix}\n",
    "75 & 2 \\\\ \n",
    "23 & 14\n",
    "\\end{bmatrix}$\n",
    "\n",
    "利用練習 4 來求$\\begin{bmatrix}\n",
    "x & y \\\\ \n",
    "z & w\n",
    "\\end{bmatrix}$  \n",
    "(也可用`np.linalg.inv(MATRIX)`來求反矩陣)"
   ]
  },
  {
   "cell_type": "code",
   "execution_count": 5,
   "metadata": {},
   "outputs": [],
   "source": [
    "### your answer here"
   ]
  },
  {
   "cell_type": "markdown",
   "metadata": {},
   "source": [
    "##### 練習 6\n",
    "\n",
    "在三維平面上有一三角形，其三點為 $A(2,9,12)，B(4,5,4)，C(0,12,7)$，  \n",
    "經過某矩陣變換後，其三點變為 $A'(6,20,18)，B'(17,5,21)，C'(9,23,3)$，  \n",
    "求其矩陣。"
   ]
  },
  {
   "cell_type": "code",
   "execution_count": null,
   "metadata": {},
   "outputs": [],
   "source": [
    "### your answer here"
   ]
  },
  {
   "cell_type": "markdown",
   "metadata": {},
   "source": [
    "##### 練習 7\n",
    "\n",
    "試給出一個含有100000個數字的一維陣列，  \n",
    "並算出其**奇數項和**減掉__偶數項和__的值。  \n",
    "（提示：運用向量化運算）"
   ]
  },
  {
   "cell_type": "code",
   "execution_count": null,
   "metadata": {},
   "outputs": [],
   "source": [
    "### your answer here"
   ]
  },
  {
   "cell_type": "markdown",
   "metadata": {},
   "source": [
    "##### 練習 8\n",
    "\n",
    "定義一個函數 `prime(n)` 其功能為：  \n",
    "找出所有在 `n` 以下的質數，並以一維陣列的形式回傳。  \n",
    "（提示：建一個長度為 `n` 的陣列，將非質數的部分刪掉）"
   ]
  },
  {
   "cell_type": "code",
   "execution_count": null,
   "metadata": {},
   "outputs": [],
   "source": [
    "### your answer here"
   ]
  },
  {
   "cell_type": "markdown",
   "metadata": {},
   "source": [
    "##### 練習 9\n",
    "\n",
    "定義一個函數 `is_independent` 其功能為：  \n",
    "輸入一個 `vectors` 的列表，裡面有 `n` 個向量，且每個向量維度都是 `n`  \n",
    "判斷這些向量是否線性獨立，若線性獨立就回傳 `True` 否則回傳 `False`  \n",
    "（提示：行列式值不為0則代表線性獨立）"
   ]
  },
  {
   "cell_type": "code",
   "execution_count": null,
   "metadata": {},
   "outputs": [],
   "source": [
    "### your answer here"
   ]
  },
  {
   "cell_type": "markdown",
   "metadata": {},
   "source": [
    "##### 練習 10\n",
    "\n"
   ]
  },
  {
   "cell_type": "code",
   "execution_count": null,
   "metadata": {},
   "outputs": [],
   "source": [
    "### your answer here"
   ]
  }
 ],
 "metadata": {
  "kernelspec": {
   "display_name": "SageMath",
   "language": "",
   "name": "sagemath"
  },
  "language_info": {
   "codemirror_mode": {
    "name": "ipython",
    "version": 2
   },
   "file_extension": ".py",
   "mimetype": "text/x-python",
   "name": "python",
   "nbconvert_exporter": "python",
   "pygments_lexer": "ipython2",
   "version": "2.7.17"
  }
 },
 "nbformat": 4,
 "nbformat_minor": 2
}
