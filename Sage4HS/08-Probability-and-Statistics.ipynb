{
 "cells": [
  {
   "cell_type": "markdown",
   "metadata": {},
   "source": [
    "# 機率與統計（Probability and Statistics）"
   ]
  },
  {
   "cell_type": "markdown",
   "metadata": {},
   "source": [
    "![Creative Commons License](https://i.creativecommons.org/l/by/4.0/88x31.png)\n",
    "\n",
    "This work by Jephian Lin is licensed under a [Creative Commons Attribution 4.0 International License](http://creativecommons.org/licenses/by/4.0/)."
   ]
  },
  {
   "cell_type": "markdown",
   "metadata": {},
   "source": [
    "_Tested on SageMath version 8.7_"
   ]
  },
  {
   "cell_type": "markdown",
   "metadata": {},
   "source": [
    "## 機率\n",
    "真實世界的許多事件帶有不確定性  \n",
    "無法用傳統的數學運算來描述  \n",
    "但還是可以用機率來更了解細節"
   ]
  },
  {
   "cell_type": "markdown",
   "metadata": {},
   "source": [
    "比如說  \n",
    "假設班上 50 人，每個人遲到的機率是 0.05  \n",
    "班上出席人數 $\\geq 45$ 的機率是多少？"
   ]
  },
  {
   "cell_type": "markdown",
   "metadata": {},
   "source": [
    "Sage 中有一個 `random` 函數  \n",
    "Python 中有一個 `random` 套件  \n",
    "為了和先前的教材一致  \n",
    "這邊使用 NumPy 中的 `random` 模組來模擬隨機事件"
   ]
  },
  {
   "cell_type": "code",
   "execution_count": 1,
   "metadata": {},
   "outputs": [],
   "source": [
    "import numpy as np"
   ]
  },
  {
   "cell_type": "markdown",
   "metadata": {},
   "source": [
    "`np.random.choice(list)` 會在 `list` 中隨機挑一個出來  \n",
    "（每一個元素的機率一樣）"
   ]
  },
  {
   "cell_type": "code",
   "execution_count": 2,
   "metadata": {},
   "outputs": [
    {
     "data": {
      "text/plain": [
       "2"
      ]
     },
     "execution_count": 2,
     "metadata": {},
     "output_type": "execute_result"
    }
   ],
   "source": [
    "np.random.choice([1,2,3])"
   ]
  },
  {
   "cell_type": "markdown",
   "metadata": {},
   "source": [
    "模擬一個學生是否出席"
   ]
  },
  {
   "cell_type": "code",
   "execution_count": 3,
   "metadata": {},
   "outputs": [],
   "source": [
    "def present():\n",
    "    # 0: absent\n",
    "    # 1: present\n",
    "    return np.random.choice([0]*5 + [1]*95)"
   ]
  },
  {
   "cell_type": "code",
   "execution_count": 4,
   "metadata": {},
   "outputs": [
    {
     "data": {
      "text/plain": [
       "1"
      ]
     },
     "execution_count": 4,
     "metadata": {},
     "output_type": "execute_result"
    }
   ],
   "source": [
    "present()"
   ]
  },
  {
   "cell_type": "markdown",
   "metadata": {},
   "source": [
    "模擬一班學生出席人數"
   ]
  },
  {
   "cell_type": "code",
   "execution_count": 5,
   "metadata": {},
   "outputs": [],
   "source": [
    "def a_class(students=50):\n",
    "    total = 0\n",
    "    for _ in range(students):\n",
    "        total += present()\n",
    "    return total"
   ]
  },
  {
   "cell_type": "code",
   "execution_count": 6,
   "metadata": {},
   "outputs": [
    {
     "data": {
      "text/plain": [
       "47"
      ]
     },
     "execution_count": 6,
     "metadata": {},
     "output_type": "execute_result"
    }
   ],
   "source": [
    "a_class()"
   ]
  },
  {
   "cell_type": "markdown",
   "metadata": {},
   "source": [
    "機率 $\\sim$ 事件發生次數 / 總次數"
   ]
  },
  {
   "cell_type": "code",
   "execution_count": 7,
   "metadata": {},
   "outputs": [
    {
     "name": "stdout",
     "output_type": "stream",
     "text": [
      "probability ~ 0.952000000000000\n"
     ]
    }
   ],
   "source": [
    "trials = 1000\n",
    "counter = 0\n",
    "for _ in range(trials):\n",
    "    if a_class() >= 45:\n",
    "        counter += 1\n",
    "print(\"probability ~ %s\"%N(counter/trials))"
   ]
  },
  {
   "cell_type": "markdown",
   "metadata": {},
   "source": [
    "### 隨機變數\n",
    "一個隨機變數 $X$  \n",
    "可能有許多不同的數值  \n",
    "而每個數值都有它發生的機率"
   ]
  },
  {
   "cell_type": "markdown",
   "metadata": {},
   "source": [
    "比如說  \n",
    "$X$ 可以是班上出席的人數  \n",
    "雖然說每次都不知道 $X$ 確切的數值為多少  \n",
    "但知道 $X\\geq 45$ 的機率非常高"
   ]
  },
  {
   "cell_type": "code",
   "execution_count": 8,
   "metadata": {},
   "outputs": [
    {
     "data": {
      "text/plain": [
       "49"
      ]
     },
     "execution_count": 8,
     "metadata": {},
     "output_type": "execute_result"
    }
   ],
   "source": [
    "X = a_class\n",
    "X()"
   ]
  },
  {
   "cell_type": "code",
   "execution_count": 9,
   "metadata": {},
   "outputs": [
    {
     "data": {
      "text/plain": [
       "True"
      ]
     },
     "execution_count": 9,
     "metadata": {},
     "output_type": "execute_result"
    }
   ],
   "source": [
    "X() >= 45"
   ]
  },
  {
   "cell_type": "markdown",
   "metadata": {},
   "source": [
    "#### 分布\n",
    "由於隨機變數的不確定性  \n",
    "通常我們用隨機變數的**分布**  \n",
    "來描述一個隨機變數  \n",
    "\n",
    "將一個隨機變數執行許多次  \n",
    "並記錄各個數值發生的次數  \n",
    "可以用來模擬一個隨機變數的分布"
   ]
  },
  {
   "cell_type": "code",
   "execution_count": 10,
   "metadata": {
    "scrolled": true
   },
   "outputs": [
    {
     "data": {
      "text/plain": [
       "[47,\n",
       " 47,\n",
       " 49,\n",
       " 46,\n",
       " 49,\n",
       " 48,\n",
       " 45,\n",
       " 48,\n",
       " 48,\n",
       " 48,\n",
       " 47,\n",
       " 49,\n",
       " 43,\n",
       " 45,\n",
       " 48,\n",
       " 48,\n",
       " 49,\n",
       " 48,\n",
       " 49,\n",
       " 47,\n",
       " 48,\n",
       " 47,\n",
       " 48,\n",
       " 50,\n",
       " 50,\n",
       " 47,\n",
       " 48,\n",
       " 49,\n",
       " 48,\n",
       " 47,\n",
       " 47,\n",
       " 47,\n",
       " 49,\n",
       " 50,\n",
       " 44,\n",
       " 49,\n",
       " 46,\n",
       " 50,\n",
       " 46,\n",
       " 48,\n",
       " 47,\n",
       " 47,\n",
       " 49,\n",
       " 48,\n",
       " 48,\n",
       " 44,\n",
       " 49,\n",
       " 47,\n",
       " 46,\n",
       " 47,\n",
       " 49,\n",
       " 49,\n",
       " 49,\n",
       " 48,\n",
       " 50,\n",
       " 44,\n",
       " 48,\n",
       " 44,\n",
       " 46,\n",
       " 49,\n",
       " 49,\n",
       " 46,\n",
       " 48,\n",
       " 48,\n",
       " 48,\n",
       " 48,\n",
       " 47,\n",
       " 48,\n",
       " 48,\n",
       " 45,\n",
       " 46,\n",
       " 49,\n",
       " 46,\n",
       " 50,\n",
       " 50,\n",
       " 47,\n",
       " 48,\n",
       " 48,\n",
       " 47,\n",
       " 44,\n",
       " 50,\n",
       " 46,\n",
       " 44,\n",
       " 48,\n",
       " 50,\n",
       " 49,\n",
       " 42,\n",
       " 48,\n",
       " 45,\n",
       " 48,\n",
       " 49,\n",
       " 48,\n",
       " 46,\n",
       " 50,\n",
       " 46,\n",
       " 48,\n",
       " 48,\n",
       " 49,\n",
       " 47,\n",
       " 46,\n",
       " 48,\n",
       " 48,\n",
       " 48,\n",
       " 48,\n",
       " 46,\n",
       " 45,\n",
       " 46,\n",
       " 45,\n",
       " 43,\n",
       " 46,\n",
       " 46,\n",
       " 44,\n",
       " 46,\n",
       " 45,\n",
       " 47,\n",
       " 49,\n",
       " 50,\n",
       " 44,\n",
       " 48,\n",
       " 44,\n",
       " 50,\n",
       " 48,\n",
       " 48,\n",
       " 45,\n",
       " 46,\n",
       " 46,\n",
       " 46,\n",
       " 49,\n",
       " 48,\n",
       " 49,\n",
       " 49,\n",
       " 48,\n",
       " 46,\n",
       " 48,\n",
       " 47,\n",
       " 49,\n",
       " 48,\n",
       " 47,\n",
       " 49,\n",
       " 49,\n",
       " 46,\n",
       " 49,\n",
       " 47,\n",
       " 50,\n",
       " 49,\n",
       " 46,\n",
       " 50,\n",
       " 50,\n",
       " 46,\n",
       " 46,\n",
       " 49,\n",
       " 45,\n",
       " 45,\n",
       " 46,\n",
       " 48,\n",
       " 46,\n",
       " 48,\n",
       " 48,\n",
       " 48,\n",
       " 48,\n",
       " 49,\n",
       " 49,\n",
       " 47,\n",
       " 48,\n",
       " 49,\n",
       " 47,\n",
       " 48,\n",
       " 48,\n",
       " 49,\n",
       " 47,\n",
       " 49,\n",
       " 48,\n",
       " 48,\n",
       " 48,\n",
       " 46,\n",
       " 48,\n",
       " 46,\n",
       " 48,\n",
       " 47,\n",
       " 50,\n",
       " 47,\n",
       " 45,\n",
       " 49,\n",
       " 44,\n",
       " 48,\n",
       " 46,\n",
       " 49,\n",
       " 46,\n",
       " 46,\n",
       " 47,\n",
       " 45,\n",
       " 45,\n",
       " 50,\n",
       " 49,\n",
       " 47,\n",
       " 48,\n",
       " 45,\n",
       " 48,\n",
       " 47,\n",
       " 47,\n",
       " 47,\n",
       " 49,\n",
       " 48,\n",
       " 44,\n",
       " 44,\n",
       " 47,\n",
       " 48,\n",
       " 49,\n",
       " 47,\n",
       " 46,\n",
       " 46,\n",
       " 49,\n",
       " 48,\n",
       " 48,\n",
       " 48,\n",
       " 50,\n",
       " 48,\n",
       " 47,\n",
       " 46,\n",
       " 50,\n",
       " 48,\n",
       " 48,\n",
       " 44,\n",
       " 49,\n",
       " 47,\n",
       " 47,\n",
       " 46,\n",
       " 48,\n",
       " 47,\n",
       " 47,\n",
       " 49,\n",
       " 46,\n",
       " 49,\n",
       " 47,\n",
       " 44,\n",
       " 49,\n",
       " 45,\n",
       " 46,\n",
       " 44,\n",
       " 48,\n",
       " 49,\n",
       " 47,\n",
       " 49,\n",
       " 48,\n",
       " 46,\n",
       " 44,\n",
       " 47,\n",
       " 46,\n",
       " 46,\n",
       " 46,\n",
       " 48,\n",
       " 48,\n",
       " 44,\n",
       " 48,\n",
       " 50,\n",
       " 49,\n",
       " 48,\n",
       " 48,\n",
       " 47,\n",
       " 49,\n",
       " 50,\n",
       " 47,\n",
       " 48,\n",
       " 45,\n",
       " 49,\n",
       " 49,\n",
       " 49,\n",
       " 49,\n",
       " 48,\n",
       " 48,\n",
       " 48,\n",
       " 50,\n",
       " 49,\n",
       " 45,\n",
       " 47,\n",
       " 50,\n",
       " 47,\n",
       " 47,\n",
       " 48,\n",
       " 50,\n",
       " 49,\n",
       " 47,\n",
       " 50,\n",
       " 48,\n",
       " 48,\n",
       " 44,\n",
       " 46,\n",
       " 45,\n",
       " 48,\n",
       " 50,\n",
       " 48,\n",
       " 49,\n",
       " 47,\n",
       " 46,\n",
       " 48,\n",
       " 46,\n",
       " 49,\n",
       " 47,\n",
       " 47,\n",
       " 50,\n",
       " 48,\n",
       " 47,\n",
       " 46,\n",
       " 47,\n",
       " 45,\n",
       " 47,\n",
       " 47,\n",
       " 50,\n",
       " 50,\n",
       " 47,\n",
       " 49,\n",
       " 47,\n",
       " 42,\n",
       " 47,\n",
       " 48,\n",
       " 47,\n",
       " 46,\n",
       " 49,\n",
       " 48,\n",
       " 49,\n",
       " 47,\n",
       " 45,\n",
       " 49,\n",
       " 49,\n",
       " 47,\n",
       " 49,\n",
       " 50,\n",
       " 48,\n",
       " 48,\n",
       " 50,\n",
       " 50,\n",
       " 48,\n",
       " 48,\n",
       " 45,\n",
       " 50,\n",
       " 49,\n",
       " 47,\n",
       " 47,\n",
       " 49,\n",
       " 47,\n",
       " 44,\n",
       " 49,\n",
       " 47,\n",
       " 48,\n",
       " 49,\n",
       " 48,\n",
       " 46,\n",
       " 50,\n",
       " 47,\n",
       " 50,\n",
       " 46,\n",
       " 44,\n",
       " 47,\n",
       " 49,\n",
       " 47,\n",
       " 47,\n",
       " 46,\n",
       " 43,\n",
       " 46,\n",
       " 45,\n",
       " 48,\n",
       " 50,\n",
       " 49,\n",
       " 47,\n",
       " 50,\n",
       " 49,\n",
       " 49,\n",
       " 46,\n",
       " 45,\n",
       " 49,\n",
       " 47,\n",
       " 50,\n",
       " 46,\n",
       " 47,\n",
       " 50,\n",
       " 49,\n",
       " 47,\n",
       " 48,\n",
       " 50,\n",
       " 44,\n",
       " 48,\n",
       " 46,\n",
       " 47,\n",
       " 47,\n",
       " 50,\n",
       " 49,\n",
       " 47,\n",
       " 48,\n",
       " 50,\n",
       " 47,\n",
       " 49,\n",
       " 48,\n",
       " 46,\n",
       " 46,\n",
       " 49,\n",
       " 47,\n",
       " 49,\n",
       " 44,\n",
       " 49,\n",
       " 50,\n",
       " 47,\n",
       " 48,\n",
       " 47,\n",
       " 46,\n",
       " 47,\n",
       " 50,\n",
       " 48,\n",
       " 48,\n",
       " 47,\n",
       " 48,\n",
       " 47,\n",
       " 50,\n",
       " 48,\n",
       " 49,\n",
       " 46,\n",
       " 48,\n",
       " 45,\n",
       " 49,\n",
       " 48,\n",
       " 48,\n",
       " 46,\n",
       " 45,\n",
       " 50,\n",
       " 49,\n",
       " 44,\n",
       " 49,\n",
       " 46,\n",
       " 46,\n",
       " 46,\n",
       " 50,\n",
       " 48,\n",
       " 46,\n",
       " 48,\n",
       " 49,\n",
       " 47,\n",
       " 48,\n",
       " 49,\n",
       " 48,\n",
       " 49,\n",
       " 46,\n",
       " 45,\n",
       " 48,\n",
       " 46,\n",
       " 46,\n",
       " 46,\n",
       " 47,\n",
       " 47,\n",
       " 46,\n",
       " 48,\n",
       " 44,\n",
       " 48,\n",
       " 48,\n",
       " 46,\n",
       " 46,\n",
       " 47,\n",
       " 45,\n",
       " 45,\n",
       " 47,\n",
       " 46,\n",
       " 46,\n",
       " 47,\n",
       " 46,\n",
       " 48,\n",
       " 49,\n",
       " 48,\n",
       " 47,\n",
       " 44,\n",
       " 46,\n",
       " 48,\n",
       " 45,\n",
       " 47,\n",
       " 47,\n",
       " 48,\n",
       " 46,\n",
       " 46,\n",
       " 47,\n",
       " 46,\n",
       " 48,\n",
       " 45,\n",
       " 47,\n",
       " 46,\n",
       " 49,\n",
       " 47,\n",
       " 47,\n",
       " 49,\n",
       " 50,\n",
       " 47,\n",
       " 46,\n",
       " 48,\n",
       " 48,\n",
       " 47,\n",
       " 49,\n",
       " 48,\n",
       " 46,\n",
       " 47,\n",
       " 49,\n",
       " 47,\n",
       " 44,\n",
       " 47,\n",
       " 48,\n",
       " 47,\n",
       " 43,\n",
       " 48,\n",
       " 47,\n",
       " 46,\n",
       " 47,\n",
       " 48,\n",
       " 48,\n",
       " 47,\n",
       " 48,\n",
       " 48,\n",
       " 49,\n",
       " 48,\n",
       " 49,\n",
       " 47,\n",
       " 50,\n",
       " 48,\n",
       " 48,\n",
       " 49,\n",
       " 47,\n",
       " 48,\n",
       " 46,\n",
       " 49,\n",
       " 48,\n",
       " 46,\n",
       " 46,\n",
       " 50,\n",
       " 50,\n",
       " 46,\n",
       " 47,\n",
       " 48,\n",
       " 48,\n",
       " 49,\n",
       " 47,\n",
       " 46,\n",
       " 48,\n",
       " 49,\n",
       " 47,\n",
       " 46,\n",
       " 46,\n",
       " 49,\n",
       " 48,\n",
       " 50,\n",
       " 48,\n",
       " 46,\n",
       " 46,\n",
       " 47,\n",
       " 47,\n",
       " 49,\n",
       " 49,\n",
       " 46,\n",
       " 49,\n",
       " 50,\n",
       " 49,\n",
       " 48,\n",
       " 49,\n",
       " 45,\n",
       " 43,\n",
       " 49,\n",
       " 47,\n",
       " 47,\n",
       " 48,\n",
       " 47,\n",
       " 49,\n",
       " 48,\n",
       " 47,\n",
       " 46,\n",
       " 50,\n",
       " 48,\n",
       " 49,\n",
       " 48,\n",
       " 47,\n",
       " 47,\n",
       " 49,\n",
       " 47,\n",
       " 47,\n",
       " 46,\n",
       " 46,\n",
       " 49,\n",
       " 48,\n",
       " 48,\n",
       " 47,\n",
       " 47,\n",
       " 45,\n",
       " 48,\n",
       " 49,\n",
       " 45,\n",
       " 47,\n",
       " 50,\n",
       " 45,\n",
       " 50,\n",
       " 49,\n",
       " 47,\n",
       " 49,\n",
       " 49,\n",
       " 48,\n",
       " 48,\n",
       " 45,\n",
       " 47,\n",
       " 47,\n",
       " 50,\n",
       " 46,\n",
       " 48,\n",
       " 47,\n",
       " 47,\n",
       " 46,\n",
       " 49,\n",
       " 49,\n",
       " 49,\n",
       " 47,\n",
       " 49,\n",
       " 47,\n",
       " 49,\n",
       " 49,\n",
       " 48,\n",
       " 49,\n",
       " 47,\n",
       " 47,\n",
       " 49,\n",
       " 46,\n",
       " 47,\n",
       " 50,\n",
       " 49,\n",
       " 49,\n",
       " 45,\n",
       " 45,\n",
       " 47,\n",
       " 46,\n",
       " 47,\n",
       " 47,\n",
       " 49,\n",
       " 48,\n",
       " 49,\n",
       " 49,\n",
       " 48,\n",
       " 48,\n",
       " 47,\n",
       " 43,\n",
       " 49,\n",
       " 46,\n",
       " 46,\n",
       " 50,\n",
       " 48,\n",
       " 47,\n",
       " 47,\n",
       " 47,\n",
       " 48,\n",
       " 48,\n",
       " 50,\n",
       " 49,\n",
       " 48,\n",
       " 49,\n",
       " 48,\n",
       " 48,\n",
       " 45,\n",
       " 50,\n",
       " 47,\n",
       " 48,\n",
       " 47,\n",
       " 50,\n",
       " 49,\n",
       " 45,\n",
       " 49,\n",
       " 41,\n",
       " 47,\n",
       " 49,\n",
       " 49,\n",
       " 49,\n",
       " 50,\n",
       " 47,\n",
       " 48,\n",
       " 47,\n",
       " 48,\n",
       " 47,\n",
       " 45,\n",
       " 46,\n",
       " 47,\n",
       " 48,\n",
       " 48,\n",
       " 45,\n",
       " 46,\n",
       " 47,\n",
       " 48,\n",
       " 47,\n",
       " 48,\n",
       " 49,\n",
       " 49,\n",
       " 46,\n",
       " 50,\n",
       " 49,\n",
       " 49,\n",
       " 47,\n",
       " 49,\n",
       " 49,\n",
       " 47,\n",
       " 45,\n",
       " 48,\n",
       " 49,\n",
       " 48,\n",
       " 47,\n",
       " 49,\n",
       " 50,\n",
       " 50,\n",
       " 50,\n",
       " 46,\n",
       " 49,\n",
       " 48,\n",
       " 47,\n",
       " 47,\n",
       " 49,\n",
       " 48,\n",
       " 48,\n",
       " 49,\n",
       " 46,\n",
       " 46,\n",
       " 48,\n",
       " 46,\n",
       " 48,\n",
       " 48,\n",
       " 46,\n",
       " 49,\n",
       " 47,\n",
       " 47,\n",
       " 46,\n",
       " 45,\n",
       " 47,\n",
       " 47,\n",
       " 47,\n",
       " 47,\n",
       " 49,\n",
       " 47,\n",
       " 45,\n",
       " 48,\n",
       " 48,\n",
       " 48,\n",
       " 49,\n",
       " 48,\n",
       " 46,\n",
       " 48,\n",
       " 49,\n",
       " 49,\n",
       " 48,\n",
       " 48,\n",
       " 50,\n",
       " 48,\n",
       " 49,\n",
       " 46,\n",
       " 50,\n",
       " 48,\n",
       " 48,\n",
       " 47,\n",
       " 49,\n",
       " 49,\n",
       " 48,\n",
       " 46,\n",
       " 48,\n",
       " 50,\n",
       " 46,\n",
       " 48,\n",
       " 47,\n",
       " 50,\n",
       " 47,\n",
       " 49,\n",
       " 47,\n",
       " 50,\n",
       " 48,\n",
       " 50,\n",
       " 45,\n",
       " 48,\n",
       " 50,\n",
       " 46,\n",
       " 47,\n",
       " 50,\n",
       " 48,\n",
       " 48,\n",
       " 47,\n",
       " 47,\n",
       " 46,\n",
       " 47,\n",
       " 46,\n",
       " 49,\n",
       " 49,\n",
       " 50,\n",
       " 47,\n",
       " 47,\n",
       " 47,\n",
       " 47,\n",
       " 47,\n",
       " 47,\n",
       " 49,\n",
       " 49,\n",
       " 49,\n",
       " 48,\n",
       " 48,\n",
       " 47,\n",
       " 47,\n",
       " 48,\n",
       " 49,\n",
       " 48,\n",
       " 50,\n",
       " 49,\n",
       " 44,\n",
       " 48,\n",
       " 46,\n",
       " 48,\n",
       " 48,\n",
       " 47,\n",
       " 48,\n",
       " 49,\n",
       " 44,\n",
       " 47,\n",
       " 44,\n",
       " 46,\n",
       " 49,\n",
       " 44,\n",
       " 46,\n",
       " 46,\n",
       " 46,\n",
       " 49,\n",
       " 49,\n",
       " 49,\n",
       " 49,\n",
       " 47,\n",
       " 49,\n",
       " 49,\n",
       " 50,\n",
       " 48,\n",
       " 47,\n",
       " 48,\n",
       " 45,\n",
       " 48,\n",
       " 47,\n",
       " 47,\n",
       " 48,\n",
       " 46,\n",
       " 49,\n",
       " 49,\n",
       " 46,\n",
       " 48,\n",
       " 50,\n",
       " 50,\n",
       " 50,\n",
       " 47,\n",
       " 49,\n",
       " 47,\n",
       " 48,\n",
       " 46,\n",
       " 50,\n",
       " 48,\n",
       " 48,\n",
       " 49,\n",
       " 48,\n",
       " 46,\n",
       " 47,\n",
       " 48,\n",
       " 48,\n",
       " 46,\n",
       " 50,\n",
       " 47,\n",
       " 49,\n",
       " 47,\n",
       " 48,\n",
       " 45,\n",
       " 49,\n",
       " 48,\n",
       " 50,\n",
       " 49,\n",
       " 47,\n",
       " 49,\n",
       " 46,\n",
       " 48,\n",
       " 49,\n",
       " 47,\n",
       " 49,\n",
       " 49,\n",
       " 46,\n",
       " 47,\n",
       " 45,\n",
       " 48,\n",
       " 47,\n",
       " 48,\n",
       " 48,\n",
       " 48,\n",
       " 48,\n",
       " 49,\n",
       " 49,\n",
       " 48,\n",
       " 47,\n",
       " 46,\n",
       " 44,\n",
       " 48,\n",
       " 48,\n",
       " 49,\n",
       " 49,\n",
       " 47,\n",
       " 48,\n",
       " 50,\n",
       " 48,\n",
       " 47,\n",
       " 47,\n",
       " 44,\n",
       " 43,\n",
       " 45,\n",
       " 48,\n",
       " 47,\n",
       " 45,\n",
       " 48,\n",
       " 44,\n",
       " 47,\n",
       " 47,\n",
       " 48,\n",
       " 49,\n",
       " 47,\n",
       " 48,\n",
       " 46,\n",
       " 49,\n",
       " 49,\n",
       " 45,\n",
       " 49,\n",
       " 49,\n",
       " 50,\n",
       " 49,\n",
       " 45,\n",
       " 49,\n",
       " 47,\n",
       " 46,\n",
       " 48,\n",
       " 48,\n",
       " 46,\n",
       " 47,\n",
       " 48,\n",
       " 47,\n",
       " 47,\n",
       " 48,\n",
       " 50,\n",
       " 47,\n",
       " 46,\n",
       " 48,\n",
       " 48,\n",
       " 48,\n",
       " 48,\n",
       " 49,\n",
       " 48,\n",
       " 48,\n",
       " 49,\n",
       " 48,\n",
       " 47,\n",
       " 47,\n",
       " 43,\n",
       " 48,\n",
       " 48,\n",
       " 48,\n",
       " 46,\n",
       " 49,\n",
       " 46,\n",
       " 46,\n",
       " 49,\n",
       " 49,\n",
       " 50,\n",
       " 47,\n",
       " 47,\n",
       " 49,\n",
       " 47,\n",
       " 49,\n",
       " 49,\n",
       " 46,\n",
       " 50,\n",
       " 48,\n",
       " 48,\n",
       " 43,\n",
       " 49,\n",
       " 44,\n",
       " 48,\n",
       " 50,\n",
       " 49,\n",
       " 48,\n",
       " 44,\n",
       " 48,\n",
       " 48,\n",
       " 47,\n",
       " 45,\n",
       " 48,\n",
       " 47,\n",
       " 47,\n",
       " 50,\n",
       " 48,\n",
       " 48,\n",
       " 49,\n",
       " 48,\n",
       " 49,\n",
       " 49,\n",
       " 48,\n",
       " 47,\n",
       " 50,\n",
       " 50,\n",
       " 44,\n",
       " 49,\n",
       " 47,\n",
       " 46,\n",
       " 46]"
      ]
     },
     "execution_count": 10,
     "metadata": {},
     "output_type": "execute_result"
    }
   ],
   "source": [
    "X = a_class\n",
    "dist = [X() for _ in range(1000)]\n",
    "dist"
   ]
  },
  {
   "cell_type": "markdown",
   "metadata": {},
   "source": [
    "`matplotlib` 是 Python 裡一個繪圖的套件  \n",
    "其中的 `pyplot` 有許多常用的繪圖函數  \n",
    "`hist` 代表的是 histogram（直方圖）  \n",
    "`hist(list)` 可以自動記算 `list` 中數字出現的次數並畫成圖表"
   ]
  },
  {
   "cell_type": "code",
   "execution_count": 11,
   "metadata": {},
   "outputs": [
    {
     "data": {
      "text/plain": [
       "(array([  1.,   2.,   9.,  36.,  53., 139., 214., 251., 202.,  93.]),\n",
       " array([41. , 41.9, 42.8, 43.7, 44.6, 45.5, 46.4, 47.3, 48.2, 49.1, 50. ]),\n",
       " <BarContainer object of 10 artists>)"
      ]
     },
     "execution_count": 11,
     "metadata": {},
     "output_type": "execute_result"
    },
    {
     "data": {
      "image/png": "[encoded data removed]",
      "text/plain": [
       "<Figure size 432x288 with 1 Axes>"
      ]
     },
     "metadata": {
      "needs_background": "light"
     },
     "output_type": "display_data"
    }
   ],
   "source": [
    "import matplotlib.pyplot as plt\n",
    "plt.hist(dist)"
   ]
  },
  {
   "cell_type": "markdown",
   "metadata": {},
   "source": [
    "#### 伯努利分布\n",
    "若一個隨機變數 $X$ 的可能數值為 $1$ 或 $0$  \n",
    "且出現機率各為 $p$ 和 $1-p$    \n",
    "則我們說 $X$ 服從**伯努利分布**"
   ]
  },
  {
   "cell_type": "code",
   "execution_count": 12,
   "metadata": {},
   "outputs": [],
   "source": [
    "X = lambda :np.random.choice([0,1]) # p = 0.5"
   ]
  },
  {
   "cell_type": "code",
   "execution_count": 13,
   "metadata": {},
   "outputs": [
    {
     "data": {
      "text/plain": [
       "0"
      ]
     },
     "execution_count": 13,
     "metadata": {},
     "output_type": "execute_result"
    }
   ],
   "source": [
    "X()"
   ]
  },
  {
   "cell_type": "code",
   "execution_count": 14,
   "metadata": {},
   "outputs": [
    {
     "data": {
      "text/plain": [
       "(array([503.,   0.,   0.,   0.,   0.,   0.,   0.,   0.,   0., 497.]),\n",
       " array([0. , 0.1, 0.2, 0.3, 0.4, 0.5, 0.6, 0.7, 0.8, 0.9, 1. ]),\n",
       " <BarContainer object of 10 artists>)"
      ]
     },
     "execution_count": 14,
     "metadata": {},
     "output_type": "execute_result"
    },
    {
     "data": {
      "image/png": "[encoded data removed]",
      "text/plain": [
       "<Figure size 432x288 with 1 Axes>"
      ]
     },
     "metadata": {
      "needs_background": "light"
     },
     "output_type": "display_data"
    }
   ],
   "source": [
    "dist = [X() for _ in range(1000)]\n",
    "plt.hist(dist)"
   ]
  },
  {
   "cell_type": "markdown",
   "metadata": {},
   "source": [
    "#### 二項分布\n",
    "假設有 $n$ 個機率為 $p$ 的伯努利分布  \n",
    "（各個隨機變數彼此獨立）  \n",
    "令 $X$ 為這 $n$ 個隨機變數的總和  \n",
    "則我們說 $X$ 服從**二項分布**"
   ]
  },
  {
   "cell_type": "markdown",
   "metadata": {},
   "source": [
    "常見的二項分布如擲硬幣（$p=0.5$）  \n",
    "擲 $n$ 次硬幣中出現正面的次數服從二項分布"
   ]
  },
  {
   "cell_type": "code",
   "execution_count": 15,
   "metadata": {},
   "outputs": [],
   "source": [
    "X = lambda :np.random.choice([0,1]) # p = 0.5\n",
    "\n",
    "def roll_n_coins(n):\n",
    "    total = 0\n",
    "    for _ in range(n):\n",
    "        total += X()\n",
    "    return total"
   ]
  },
  {
   "cell_type": "code",
   "execution_count": 16,
   "metadata": {},
   "outputs": [
    {
     "data": {
      "text/plain": [
       "37"
      ]
     },
     "execution_count": 16,
     "metadata": {},
     "output_type": "execute_result"
    }
   ],
   "source": [
    "roll_n_coins(100)"
   ]
  },
  {
   "cell_type": "code",
   "execution_count": 17,
   "metadata": {},
   "outputs": [
    {
     "data": {
      "text/plain": [
       "(array([ 14.,  46., 100., 160., 223., 215., 133.,  86.,  17.,   6.]),\n",
       " array([36. , 38.9, 41.8, 44.7, 47.6, 50.5, 53.4, 56.3, 59.2, 62.1, 65. ]),\n",
       " <BarContainer object of 10 artists>)"
      ]
     },
     "execution_count": 17,
     "metadata": {},
     "output_type": "execute_result"
    },
    {
     "data": {
      "image/png": "[encoded data removed]",
      "text/plain": [
       "<Figure size 432x288 with 1 Axes>"
      ]
     },
     "metadata": {
      "needs_background": "light"
     },
     "output_type": "display_data"
    }
   ],
   "source": [
    "dist = [roll_n_coins(100) for _ in range(1000)]\n",
    "plt.hist(dist)"
   ]
  },
  {
   "cell_type": "markdown",
   "metadata": {},
   "source": [
    "### 隨機變數運算\n",
    "若 $X$ 和 $Y$ 為兩個隨機變數  \n",
    "則 $X+Y$ 的意思是  \n",
    "每次事件發生後  \n",
    "算出記錄 $X$ 和 $Y$ 的數值  \n",
    "並將其相加"
   ]
  },
  {
   "cell_type": "markdown",
   "metadata": {},
   "source": [
    "$X$ 和 $Y$ 有可能是有關連性的"
   ]
  },
  {
   "cell_type": "code",
   "execution_count": 18,
   "metadata": {},
   "outputs": [],
   "source": [
    "X = lambda :np.random.choice([0,1]) # p = 0.5\n",
    "\n",
    "def Z():\n",
    "    x = X()\n",
    "    y = x\n",
    "    return x + y"
   ]
  },
  {
   "cell_type": "code",
   "execution_count": 19,
   "metadata": {},
   "outputs": [
    {
     "data": {
      "text/plain": [
       "2"
      ]
     },
     "execution_count": 19,
     "metadata": {},
     "output_type": "execute_result"
    }
   ],
   "source": [
    "Z() ### Z = X+X 只有可能是 0 或 2"
   ]
  },
  {
   "cell_type": "markdown",
   "metadata": {},
   "source": [
    "$X$ 和 $Y$ 也有可能是獨立的"
   ]
  },
  {
   "cell_type": "code",
   "execution_count": 20,
   "metadata": {},
   "outputs": [],
   "source": [
    "X = lambda :np.random.choice([0,1]) # p = 0.5\n",
    "\n",
    "def Z():\n",
    "    x = X()\n",
    "    y = X()\n",
    "    return x + y"
   ]
  },
  {
   "cell_type": "code",
   "execution_count": 21,
   "metadata": {},
   "outputs": [
    {
     "data": {
      "text/plain": [
       "2"
      ]
     },
     "execution_count": 21,
     "metadata": {},
     "output_type": "execute_result"
    }
   ],
   "source": [
    "Z()"
   ]
  },
  {
   "cell_type": "markdown",
   "metadata": {},
   "source": [
    "隨機變數 $X$ 也可以乘上一個實數 $k$  \n",
    "$kX$ 的意思是\n",
    "每次事件發生後  \n",
    "算出記錄 $X$ 的數值  \n",
    "並將其乘上 $k$"
   ]
  },
  {
   "cell_type": "code",
   "execution_count": 22,
   "metadata": {},
   "outputs": [],
   "source": [
    "X = lambda :np.random.choice([0,1]) # p = 0.5\n",
    "\n",
    "def Z():\n",
    "    x = X()\n",
    "    return 2*x"
   ]
  },
  {
   "cell_type": "code",
   "execution_count": 23,
   "metadata": {},
   "outputs": [
    {
     "data": {
      "text/plain": [
       "0"
      ]
     },
     "execution_count": 23,
     "metadata": {},
     "output_type": "execute_result"
    }
   ],
   "source": [
    "Z() ### 所以 Z = 2X = X+X"
   ]
  },
  {
   "cell_type": "markdown",
   "metadata": {},
   "source": [
    "因次一個二項分數 $Z$  \n",
    "其實就是把獨立的 $n$ 個伯努利分布相加  \n",
    "$Z = X_1 + \\cdots + X_n$"
   ]
  },
  {
   "cell_type": "markdown",
   "metadata": {},
   "source": [
    "### 連續隨機變數\n",
    "隨機變數的數值不見得只有有限個  \n",
    "也有可能是實數線上無窮多個數  \n",
    "這類的隨機變數表現很不一樣  \n",
    "（比如說機率等於零還是有可能發生）  \n",
    "它們稱為**連續隨機變數**"
   ]
  },
  {
   "cell_type": "markdown",
   "metadata": {},
   "source": [
    "其中一種常見的連續隨機變數叫**均勻分布**  \n",
    "$X$ 的數值可能為一線段 $[a,b]$ 上的任一數  \n",
    "而且每個數出現的機率一樣"
   ]
  },
  {
   "cell_type": "code",
   "execution_count": 24,
   "metadata": {},
   "outputs": [],
   "source": [
    "X = lambda :np.random.random() # [a,b] = [0,1]"
   ]
  },
  {
   "cell_type": "code",
   "execution_count": 25,
   "metadata": {},
   "outputs": [
    {
     "data": {
      "text/plain": [
       "0.7184732951325327"
      ]
     },
     "execution_count": 25,
     "metadata": {},
     "output_type": "execute_result"
    }
   ],
   "source": [
    "X()"
   ]
  },
  {
   "cell_type": "markdown",
   "metadata": {},
   "source": [
    "$X = 0.5$ 的機率等於零  \n",
    "但還是有可能發生"
   ]
  },
  {
   "cell_type": "code",
   "execution_count": 26,
   "metadata": {},
   "outputs": [
    {
     "data": {
      "text/plain": [
       "False"
      ]
     },
     "execution_count": 26,
     "metadata": {},
     "output_type": "execute_result"
    }
   ],
   "source": [
    "X() == 0.5"
   ]
  },
  {
   "cell_type": "markdown",
   "metadata": {},
   "source": [
    "另外一種常見的連續隨機變數叫**常態分布**  \n",
    "（當平均為 0 且變異數為 1 的時候） \n",
    "它的分布圖形可以用數學式  \n",
    "$f(x) = \\frac{1}{\\sqrt{2\\pi}}e^{\\frac{1}{2}x^2}$  \n",
    "來表示  \n",
    "\n",
    "而 NumPy 中可以用 `np.random.randn(n)`  \n",
    "來隨機產出 $n$ 個常態分布的數值"
   ]
  },
  {
   "cell_type": "code",
   "execution_count": 27,
   "metadata": {},
   "outputs": [
    {
     "data": {
      "text/plain": [
       "(array([ 1.,  1.,  0.,  0.,  4.,  1.,  2.,  4.,  4.,  5., 10., 11., 16.,\n",
       "        26., 20., 35., 32., 35., 46., 33., 44., 33., 63., 47., 58., 48.,\n",
       "        52., 61., 43., 48., 34., 39., 28., 26., 24., 14.,  9., 14.,  7.,\n",
       "         3.,  3.,  8.,  1.,  0.,  2.,  2.,  0.,  1.,  1.,  1.]),\n",
       " array([-3.29069345, -3.1565578 , -3.02242216, -2.88828651, -2.75415086,\n",
       "        -2.62001521, -2.48587956, -2.35174392, -2.21760827, -2.08347262,\n",
       "        -1.94933697, -1.81520132, -1.68106568, -1.54693003, -1.41279438,\n",
       "        -1.27865873, -1.14452308, -1.01038744, -0.87625179, -0.74211614,\n",
       "        -0.60798049, -0.47384484, -0.3397092 , -0.20557355, -0.0714379 ,\n",
       "         0.06269775,  0.1968334 ,  0.33096905,  0.46510469,  0.59924034,\n",
       "         0.73337599,  0.86751164,  1.00164729,  1.13578293,  1.26991858,\n",
       "         1.40405423,  1.53818988,  1.67232553,  1.80646117,  1.94059682,\n",
       "         2.07473247,  2.20886812,  2.34300377,  2.47713941,  2.61127506,\n",
       "         2.74541071,  2.87954636,  3.01368201,  3.14781765,  3.2819533 ,\n",
       "         3.41608895]),\n",
       " <BarContainer object of 50 artists>)"
      ]
     },
     "execution_count": 27,
     "metadata": {},
     "output_type": "execute_result"
    },
    {
     "data": {
      "image/png": "[encoded data removed]",
      "text/plain": [
       "<Figure size 432x288 with 1 Axes>"
      ]
     },
     "metadata": {
      "needs_background": "light"
     },
     "output_type": "display_data"
    }
   ],
   "source": [
    "dist = np.random.randn(1000)\n",
    "plt.hist(dist, bins=50)"
   ]
  },
  {
   "cell_type": "markdown",
   "metadata": {},
   "source": [
    "## 統計\n",
    "統計常常用事後觀察到的現象  \n",
    "來評估一個隨機變數"
   ]
  },
  {
   "cell_type": "markdown",
   "metadata": {},
   "source": [
    "### 平均值"
   ]
  },
  {
   "cell_type": "markdown",
   "metadata": {},
   "source": [
    "#### 隨機變數的平均值\n",
    "若一個隨機變數 $X$ 只有有限個可能的值  \n",
    "則它的**平均值**（又稱**期望值**）為  \n",
    "$\\mathbb{E}(X) = \\sum_k k\\cdot\\operatorname{Pr}(X=k)$  \n",
    "其中 $\\operatorname{Pr}(X=k)$ 為 $X=k$ 的機率"
   ]
  },
  {
   "cell_type": "markdown",
   "metadata": {},
   "source": [
    "比如說一個公正骰子  \n",
    "擲出來數字的期望值為  \n",
    "$1\\cdot\\frac{1}{6} + \\cdots + 6\\cdot\\frac{1}{6} = 3.5$"
   ]
  },
  {
   "cell_type": "markdown",
   "metadata": {},
   "source": [
    "若連續投擲這個骰子直到出現 $1$ 才停止  \n",
    "投擲次數的期望值為  \n",
    "$1\\cdot\\frac{1}{6} + 2\\cdot\\frac{5}{6}\\cdot\\frac{1}{6} + 3\\cdot\\frac{5}{6}\\cdot\\frac{5}{6}\\cdot\\frac{1}{6} + \\cdots = 6$  \n",
    "（想想看 6 是怎麼算出來的）"
   ]
  },
  {
   "cell_type": "code",
   "execution_count": 28,
   "metadata": {},
   "outputs": [
    {
     "name": "stdout",
     "output_type": "stream",
     "text": [
      "5.99999872008461\n"
     ]
    }
   ],
   "source": [
    "total = 0\n",
    "prob = 1/6\n",
    "for i in range(1,101):\n",
    "    total += i * prob\n",
    "    prob = prob*5/6\n",
    "print(N(total))"
   ]
  },
  {
   "cell_type": "markdown",
   "metadata": {},
   "source": [
    "#### 利用樣本估計平均值\n",
    "然而在真實世界裡  \n",
    "事件發生的機率往往都不知道  \n",
    "根據**大數法則**  \n",
    "我們還是可以用大量的試驗樣本  \n",
    "來估計隨機變數的平均值"
   ]
  },
  {
   "cell_type": "markdown",
   "metadata": {},
   "source": [
    "先創造一個公正骰子  \n",
    "（假裝你沒看到下方的程式碼  \n",
    "而且你也不知道各個數字發生的機率）"
   ]
  },
  {
   "cell_type": "code",
   "execution_count": 29,
   "metadata": {},
   "outputs": [],
   "source": [
    "X = lambda :np.random.choice([1,2,3,4,5,6])"
   ]
  },
  {
   "cell_type": "code",
   "execution_count": 30,
   "metadata": {},
   "outputs": [
    {
     "data": {
      "text/plain": [
       "2"
      ]
     },
     "execution_count": 30,
     "metadata": {},
     "output_type": "execute_result"
    }
   ],
   "source": [
    "X()"
   ]
  },
  {
   "cell_type": "markdown",
   "metadata": {},
   "source": [
    "擲出數字的平均值 $\\sim$ 擲出數字總和 / 投擲次數"
   ]
  },
  {
   "cell_type": "code",
   "execution_count": 31,
   "metadata": {},
   "outputs": [
    {
     "name": "stdout",
     "output_type": "stream",
     "text": [
      "3.471\n"
     ]
    }
   ],
   "source": [
    "total = sum(X() for _ in range(1000))\n",
    "print(total/1000.0)"
   ]
  },
  {
   "cell_type": "markdown",
   "metadata": {},
   "source": [
    "擲出 1 所須次數的平均值 $\\sim$ 每輪投擲次數 / 輪數"
   ]
  },
  {
   "cell_type": "code",
   "execution_count": 32,
   "metadata": {},
   "outputs": [],
   "source": [
    "def get_a_one():\n",
    "    i = 1\n",
    "    while True:\n",
    "        if X() == 1:\n",
    "            break\n",
    "        else:\n",
    "            i += 1\n",
    "    return i"
   ]
  },
  {
   "cell_type": "code",
   "execution_count": 33,
   "metadata": {},
   "outputs": [
    {
     "data": {
      "text/plain": [
       "3"
      ]
     },
     "execution_count": 33,
     "metadata": {},
     "output_type": "execute_result"
    }
   ],
   "source": [
    "get_a_one()"
   ]
  },
  {
   "cell_type": "code",
   "execution_count": 34,
   "metadata": {},
   "outputs": [
    {
     "name": "stdout",
     "output_type": "stream",
     "text": [
      "5.65300000000000\n"
     ]
    }
   ],
   "source": [
    "total = sum(get_a_one() for _ in range(1000))\n",
    "print(total/1000.0)"
   ]
  },
  {
   "cell_type": "markdown",
   "metadata": {},
   "source": [
    "比較一下估算的平均數和真正的平均數是否相近"
   ]
  },
  {
   "cell_type": "markdown",
   "metadata": {},
   "source": [
    "### 變異數\n",
    "平均值描述了一個分布的中間值  \n",
    "變異數則是用來描述一個分布的分散程度  \n",
    "（常聽到的**標準差**是變異數的根號）"
   ]
  },
  {
   "cell_type": "markdown",
   "metadata": {},
   "source": [
    "#### 隨機變數的變異數（母體變異數）\n",
    "若一個隨機變數 $X$ 只有有限個可能的值  \n",
    "則它的**變異數**為  \n",
    "$\\operatorname{Var}(X) = \\mathbb{E}[(X - \\mu)^2] = \\sum_k (k-\\mu)^2\\cdot\\operatorname{Pr}(X=k)$  \n",
    "其中 $\\mu = \\mathbb{E}(X)$ 為 $X$ 的平均值"
   ]
  },
  {
   "cell_type": "markdown",
   "metadata": {},
   "source": [
    "以擲公正骰子來說  \n",
    "擲出數字的變異數為  \n",
    "$(1-3.5)^2\\cdot\\frac{1}{6} + \\cdots + (6-3.5)^2\\cdot\\frac{1}{6} = \\frac{35}{12}$"
   ]
  },
  {
   "cell_type": "code",
   "execution_count": 35,
   "metadata": {},
   "outputs": [
    {
     "data": {
      "text/plain": [
       "2.91666666666667"
      ]
     },
     "execution_count": 35,
     "metadata": {},
     "output_type": "execute_result"
    }
   ],
   "source": [
    "sum((i - 3.5)^2 / 6 for i in range(1,7))"
   ]
  },
  {
   "cell_type": "markdown",
   "metadata": {},
   "source": [
    "擲出 1 的次數的變異數為  \n",
    "$(1-6)^2\\cdot\\frac{1}{6} + (2-6)^2\\cdot\\frac{5}{6}\\cdot\\frac{1}{6} + (3-6)^2\\cdot\\frac{5}{6}\\cdot\\frac{5}{6}\\cdot\\frac{1}{6} + \\cdots = 30$"
   ]
  },
  {
   "cell_type": "code",
   "execution_count": 36,
   "metadata": {},
   "outputs": [
    {
     "name": "stdout",
     "output_type": "stream",
     "text": [
      "29.9998788910251\n"
     ]
    }
   ],
   "source": [
    "total = 0\n",
    "prob = 1/6\n",
    "for i in range(1,101):\n",
    "    total += (i-6)^2 * prob\n",
    "    prob = prob*5/6\n",
    "print(N(total))"
   ]
  },
  {
   "cell_type": "markdown",
   "metadata": {},
   "source": [
    "#### 利用樣本估計變異數（樣本變異數）\n",
    "如果抽出 $N$ 個樣本 $x_1, \\ldots, x_N$  \n",
    "我們可先*估算*平均值  \n",
    "$\\mu = \\frac{1}{N}(x_1 + \\cdots + x_N)$  \n",
    "因為每一個樣本出現的機率為 $\\frac{1}{N}$  \n",
    "如此可以估算出變異數  \n",
    "$\\frac{1}{N}\\sum_{i=1}^N(x_i-\\mu)^2$  \n",
    "\n",
    "（注意這裡我們是用  \n",
    "估算出的平均數  \n",
    "再來估算變異數）"
   ]
  },
  {
   "cell_type": "markdown",
   "metadata": {},
   "source": [
    "用同樣一顆公正骰子"
   ]
  },
  {
   "cell_type": "code",
   "execution_count": 37,
   "metadata": {},
   "outputs": [],
   "source": [
    "X = lambda :np.random.choice([1,2,3,4,5,6])"
   ]
  },
  {
   "cell_type": "code",
   "execution_count": 38,
   "metadata": {},
   "outputs": [
    {
     "data": {
      "text/plain": [
       "2"
      ]
     },
     "execution_count": 38,
     "metadata": {},
     "output_type": "execute_result"
    }
   ],
   "source": [
    "X()"
   ]
  },
  {
   "cell_type": "markdown",
   "metadata": {},
   "source": [
    "估算擲出數字的變異數"
   ]
  },
  {
   "cell_type": "code",
   "execution_count": 39,
   "metadata": {},
   "outputs": [
    {
     "name": "stdout",
     "output_type": "stream",
     "text": [
      "2.9276959600001438\n"
     ]
    }
   ],
   "source": [
    "samples = [X() for i in range(10000)]\n",
    "mu = sum(samples) / 10000\n",
    "square_sum = sum((sample - mu)^2 for sample in samples)\n",
    "print(square_sum/10000.0)"
   ]
  },
  {
   "cell_type": "markdown",
   "metadata": {},
   "source": [
    "估算擲出 1 所須次數的變異數"
   ]
  },
  {
   "cell_type": "code",
   "execution_count": 40,
   "metadata": {},
   "outputs": [],
   "source": [
    "def get_a_one():\n",
    "    i = 1\n",
    "    while True:\n",
    "        if X() == 1:\n",
    "            break\n",
    "        else:\n",
    "            i += 1\n",
    "    return i"
   ]
  },
  {
   "cell_type": "code",
   "execution_count": 41,
   "metadata": {},
   "outputs": [
    {
     "data": {
      "text/plain": [
       "6"
      ]
     },
     "execution_count": 41,
     "metadata": {},
     "output_type": "execute_result"
    }
   ],
   "source": [
    "get_a_one()"
   ]
  },
  {
   "cell_type": "code",
   "execution_count": 42,
   "metadata": {},
   "outputs": [
    {
     "name": "stdout",
     "output_type": "stream",
     "text": [
      "30.0245420400000\n"
     ]
    }
   ],
   "source": [
    "samples = [get_a_one() for i in range(10000)]\n",
    "mu = sum(samples) / 10000\n",
    "square_sum = sum((sample - mu)^2 for sample in samples)\n",
    "print(square_sum/10000.0)"
   ]
  },
  {
   "cell_type": "markdown",
   "metadata": {},
   "source": [
    "比較一下估算的變異數和真正的變異數是否相近"
   ]
  },
  {
   "cell_type": "markdown",
   "metadata": {},
   "source": [
    "## 動手試試看"
   ]
  },
  {
   "cell_type": "markdown",
   "metadata": {},
   "source": [
    "##### 練習 1\n",
    "\n",
    "定義一個函數 `B(p, n)` 其功能為：  \n",
    "處理伯努利分布的函數，其中傳入值要有成功機率 `p`、樣本數 `n`  \n",
    "並回傳成功的次數"
   ]
  },
  {
   "cell_type": "code",
   "execution_count": null,
   "metadata": {},
   "outputs": [],
   "source": [
    "### your answer here"
   ]
  },
  {
   "cell_type": "markdown",
   "metadata": {},
   "source": [
    "##### 練習 2\n",
    "\n",
    "試著運用上一題寫出的函數  \n",
    "定義出一個新的函數 `Binomial(p, n, times)`其功能為：  \n",
    "執行 `B` 函數 `times` 次  \n",
    "將其結果記錄在一個 `list` 中並回傳  "
   ]
  },
  {
   "cell_type": "code",
   "execution_count": null,
   "metadata": {},
   "outputs": [],
   "source": [
    "### your answer here"
   ]
  },
  {
   "cell_type": "markdown",
   "metadata": {},
   "source": [
    "##### 練習 3\n",
    "\n",
    "試著將上一題的函數結果用長條圖表示出來  \n",
    "並觀察它和常態分布的圖形有何差異"
   ]
  },
  {
   "cell_type": "code",
   "execution_count": null,
   "metadata": {},
   "outputs": [],
   "source": [
    "### your answer here"
   ]
  },
  {
   "cell_type": "markdown",
   "metadata": {},
   "source": [
    "##### 練習 4\n",
    "\n",
    "定義一個函數 `Two_Dices()` 其功能為：     \n",
    "回傳同時擲出兩個骰子的結果和"
   ]
  },
  {
   "cell_type": "code",
   "execution_count": null,
   "metadata": {},
   "outputs": [],
   "source": [
    "### your answer here"
   ]
  },
  {
   "cell_type": "markdown",
   "metadata": {},
   "source": [
    "##### 練習 5\n",
    "\n",
    "運用上一題的函數  \n",
    "定義一個函數 `Two_Dices_Mean(n)` 其功能為：    \n",
    "回傳做 `n` 次 `Two_Dices(n)` 試驗後的平均值  \n",
    "其中 `n` 代表實驗次數"
   ]
  },
  {
   "cell_type": "code",
   "execution_count": null,
   "metadata": {},
   "outputs": [],
   "source": [
    "### your answer here"
   ]
  },
  {
   "cell_type": "markdown",
   "metadata": {},
   "source": [
    "##### 練習 6\n",
    "\n",
    "定義一個函數 `Two_Dices_Variance(n)` 其功能為：    \n",
    "計算 `n` 次 `Two_Dices(n)` 試驗後的變異數  \n",
    "其中 `n` 代表實驗次數"
   ]
  },
  {
   "cell_type": "code",
   "execution_count": null,
   "metadata": {},
   "outputs": [],
   "source": [
    "### your answer here"
   ]
  },
  {
   "cell_type": "markdown",
   "metadata": {},
   "source": [
    "##### 練習 7\n",
    "\n",
    "假設一個箱子中有 4 個白球、3 個紅球、3 個藍球  \n",
    "定義一個函數其功能為：    \n",
    "回傳連續抽樣 3 顆球的結果  \n",
    "且之中取樣不放回"
   ]
  },
  {
   "cell_type": "code",
   "execution_count": null,
   "metadata": {},
   "outputs": [],
   "source": [
    "### your answer here"
   ]
  },
  {
   "cell_type": "markdown",
   "metadata": {},
   "source": [
    "##### 練習 8\n",
    "\n",
    "使用上一題的函數，  \n",
    "定義一個函數計算在實驗次數 `n` 之下  \n",
    "連續抽 3 顆球的顏色依序是[紅、白、白]機率是多少"
   ]
  },
  {
   "cell_type": "code",
   "execution_count": null,
   "metadata": {},
   "outputs": [],
   "source": [
    "### your answer here"
   ]
  },
  {
   "cell_type": "markdown",
   "metadata": {},
   "source": [
    "##### 練習 9\n",
    "\n",
    "以上面提到的常態分佈函數 `np.random.randn()`  \n",
    "定義一個函數 `Normal_1(n)`  \n",
    "以大量樣本數 `n`，計算抽出的值落於**平均值±1標準差**的機率  "
   ]
  },
  {
   "cell_type": "code",
   "execution_count": null,
   "metadata": {},
   "outputs": [],
   "source": [
    "### your answer here"
   ]
  },
  {
   "cell_type": "markdown",
   "metadata": {},
   "source": [
    "##### 練習 10\n",
    "\n",
    "以上面提到的常態分佈函數 `np.random.randn()`  \n",
    "定義一函數 `Normal_2(n)`  \n",
    "以大量樣本數 `n`，計算抽出的值落於**平均值±2標準**的機率  "
   ]
  },
  {
   "cell_type": "code",
   "execution_count": null,
   "metadata": {},
   "outputs": [],
   "source": [
    "### your answer here"
   ]
  },
  {
   "cell_type": "markdown",
   "metadata": {},
   "source": [
    "##### 練習11\n",
    "早期的教科書中樣本變異數的公式為  \n",
    "$\\frac{1}{N-1}\\sum_{i=1}^N(x_i-\\mu)^2$  \n",
    "（也就是要除以 $N-1$ 而不是 $N$）\n",
    "\n",
    "下方的 `sample_var` 函數可以計算 `X` 這個隨機變數  \n",
    "在取樣 `num_samples` 次後所得的樣本變異數，  \n",
    "同時這個函數提供 `ver='n'` 和 `ver='n-1'` 的兩個版本。"
   ]
  },
  {
   "cell_type": "code",
   "execution_count": null,
   "metadata": {},
   "outputs": [],
   "source": [
    "X = lambda :np.random.choice([1,2,3,4,5,6])\n",
    "\n",
    "def sample_var(X, num_samples=10, ver='n'):\n",
    "    samples = [X() for i in range(num_samples)]\n",
    "    mu = sum(samples) / num_samples\n",
    "    square_sum = sum((sample - mu)^2 for sample in samples)\n",
    "    if ver == 'n':\n",
    "        return square_sum/float(num_samples)\n",
    "    if ver == 'n-1':\n",
    "        return square_sum/float(num_samples-1)"
   ]
  },
  {
   "cell_type": "markdown",
   "metadata": {},
   "source": [
    "把 `num_samples` 調很大看看  \n",
    "出來得答案是不是很接近 `X` 的母體變異數？"
   ]
  },
  {
   "cell_type": "code",
   "execution_count": null,
   "metadata": {},
   "outputs": [],
   "source": [
    "### your answer here"
   ]
  },
  {
   "cell_type": "markdown",
   "metadata": {},
   "source": [
    "另外一種辦法，就是把 `sample_var` 執行很多次再取平均  \n",
    "試試看哪一個版本的平均會比較接近 `X` 的母體變異數？"
   ]
  },
  {
   "cell_type": "code",
   "execution_count": null,
   "metadata": {},
   "outputs": [],
   "source": [
    "### your answer here"
   ]
  },
  {
   "cell_type": "code",
   "execution_count": null,
   "metadata": {},
   "outputs": [],
   "source": []
  }
 ],
 "metadata": {
  "kernelspec": {
   "display_name": "SageMath 9.6",
   "language": "sage",
   "name": "sagemath"
  },
  "language_info": {
   "codemirror_mode": {
    "name": "ipython",
    "version": 3
   },
   "file_extension": ".py",
   "mimetype": "text/x-python",
   "name": "python",
   "nbconvert_exporter": "python",
   "pygments_lexer": "ipython3",
   "version": "3.10.5"
  }
 },
 "nbformat": 4,
 "nbformat_minor": 2
}
