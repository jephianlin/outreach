{
 "cells": [
  {
   "cell_type": "markdown",
   "metadata": {},
   "source": [
    "# 數列與級數（Sequences and Series）"
   ]
  },
  {
   "cell_type": "markdown",
   "metadata": {},
   "source": [
    "![Creative Commons License](https://i.creativecommons.org/l/by/4.0/88x31.png)\n",
    "\n",
    "This work by Jephian Lin is licensed under a [Creative Commons Attribution 4.0 International License](http://creativecommons.org/licenses/by/4.0/)."
   ]
  },
  {
   "cell_type": "markdown",
   "metadata": {},
   "source": [
    "_Tested on SageMath version 8.7_"
   ]
  },
  {
   "cell_type": "markdown",
   "metadata": {},
   "source": [
    "## 數列\n",
    "\n",
    "一個**數列**指的是一連串的數字  \n",
    "$a_1,a_2,\\ldots,a_n$  "
   ]
  },
  {
   "cell_type": "markdown",
   "metadata": {},
   "source": [
    "在 Sage 中，我們可以用**列表**（list）來紀錄一個數列  \n",
    "一個列表由一組中括號和一些逗點組成  \n",
    "`[a1, a2, ..., an]`"
   ]
  },
  {
   "cell_type": "code",
   "execution_count": 87,
   "metadata": {},
   "outputs": [],
   "source": [
    "seq = [1,2,3,4,5]"
   ]
  },
  {
   "cell_type": "markdown",
   "metadata": {},
   "source": [
    "如果 `seq` 是一個列表  \n",
    "可以用 `seq[i]` 來叫出 `seq` 中的第 `i` 個元素  \n",
    "但注意在程式設計中，元素是從 0 開始數"
   ]
  },
  {
   "cell_type": "code",
   "execution_count": 24,
   "metadata": {},
   "outputs": [
    {
     "data": {
      "text/plain": [
       "3"
      ]
     },
     "execution_count": 24,
     "metadata": {},
     "output_type": "execute_result"
    }
   ],
   "source": [
    "seq[2]"
   ]
  },
  {
   "cell_type": "markdown",
   "metadata": {},
   "source": [
    "Sage 中可以用 `range(n)` 來叫出  \n",
    "`[0, 1, ..., n-1]`  \n",
    "這個列表（`n` 不在裡面）  "
   ]
  },
  {
   "cell_type": "code",
   "execution_count": 26,
   "metadata": {},
   "outputs": [
    {
     "data": {
      "text/plain": [
       "[0, 1, 2, 3, 4, 5, 6, 7, 8, 9]"
      ]
     },
     "execution_count": 26,
     "metadata": {},
     "output_type": "execute_result"
    }
   ],
   "source": [
    "seq = range(10)\n",
    "seq"
   ]
  },
  {
   "cell_type": "markdown",
   "metadata": {},
   "source": [
    "也可以用 `range(a,b)` 來叫出  \n",
    "`[a, a+1, ..., b-1]`  \n",
    "這個列表（`b` 不在裡面）"
   ]
  },
  {
   "cell_type": "code",
   "execution_count": 27,
   "metadata": {},
   "outputs": [
    {
     "data": {
      "text/plain": [
       "[3, 4, 5, 6, 7, 8, 9]"
      ]
     },
     "execution_count": 27,
     "metadata": {},
     "output_type": "execute_result"
    }
   ],
   "source": [
    "seq = range(3,10)\n",
    "seq"
   ]
  },
  {
   "cell_type": "markdown",
   "metadata": {},
   "source": [
    "### 迴圈\n",
    "\n",
    "電腦擅長做重覆且類似的事情  \n",
    "\n",
    "一個**迴圈**（loop）可以  \n",
    "對列表中的所有元素  \n",
    "做相同的事情\n",
    "\n",
    "```Python\n",
    "for element in some_list:\n",
    "    do something\n",
    "```"
   ]
  },
  {
   "cell_type": "code",
   "execution_count": 2,
   "metadata": {},
   "outputs": [
    {
     "name": "stdout",
     "output_type": "stream",
     "text": [
      "2 is a prime number\n",
      "3 is a prime number\n",
      "5 is a prime number\n",
      "7 is a prime number\n",
      "11 is a prime number\n"
     ]
    }
   ],
   "source": [
    "seq = [2,3,5,7,11]\n",
    "\n",
    "for p in seq:\n",
    "    print('%s is a prime number'%p)"
   ]
  },
  {
   "cell_type": "code",
   "execution_count": null,
   "metadata": {},
   "outputs": [],
   "source": []
  },
  {
   "cell_type": "markdown",
   "metadata": {},
   "source": [
    "配合一些 `if` 的判斷式  \n",
    "可以讓迴圈更加靈活"
   ]
  },
  {
   "cell_type": "code",
   "execution_count": 3,
   "metadata": {},
   "outputs": [
    {
     "name": "stdout",
     "output_type": "stream",
     "text": [
      "1\n",
      "14\n",
      "18\n",
      "27\n",
      "35\n",
      "40\n",
      "52\n",
      "53\n",
      "66\n",
      "69\n",
      "79\n",
      "86\n",
      "92\n"
     ]
    }
   ],
   "source": [
    "for i in range(1,101):\n",
    "    if i%13 == 1 or i%17 == 1:\n",
    "        print(i)"
   ]
  },
  {
   "cell_type": "markdown",
   "metadata": {},
   "source": [
    "### 等差數列\n",
    "\n",
    "一個**等差數列**  \n",
    "$a_1, a_2,\\ldots, a_n$  \n",
    "中的每一項都符合 $a_{k+1}=a_k+d$ 的條件\n",
    "\n",
    "其中 $a_1$ 叫做**首項**  \n",
    "而 $d$ 叫做**公差** "
   ]
  },
  {
   "cell_type": "markdown",
   "metadata": {},
   "source": [
    "比如說  \n",
    "首項為 5  \n",
    "公差為 2"
   ]
  },
  {
   "cell_type": "code",
   "execution_count": 90,
   "metadata": {},
   "outputs": [],
   "source": [
    "a = 5\n",
    "d = 2"
   ]
  },
  {
   "cell_type": "markdown",
   "metadata": {},
   "source": [
    "當執行 `a = a + d` 時  \n",
    "意思是將 `a` 更新成 `a + d`  \n",
    "（所以將下方的程式跑 9 次就會得到 $a_{10}$）"
   ]
  },
  {
   "cell_type": "code",
   "execution_count": 96,
   "metadata": {},
   "outputs": [
    {
     "data": {
      "text/plain": [
       "17"
      ]
     },
     "execution_count": 96,
     "metadata": {},
     "output_type": "execute_result"
    }
   ],
   "source": [
    "a = a + d\n",
    "a"
   ]
  },
  {
   "cell_type": "markdown",
   "metadata": {},
   "source": [
    "利用迴圈讓事情變得更簡單"
   ]
  },
  {
   "cell_type": "code",
   "execution_count": 10,
   "metadata": {},
   "outputs": [
    {
     "name": "stdout",
     "output_type": "stream",
     "text": [
      "(1, 5)\n",
      "(2, 7)\n",
      "(3, 9)\n",
      "(4, 11)\n",
      "(5, 13)\n",
      "(6, 15)\n",
      "(7, 17)\n",
      "(8, 19)\n",
      "(9, 21)\n",
      "(10, 23)\n"
     ]
    }
   ],
   "source": [
    "a = 5\n",
    "d = 2\n",
    "\n",
    "print(1, a)\n",
    "\n",
    "for i in range(2,11):\n",
    "    a = a + d\n",
    "    print(i, a)"
   ]
  },
  {
   "cell_type": "markdown",
   "metadata": {},
   "source": [
    "但數學理論常常能給出簡潔的答案  \n",
    "$a_n = a_1 + (n-1)d$"
   ]
  },
  {
   "cell_type": "code",
   "execution_count": 15,
   "metadata": {},
   "outputs": [
    {
     "data": {
      "text/plain": [
       "23"
      ]
     },
     "execution_count": 15,
     "metadata": {},
     "output_type": "execute_result"
    }
   ],
   "source": [
    "a = 5\n",
    "d = 2\n",
    "a10 = a + (10 - 1)*d\n",
    "a10"
   ]
  },
  {
   "cell_type": "markdown",
   "metadata": {},
   "source": [
    "### 等比數列\n",
    "\n",
    "一個**等比數列**  \n",
    "$a_1, a_2,\\ldots, a_n$  \n",
    "中的每一項都符合 $a_{k+1}=a_k\\times r$ 的條件\n",
    "\n",
    "其中 $a_1$ 叫做**首項**  \n",
    "而 $r$ 叫做**公比** "
   ]
  },
  {
   "cell_type": "markdown",
   "metadata": {},
   "source": [
    "比如說  \n",
    "首項為 5  \n",
    "公比為 2"
   ]
  },
  {
   "cell_type": "code",
   "execution_count": 51,
   "metadata": {},
   "outputs": [],
   "source": [
    "a = 5\n",
    "r = 2"
   ]
  },
  {
   "cell_type": "markdown",
   "metadata": {},
   "source": [
    "當執行 `a = a * d` 時  \n",
    "意思是將 `a` 更新成 `a * d`  \n",
    "（所以將下方的程式跑 9 次就會得到 $a_{10}$）"
   ]
  },
  {
   "cell_type": "code",
   "execution_count": 55,
   "metadata": {},
   "outputs": [
    {
     "data": {
      "text/plain": [
       "80"
      ]
     },
     "execution_count": 55,
     "metadata": {},
     "output_type": "execute_result"
    }
   ],
   "source": [
    "a = a * r\n",
    "a"
   ]
  },
  {
   "cell_type": "markdown",
   "metadata": {},
   "source": [
    "同樣可以用迴圈來處理"
   ]
  },
  {
   "cell_type": "code",
   "execution_count": 12,
   "metadata": {},
   "outputs": [
    {
     "name": "stdout",
     "output_type": "stream",
     "text": [
      "(1, 5)\n",
      "(2, 10)\n",
      "(3, 20)\n",
      "(4, 40)\n",
      "(5, 80)\n",
      "(6, 160)\n",
      "(7, 320)\n",
      "(8, 640)\n",
      "(9, 1280)\n",
      "(10, 2560)\n"
     ]
    }
   ],
   "source": [
    "a = 5\n",
    "r = 2\n",
    "\n",
    "print(1, a)\n",
    "\n",
    "for i in range(2,11):\n",
    "    a = a * r\n",
    "    print(i, a)"
   ]
  },
  {
   "cell_type": "markdown",
   "metadata": {},
   "source": [
    "等比數列的第 $n$ 項為  \n",
    "$a_n = a_1 \\times r^{n-1}$"
   ]
  },
  {
   "cell_type": "code",
   "execution_count": 19,
   "metadata": {},
   "outputs": [
    {
     "data": {
      "text/plain": [
       "2560"
      ]
     },
     "execution_count": 19,
     "metadata": {},
     "output_type": "execute_result"
    }
   ],
   "source": [
    "a = 5\n",
    "r = 2\n",
    "a10 = a * r^(10-1)\n",
    "a10"
   ]
  },
  {
   "cell_type": "markdown",
   "metadata": {},
   "source": [
    "## 級數\n",
    "\n",
    "一個**級數**指的是一連串數字的和  \n",
    "$a_1+a_2+\\cdots +a_n$"
   ]
  },
  {
   "cell_type": "markdown",
   "metadata": {},
   "source": [
    "`sum` 函數可以計算列表中所有元素的總和"
   ]
  },
  {
   "cell_type": "code",
   "execution_count": 98,
   "metadata": {},
   "outputs": [
    {
     "data": {
      "text/plain": [
       "15"
      ]
     },
     "execution_count": 98,
     "metadata": {},
     "output_type": "execute_result"
    }
   ],
   "source": [
    "seq = [1,2,3,4,5]\n",
    "sum(seq)"
   ]
  },
  {
   "cell_type": "markdown",
   "metadata": {},
   "source": [
    "也可以利用迴圈來計算總和：\n",
    "\n",
    "設定 `total = 0`  \n",
    "每次把各個元素加進去 `total = total + i`"
   ]
  },
  {
   "cell_type": "code",
   "execution_count": 36,
   "metadata": {},
   "outputs": [
    {
     "data": {
      "text/plain": [
       "15"
      ]
     },
     "execution_count": 36,
     "metadata": {},
     "output_type": "execute_result"
    }
   ],
   "source": [
    "seq = [1,2,3,4,5]\n",
    "\n",
    "total = 0\n",
    "for i in seq:\n",
    "    total = total + i\n",
    "    \n",
    "total"
   ]
  },
  {
   "cell_type": "markdown",
   "metadata": {},
   "source": [
    "用迴圈來計算等差級數"
   ]
  },
  {
   "cell_type": "code",
   "execution_count": 11,
   "metadata": {},
   "outputs": [
    {
     "name": "stdout",
     "output_type": "stream",
     "text": [
      "(1, 5, 5)\n",
      "(2, 7, 12)\n",
      "(3, 9, 21)\n",
      "(4, 11, 32)\n",
      "(5, 13, 45)\n",
      "(6, 15, 60)\n",
      "(7, 17, 77)\n",
      "(8, 19, 96)\n",
      "(9, 21, 117)\n",
      "(10, 23, 140)\n"
     ]
    }
   ],
   "source": [
    "a = 5 \n",
    "d = 2 \n",
    "\n",
    "total = a\n",
    "print(1, a, total)\n",
    "\n",
    "for i in range(2,11):\n",
    "    a = a + d\n",
    "    total = total + a\n",
    "    print(i, a, total)"
   ]
  },
  {
   "cell_type": "markdown",
   "metadata": {},
   "source": [
    "首項為 $a_1$ 而公差為 $d$ 的等差級數為  \n",
    "$a_1+\\cdots +a_n=\\frac{(a_1+a_n)\\times n}{2} = \\frac{(a_1+a_1+(n-1)d)\\times n}{2}$"
   ]
  },
  {
   "cell_type": "markdown",
   "metadata": {},
   "source": [
    "算出來答案應該要一樣"
   ]
  },
  {
   "cell_type": "code",
   "execution_count": 100,
   "metadata": {},
   "outputs": [
    {
     "data": {
      "text/plain": [
       "140"
      ]
     },
     "execution_count": 100,
     "metadata": {},
     "output_type": "execute_result"
    }
   ],
   "source": [
    "a = 5\n",
    "d = 2\n",
    "\n",
    "(a + a + (10 - 1)*d) * 10 / 2"
   ]
  },
  {
   "cell_type": "markdown",
   "metadata": {},
   "source": [
    "用迴圈來計算等比級數"
   ]
  },
  {
   "cell_type": "code",
   "execution_count": 101,
   "metadata": {},
   "outputs": [
    {
     "name": "stdout",
     "output_type": "stream",
     "text": [
      "1 5 5\n",
      "2 10 15\n",
      "3 20 35\n",
      "4 40 75\n",
      "5 80 155\n",
      "6 160 315\n",
      "7 320 635\n",
      "8 640 1275\n",
      "9 1280 2555\n",
      "10 2560 5115\n"
     ]
    }
   ],
   "source": [
    "a = 5\n",
    "r = 2\n",
    "\n",
    "total = a\n",
    "print 1, a, total\n",
    "\n",
    "for i in range(2,11):\n",
    "    a = a * r\n",
    "    total = total + a\n",
    "    print i, a, total"
   ]
  },
  {
   "cell_type": "markdown",
   "metadata": {},
   "source": [
    "首項為 $a_1$ 而公比為 $r$（$r\\neq 1$）的等比級數為  \n",
    "$a_1+\\cdots +a_n=a_1\\times \\frac{1-r^n}{1-r}$  \n",
    "\n",
    "若 $r=1$  \n",
    "則 $a_1+\\cdots +a_n=a_1+\\cdots +a_1=na_1$"
   ]
  },
  {
   "cell_type": "markdown",
   "metadata": {},
   "source": [
    "算出來答案應該要一樣"
   ]
  },
  {
   "cell_type": "code",
   "execution_count": 102,
   "metadata": {},
   "outputs": [
    {
     "data": {
      "text/plain": [
       "5115"
      ]
     },
     "execution_count": 102,
     "metadata": {},
     "output_type": "execute_result"
    }
   ],
   "source": [
    "a = 5\n",
    "r = 2\n",
    "\n",
    "a * ((1-r^10) / (1-r))"
   ]
  },
  {
   "cell_type": "markdown",
   "metadata": {},
   "source": [
    "### 列表推導式（list comprehension）\n",
    "\n",
    "數學中的集合可以用條件來組成  \n",
    "比如說 $\\{x^2: 1\\leq x\\leq 100, x\\text{ is prime}\\}$\n",
    "\n",
    "Sage 中的列表中也可以做類似的事情  \n",
    "`[x^2 for x in range(1,101) if is_prime(x)]`"
   ]
  },
  {
   "cell_type": "code",
   "execution_count": 58,
   "metadata": {},
   "outputs": [
    {
     "data": {
      "text/plain": [
       "[2, 4, 6, 8, 10, 12, 14, 16, 18, 20]"
      ]
     },
     "execution_count": 58,
     "metadata": {},
     "output_type": "execute_result"
    }
   ],
   "source": [
    "seq = [2*k for k in range(1,11)]\n",
    "seq"
   ]
  },
  {
   "cell_type": "code",
   "execution_count": 60,
   "metadata": {},
   "outputs": [
    {
     "data": {
      "text/plain": [
       "[1, 4, 9, 16, 25, 36, 49, 64, 81, 100]"
      ]
     },
     "execution_count": 60,
     "metadata": {},
     "output_type": "execute_result"
    }
   ],
   "source": [
    "seq = [k^2 for k in range(1,11)]\n",
    "seq"
   ]
  },
  {
   "cell_type": "markdown",
   "metadata": {},
   "source": [
    "配合 `sum` 函數來計算列表的總和"
   ]
  },
  {
   "cell_type": "code",
   "execution_count": 61,
   "metadata": {},
   "outputs": [
    {
     "data": {
      "text/plain": [
       "110"
      ]
     },
     "execution_count": 61,
     "metadata": {},
     "output_type": "execute_result"
    }
   ],
   "source": [
    "seq = [2*k for k in range(1,11)]\n",
    "sum(seq)"
   ]
  },
  {
   "cell_type": "code",
   "execution_count": 62,
   "metadata": {},
   "outputs": [
    {
     "data": {
      "text/plain": [
       "385"
      ]
     },
     "execution_count": 62,
     "metadata": {},
     "output_type": "execute_result"
    }
   ],
   "source": [
    "seq = [k^2 for k in range(1,11)]\n",
    "sum(seq)"
   ]
  },
  {
   "cell_type": "markdown",
   "metadata": {},
   "source": [
    "加上 `if` 判斷式"
   ]
  },
  {
   "cell_type": "code",
   "execution_count": 78,
   "metadata": {},
   "outputs": [
    {
     "data": {
      "text/plain": [
       "60"
      ]
     },
     "execution_count": 78,
     "metadata": {},
     "output_type": "execute_result"
    }
   ],
   "source": [
    "seq = [2*k for k in range(1,11) if k%2 == 0]\n",
    "sum(seq)"
   ]
  },
  {
   "cell_type": "code",
   "execution_count": 79,
   "metadata": {},
   "outputs": [
    {
     "data": {
      "text/plain": [
       "220"
      ]
     },
     "execution_count": 79,
     "metadata": {},
     "output_type": "execute_result"
    }
   ],
   "source": [
    "seq = [k^2 for k in range(1,11) if k%2 == 0]\n",
    "sum(seq)"
   ]
  },
  {
   "cell_type": "code",
   "execution_count": 86,
   "metadata": {},
   "outputs": [
    {
     "data": {
      "text/plain": [
       "0.666600000000000"
      ]
     },
     "execution_count": 86,
     "metadata": {},
     "output_type": "execute_result"
    }
   ],
   "source": [
    "n = 10000\n",
    "\n",
    "counter = 0\n",
    "for i in range(n):\n",
    "    if Monty_Hall_game():\n",
    "        counter = counter + 1\n",
    "\n",
    "N(counter / n)"
   ]
  },
  {
   "cell_type": "markdown",
   "metadata": {},
   "source": [
    "## 費波那契數列\n",
    "**費式數列**符合以下的遞迴關係式：  \n",
    "$F_0 = 0$  \n",
    "$F_1 = 1$  \n",
    "$F_n = F_{n-1} + F_{n-2}$ for all $n\\geq 2$"
   ]
  },
  {
   "cell_type": "markdown",
   "metadata": {},
   "source": [
    "如何計算第 $n$ 項？"
   ]
  },
  {
   "cell_type": "code",
   "execution_count": 1,
   "metadata": {},
   "outputs": [
    {
     "name": "stdout",
     "output_type": "stream",
     "text": [
      "F0 = 0\n",
      "F1 = 1\n",
      "F2 = 1\n",
      "F3 = 2\n",
      "F4 = 3\n",
      "F5 = 5\n",
      "F6 = 8\n",
      "F7 = 13\n",
      "F8 = 21\n",
      "F9 = 34\n",
      "F10 = 55\n"
     ]
    }
   ],
   "source": [
    "F = [0,1]\n",
    "for n in range(2,11):\n",
    "    F.append(F[n-1] + F[n-2])\n",
    "for n in range(11):\n",
    "    print(\"F%s = %s\"%(n, F[n]))"
   ]
  },
  {
   "cell_type": "markdown",
   "metadata": {},
   "source": [
    "實際上費式數列有一般式，但不見得比較好算：  \n",
    "$F_n = \\frac{1}{\\sqrt{5}}\\left[\\left(\\frac{1+\\sqrt{5}}{2}\\right)^n - \\left(\\frac{1-\\sqrt{5}}{2}\\right)^n\\right]$\n",
    "\n",
    "想想怎麼找到一般式的？"
   ]
  },
  {
   "cell_type": "code",
   "execution_count": 4,
   "metadata": {},
   "outputs": [
    {
     "name": "stdout",
     "output_type": "stream",
     "text": [
      "F0 = 0.000000000000000\n",
      "F1 = 1.00000000000000\n",
      "F2 = 1.00000000000000\n",
      "F3 = 2.00000000000000\n",
      "F4 = 3.00000000000000\n",
      "F5 = 5.00000000000000\n",
      "F6 = 8.00000000000000\n",
      "F7 = 13.0000000000000\n",
      "F8 = 21.0000000000000\n",
      "F9 = 34.0000000000000\n",
      "F10 = 55.0000000000000\n"
     ]
    }
   ],
   "source": [
    "for n in range(11):\n",
    "    Fn = 1/sqrt(5) * ( ( 0.5*(1+sqrt(5)) )^n - ( 0.5*(1-sqrt(5)) )^n )\n",
    "    print(\"F%s = %s\"%(n, N(Fn)))"
   ]
  },
  {
   "cell_type": "markdown",
   "metadata": {},
   "source": [
    "費式數列連續兩項的比值，會趨近到黃金比例 $1.61803398875\\cdots$"
   ]
  },
  {
   "cell_type": "code",
   "execution_count": 6,
   "metadata": {
    "scrolled": true
   },
   "outputs": [
    {
     "name": "stdout",
     "output_type": "stream",
     "text": [
      "F2/F1 = 1.00000000000000\n",
      "F3/F2 = 2.00000000000000\n",
      "F4/F3 = 1.50000000000000\n",
      "F5/F4 = 1.66666666666667\n",
      "F6/F5 = 1.60000000000000\n",
      "F7/F6 = 1.62500000000000\n",
      "F8/F7 = 1.61538461538462\n",
      "F9/F8 = 1.61904761904762\n",
      "F10/F9 = 1.61764705882353\n"
     ]
    }
   ],
   "source": [
    "F = [0,1]\n",
    "for n in range(2,11):\n",
    "    F.append(F[n-1] + F[n-2])\n",
    "for n in range(2,11):\n",
    "    print(\"F%s/F%s = %s\"%(n, n-1, N(F[n]/F[n-1])))"
   ]
  },
  {
   "cell_type": "markdown",
   "metadata": {},
   "source": [
    "費式數列的平方和，會是連續兩項的乘積：\n"
   ]
  },
  {
   "cell_type": "code",
   "execution_count": 1,
   "metadata": {},
   "outputs": [
    {
     "name": "stdout",
     "output_type": "stream",
     "text": [
      "F0^2 + ... + F1^2 = 1 = F1*F2\n",
      "F0^2 + ... + F2^2 = 2 = F2*F3\n",
      "F0^2 + ... + F3^2 = 6 = F3*F4\n",
      "F0^2 + ... + F4^2 = 15 = F4*F5\n",
      "F0^2 + ... + F5^2 = 40 = F5*F6\n",
      "F0^2 + ... + F6^2 = 104 = F6*F7\n",
      "F0^2 + ... + F7^2 = 273 = F7*F8\n",
      "F0^2 + ... + F8^2 = 714 = F8*F9\n",
      "F0^2 + ... + F9^2 = 1870 = F9*F10\n",
      "F0^2 + ... + F10^2 = 4895 = F10*F11\n"
     ]
    }
   ],
   "source": [
    "F = [0,1]\n",
    "for n in range(2,11):\n",
    "    F.append(F[n-1] + F[n-2])\n",
    "for n in range(1,11):\n",
    "    square_sum = sum(num^2 for num in F[:n+1])\n",
    "    print(\"F%s^2 + ... + F%s^2 = %s = F%s*F%s\"%(0, n, square_sum, n, n+1))"
   ]
  },
  {
   "cell_type": "markdown",
   "metadata": {},
   "source": [
    "##  動手試試看"
   ]
  },
  {
   "cell_type": "markdown",
   "metadata": {},
   "source": [
    "##### 練習 1\n",
    "如果 `seq` 是一個列表，  \n",
    "我們可以用 `seq[i]` 來叫出第 `i` 個元素。  \n",
    "實際上 `i` 也可以是一個負數。  \n",
    "試試看當 `seq = [1,2,3,4,5]` 時，  \n",
    "`seq[-1]` 是什麼  。"
   ]
  },
  {
   "cell_type": "code",
   "execution_count": 3,
   "metadata": {},
   "outputs": [],
   "source": [
    "### your answer here"
   ]
  },
  {
   "cell_type": "markdown",
   "metadata": {},
   "source": [
    "##### 練習 2\n",
    "我們也可以取出列表的片段。  \n",
    "試試看當 `seq = [1,2,3,4,5]` 時，  \n",
    "`seq[2：4]` 是什麼。  "
   ]
  },
  {
   "cell_type": "code",
   "execution_count": 4,
   "metadata": {},
   "outputs": [],
   "source": [
    "### your answer here"
   ]
  },
  {
   "cell_type": "markdown",
   "metadata": {},
   "source": [
    "##### 練習 3\n",
    "列表和列表可以相加。  \n",
    "試試看 `[1,2,3]+[4,5,6]` 是什麼。"
   ]
  },
  {
   "cell_type": "code",
   "execution_count": 5,
   "metadata": {},
   "outputs": [],
   "source": [
    "### your answer here"
   ]
  },
  {
   "cell_type": "markdown",
   "metadata": {},
   "source": [
    "##### 練習 4\n",
    "定義一個函數 `rotate` 其功能為：  \n",
    "輸入一個列表 `seq` 以及一個整數 `k`，  \n",
    "輸出一個新的列表，  \n",
    "其內容為將 `seq` 的元素往右推 `k` 格，  \n",
    "並將最右邊的元素補在左邊。  \n",
    "\n",
    "比如說：  \n",
    "當 `seq = [1,2,3,4,5]` 而 `k = 2`，  \n",
    "則回傳的列表為 `[4,5,1,2,3]`。"
   ]
  },
  {
   "cell_type": "code",
   "execution_count": 7,
   "metadata": {},
   "outputs": [],
   "source": [
    "### your answer here"
   ]
  },
  {
   "cell_type": "markdown",
   "metadata": {},
   "source": [
    "##### 練習 5\n",
    "計算 1 到 1000 中質數的個數。"
   ]
  },
  {
   "cell_type": "code",
   "execution_count": 10,
   "metadata": {},
   "outputs": [],
   "source": [
    "### your answer here"
   ]
  },
  {
   "cell_type": "markdown",
   "metadata": {},
   "source": [
    "##### 練習 6\n",
    "計算 1 到 1000 中，  \n",
    "有幾個數字是 2 的倍數、也是 3 的倍數、  \n",
    "但不是 5 的倍數。"
   ]
  },
  {
   "cell_type": "code",
   "execution_count": 11,
   "metadata": {},
   "outputs": [],
   "source": [
    "### your answer here"
   ]
  },
  {
   "cell_type": "markdown",
   "metadata": {},
   "source": [
    "##### 練習 7\n",
    "計算 1 到 1000 中質數的總和。"
   ]
  },
  {
   "cell_type": "code",
   "execution_count": 12,
   "metadata": {},
   "outputs": [],
   "source": [
    "### your answer here"
   ]
  },
  {
   "cell_type": "markdown",
   "metadata": {},
   "source": [
    "##### 練習 8\n",
    "在 1 到 1000 中，  \n",
    "有些數字是 2 的倍數、也是 3 的倍數、  \n",
    "但不是 5 的倍數。  \n",
    "計算這些數字的總和。"
   ]
  },
  {
   "cell_type": "code",
   "execution_count": 14,
   "metadata": {},
   "outputs": [],
   "source": [
    "### your answer here"
   ]
  },
  {
   "cell_type": "markdown",
   "metadata": {},
   "source": [
    "##### 練習 9\n",
    "利用列表推導式建立一個列表，  \n",
    "其中包含 1 到 1000 中的所有質數。"
   ]
  },
  {
   "cell_type": "code",
   "execution_count": null,
   "metadata": {},
   "outputs": [],
   "source": [
    "### your answer here"
   ]
  },
  {
   "cell_type": "markdown",
   "metadata": {},
   "source": [
    "##### 練習 10\n",
    "利用列表推導式建立一個列表，  \n",
    "其中包含 1 到 1000 中所有  \n",
    "是 2 的倍數、也是 3 的倍數、  \n",
    "但不是 5 的倍數的數字。"
   ]
  },
  {
   "cell_type": "code",
   "execution_count": null,
   "metadata": {},
   "outputs": [],
   "source": [
    "### your answer here"
   ]
  },
  {
   "cell_type": "markdown",
   "metadata": {},
   "source": [
    "##### 練習 11\n",
    "如果 `seq` 是一個列表，  \n",
    "則 `seq.append(k)` 會在列表最後面增加一個元素 `k`。\n",
    "\n",
    "費波那契數列的前幾項為  \n",
    "$a_0=0$, $a_1=1$, $a_2=1$  \n",
    "且符合遞迴關係式  \n",
    "$a_n = a_{n-1}+a_{n-2}$。  \n",
    "\n",
    "建立一個列表 `a` 來記錄費波那契數列的 0 到 99 項。"
   ]
  },
  {
   "cell_type": "code",
   "execution_count": null,
   "metadata": {},
   "outputs": [],
   "source": [
    "### your answer here"
   ]
  },
  {
   "cell_type": "markdown",
   "metadata": {},
   "source": [
    "##### 練習 12\n",
    "從 1 到 1000 中，  \n",
    "除以 13 餘 3、  \n",
    "除以 17 餘 5、  \n",
    "除以 19 餘 10  \n",
    "的數字有幾個。"
   ]
  },
  {
   "cell_type": "code",
   "execution_count": 15,
   "metadata": {},
   "outputs": [],
   "source": [
    "### your answer here"
   ]
  },
  {
   "cell_type": "markdown",
   "metadata": {},
   "source": [
    "##### 練習 13\n",
    "從 1 到 1000 中，  \n",
    "除以 13 餘 3、  \n",
    "除以 17 餘 5、  \n",
    "除以 19 餘 10  \n",
    "的數字總和是多少。"
   ]
  },
  {
   "cell_type": "code",
   "execution_count": 16,
   "metadata": {},
   "outputs": [],
   "source": [
    "### your answer here"
   ]
  }
 ],
 "metadata": {
  "kernelspec": {
   "display_name": "SageMath 9.0",
   "language": "sage",
   "name": "sagemath"
  },
  "language_info": {
   "codemirror_mode": {
    "name": "ipython",
    "version": 3
   },
   "file_extension": ".py",
   "mimetype": "text/x-python",
   "name": "python",
   "nbconvert_exporter": "python",
   "pygments_lexer": "ipython3",
   "version": "3.7.6"
  }
 },
 "nbformat": 4,
 "nbformat_minor": 2
}
