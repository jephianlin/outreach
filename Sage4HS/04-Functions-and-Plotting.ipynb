{
 "cells": [
  {
   "cell_type": "markdown",
   "metadata": {},
   "source": [
    "# 函數與其圖形（Functions and Plotting）"
   ]
  },
  {
   "cell_type": "markdown",
   "metadata": {},
   "source": [
    "![Creative Commons License](https://i.creativecommons.org/l/by/4.0/88x31.png)\n",
    "\n",
    "This work by Jephian Lin is licensed under a [Creative Commons Attribution 4.0 International License](http://creativecommons.org/licenses/by/4.0/)."
   ]
  },
  {
   "cell_type": "markdown",
   "metadata": {},
   "source": [
    "_Tested on SageMath version 8.7_"
   ]
  },
  {
   "cell_type": "markdown",
   "metadata": {},
   "source": [
    "## 函數\n",
    "數學中的函數連繫了前因和後果\n",
    "\n",
    "相同的前因只會有一種後果\n",
    "\n",
    "但不同的前因可能得到同樣的後果"
   ]
  },
  {
   "cell_type": "markdown",
   "metadata": {},
   "source": [
    "### 有限個數的函數與字典（dictionary）  \n",
    "有限個數的函數可以用**字典**（dictionary）結構來記綠"
   ]
  },
  {
   "cell_type": "markdown",
   "metadata": {},
   "source": [
    "一個字典包含了許多**索引**（key）  \n",
    "許多**值**（value）  \n",
    "以及它們的對應關係  \n",
    "`{key1: value1, key2: value2, ...}`\n",
    "\n",
    "回顧：列表用的是中括號（brackets）、字典用的是大括號（braces）"
   ]
  },
  {
   "cell_type": "markdown",
   "metadata": {},
   "source": [
    "若 `d` 是一個字典  \n",
    "可以用 `d[key]` 來得到對應到索引為 `key` 的值"
   ]
  },
  {
   "cell_type": "code",
   "execution_count": 1,
   "metadata": {},
   "outputs": [
    {
     "data": {
      "text/plain": [
       "'one'"
      ]
     },
     "execution_count": 1,
     "metadata": {},
     "output_type": "execute_result"
    }
   ],
   "source": [
    "d = {1:'one', 2:'two', 3:'three'}\n",
    "d[1]"
   ]
  },
  {
   "cell_type": "markdown",
   "metadata": {},
   "source": [
    "若索引有重覆  \n",
    "舊的會被洗掉"
   ]
  },
  {
   "cell_type": "code",
   "execution_count": 2,
   "metadata": {},
   "outputs": [
    {
     "data": {
      "text/plain": [
       "'first'"
      ]
     },
     "execution_count": 2,
     "metadata": {},
     "output_type": "execute_result"
    }
   ],
   "source": [
    "d = {1:'one', 1:'first' ,2:'two', 3:'three'}\n",
    "d[1]"
   ]
  },
  {
   "cell_type": "markdown",
   "metadata": {},
   "source": [
    "但值可以重覆沒關係"
   ]
  },
  {
   "cell_type": "code",
   "execution_count": 3,
   "metadata": {},
   "outputs": [
    {
     "data": {
      "text/plain": [
       "'number'"
      ]
     },
     "execution_count": 3,
     "metadata": {},
     "output_type": "execute_result"
    }
   ],
   "source": [
    "d = {1:'number', 2:'number', 3:'number'}\n",
    "d[1]"
   ]
  },
  {
   "cell_type": "markdown",
   "metadata": {},
   "source": [
    "在函數中  \n",
    "所有可以輸入的索引叫做**定義域**（domain）"
   ]
  },
  {
   "cell_type": "code",
   "execution_count": 4,
   "metadata": {},
   "outputs": [
    {
     "data": {
      "text/plain": [
       "dict_keys([1, 2, 3])"
      ]
     },
     "execution_count": 4,
     "metadata": {},
     "output_type": "execute_result"
    }
   ],
   "source": [
    "d = {1:'one', 2:'two', 3:'three'}\n",
    "d.keys()"
   ]
  },
  {
   "cell_type": "markdown",
   "metadata": {},
   "source": [
    "在函數中  \n",
    "所有可能的輸出值叫做**值域**（range）"
   ]
  },
  {
   "cell_type": "code",
   "execution_count": 5,
   "metadata": {},
   "outputs": [
    {
     "data": {
      "text/plain": [
       "dict_values(['one', 'two', 'three'])"
      ]
     },
     "execution_count": 5,
     "metadata": {},
     "output_type": "execute_result"
    }
   ],
   "source": [
    "d = {1:'one', 2:'two', 3:'three'}\n",
    "d.values()"
   ]
  },
  {
   "cell_type": "markdown",
   "metadata": {},
   "source": [
    "### 實數上的函數與符號表示式\n",
    "實數上有無窮個點  \n",
    "所以無法用字典來表示實數上的函數  \n",
    "\n",
    "於是我們用一個變數 `x`  \n",
    "來描述輸入和輸出的對應關係  \n",
    "（像是 `x |--> x^2`）"
   ]
  },
  {
   "cell_type": "markdown",
   "metadata": {},
   "source": [
    "Sage 中已經預設 `x` 為一個變數  \n",
    "然而若有須要還是可以重新設定一次  "
   ]
  },
  {
   "cell_type": "markdown",
   "metadata": {},
   "source": [
    "`a = var('b')`  \n",
    "意思是設定一個數學上的變數，稱作 `b`  \n",
    "並將其儲存在電腦裡的 `a` 這個位置  \n",
    "\n",
    "平常沒事兩個名字一樣就好"
   ]
  },
  {
   "cell_type": "code",
   "execution_count": 6,
   "metadata": {},
   "outputs": [],
   "source": [
    "x = var('x')"
   ]
  },
  {
   "cell_type": "markdown",
   "metadata": {},
   "source": [
    "利用符號表示式來定義一個函數"
   ]
  },
  {
   "cell_type": "code",
   "execution_count": 7,
   "metadata": {},
   "outputs": [
    {
     "data": {
      "text/plain": [
       "4"
      ]
     },
     "execution_count": 7,
     "metadata": {},
     "output_type": "execute_result"
    }
   ],
   "source": [
    "f = x^2\n",
    "f(x=2)"
   ]
  },
  {
   "cell_type": "markdown",
   "metadata": {},
   "source": [
    "若使用 `f(x) = x^2`  \n",
    "則可以明確地告訴 Sage 主要變數是哪一個  \n",
    "（`f = x^2` 和 `f(x) = x^2` 兩種用法在單變數時幾乎一樣）"
   ]
  },
  {
   "cell_type": "code",
   "execution_count": 8,
   "metadata": {},
   "outputs": [
    {
     "data": {
      "text/plain": [
       "4"
      ]
     },
     "execution_count": 8,
     "metadata": {},
     "output_type": "execute_result"
    }
   ],
   "source": [
    "f(x) = x^2\n",
    "f(2)"
   ]
  },
  {
   "cell_type": "markdown",
   "metadata": {},
   "source": [
    "只有在輸入變數多的時候  \n",
    "有些許的差別"
   ]
  },
  {
   "cell_type": "code",
   "execution_count": 9,
   "metadata": {},
   "outputs": [
    {
     "data": {
      "text/plain": [
       "y^2 + 4"
      ]
     },
     "execution_count": 9,
     "metadata": {},
     "output_type": "execute_result"
    }
   ],
   "source": [
    "x, y = var('x y')\n",
    "f(x) = x^2 + y^2\n",
    "f(2)"
   ]
  },
  {
   "cell_type": "code",
   "execution_count": 10,
   "metadata": {},
   "outputs": [
    {
     "data": {
      "text/plain": [
       "x^2 + 4"
      ]
     },
     "execution_count": 10,
     "metadata": {},
     "output_type": "execute_result"
    }
   ],
   "source": [
    "x, y = var('x y')\n",
    "f(y) = x^2 + y^2\n",
    "f(2)"
   ]
  },
  {
   "cell_type": "code",
   "execution_count": 11,
   "metadata": {},
   "outputs": [
    {
     "data": {
      "text/plain": [
       "25"
      ]
     },
     "execution_count": 11,
     "metadata": {},
     "output_type": "execute_result"
    }
   ],
   "source": [
    "x, y = var('x y')\n",
    "f(x,y) = x^2 + y^2\n",
    "f(3,4)"
   ]
  },
  {
   "cell_type": "markdown",
   "metadata": {},
   "source": [
    "數學中的函數  \n",
    "是可以相加、相乘、或是合成"
   ]
  },
  {
   "cell_type": "code",
   "execution_count": 12,
   "metadata": {},
   "outputs": [
    {
     "data": {
      "text/plain": [
       "x |--> x^2 + x + 1"
      ]
     },
     "execution_count": 12,
     "metadata": {},
     "output_type": "execute_result"
    }
   ],
   "source": [
    "f(x) = x^2\n",
    "g(x) = x+1\n",
    "f + g"
   ]
  },
  {
   "cell_type": "code",
   "execution_count": 13,
   "metadata": {},
   "outputs": [
    {
     "data": {
      "text/plain": [
       "x |--> (x + 1)*x^2"
      ]
     },
     "execution_count": 13,
     "metadata": {},
     "output_type": "execute_result"
    }
   ],
   "source": [
    "f(x) = x^2\n",
    "g(x) = x+1\n",
    "f * g"
   ]
  },
  {
   "cell_type": "code",
   "execution_count": 14,
   "metadata": {},
   "outputs": [
    {
     "data": {
      "text/plain": [
       "(x + 1)^2"
      ]
     },
     "execution_count": 14,
     "metadata": {},
     "output_type": "execute_result"
    }
   ],
   "source": [
    "f(x) = x^2\n",
    "g(x) = x+1\n",
    "f(g(x))"
   ]
  },
  {
   "cell_type": "markdown",
   "metadata": {},
   "source": [
    "### 程式中的函數與 lambda 運算式\n",
    "程式中的函數（又叫作函式）  \n",
    "只在意輸入和輸出  \n",
    "中間的關係不見得一定要用變數來表示"
   ]
  },
  {
   "cell_type": "markdown",
   "metadata": {},
   "source": [
    "`lambda` 運算式可以輕鬆地定義一個程式函數  \n",
    "`lambda input: output`  "
   ]
  },
  {
   "cell_type": "markdown",
   "metadata": {},
   "source": [
    "舉例來說，  \n",
    "`f = lambda k: k^2`  \n",
    "和  \n",
    "```Python\n",
    "def f(k):\n",
    "    return k^2\n",
    "```\n",
    "是一樣的  \n",
    "\n",
    "用 `lambda` 運算式較為簡潔  \n",
    "而且不一定要為函數命名"
   ]
  },
  {
   "cell_type": "code",
   "execution_count": 15,
   "metadata": {},
   "outputs": [
    {
     "data": {
      "text/plain": [
       "9"
      ]
     },
     "execution_count": 15,
     "metadata": {},
     "output_type": "execute_result"
    }
   ],
   "source": [
    "f = lambda k: k^2\n",
    "f(3)"
   ]
  },
  {
   "cell_type": "markdown",
   "metadata": {},
   "source": [
    "程式中的函數並沒有常用的加法"
   ]
  },
  {
   "cell_type": "code",
   "execution_count": 16,
   "metadata": {},
   "outputs": [
    {
     "ename": "TypeError",
     "evalue": "unsupported operand type(s) for +: 'function' and 'function'",
     "output_type": "error",
     "traceback": [
      "\u001b[0;31m---------------------------------------------------------------------------\u001b[0m",
      "\u001b[0;31mTypeError\u001b[0m                                 Traceback (most recent call last)",
      "Input \u001b[0;32mIn [16]\u001b[0m, in \u001b[0;36m<cell line: 2>\u001b[0;34m()\u001b[0m\n\u001b[1;32m      1\u001b[0m f \u001b[38;5;241m=\u001b[39m \u001b[38;5;28;01mlambda\u001b[39;00m k: k\u001b[38;5;241m*\u001b[39m\u001b[38;5;241m*\u001b[39mInteger(\u001b[38;5;241m2\u001b[39m)\n\u001b[0;32m----> 2\u001b[0m \u001b[43mf\u001b[49m\u001b[43m \u001b[49m\u001b[38;5;241;43m+\u001b[39;49m\u001b[43m \u001b[49m\u001b[43mf\u001b[49m\n",
      "\u001b[0;31mTypeError\u001b[0m: unsupported operand type(s) for +: 'function' and 'function'"
     ]
    }
   ],
   "source": [
    "f = lambda k: k^2\n",
    "f + f"
   ]
  },
  {
   "cell_type": "markdown",
   "metadata": {},
   "source": [
    "函數可以**被呼叫**（callable）  \n",
    "但無法用索引找尋對應值"
   ]
  },
  {
   "cell_type": "code",
   "execution_count": 17,
   "metadata": {},
   "outputs": [
    {
     "data": {
      "text/plain": [
       "9"
      ]
     },
     "execution_count": 17,
     "metadata": {},
     "output_type": "execute_result"
    }
   ],
   "source": [
    "f = lambda k: k^2\n",
    "f(3)"
   ]
  },
  {
   "cell_type": "code",
   "execution_count": 18,
   "metadata": {},
   "outputs": [
    {
     "ename": "TypeError",
     "evalue": "'function' object is not subscriptable",
     "output_type": "error",
     "traceback": [
      "\u001b[0;31m---------------------------------------------------------------------------\u001b[0m",
      "\u001b[0;31mTypeError\u001b[0m                                 Traceback (most recent call last)",
      "Input \u001b[0;32mIn [18]\u001b[0m, in \u001b[0;36m<cell line: 2>\u001b[0;34m()\u001b[0m\n\u001b[1;32m      1\u001b[0m f \u001b[38;5;241m=\u001b[39m \u001b[38;5;28;01mlambda\u001b[39;00m k: k\u001b[38;5;241m*\u001b[39m\u001b[38;5;241m*\u001b[39mInteger(\u001b[38;5;241m2\u001b[39m)\n\u001b[0;32m----> 2\u001b[0m \u001b[43mf\u001b[49m\u001b[43m[\u001b[49m\u001b[43mInteger\u001b[49m\u001b[43m(\u001b[49m\u001b[38;5;241;43m3\u001b[39;49m\u001b[43m)\u001b[49m\u001b[43m]\u001b[49m\n",
      "\u001b[0;31mTypeError\u001b[0m: 'function' object is not subscriptable"
     ]
    }
   ],
   "source": [
    "f = lambda k: k^2\n",
    "f[3]"
   ]
  },
  {
   "cell_type": "markdown",
   "metadata": {},
   "source": [
    "字典及列表可以使用索引  \n",
    "但無法被呼叫"
   ]
  },
  {
   "cell_type": "code",
   "execution_count": 19,
   "metadata": {},
   "outputs": [
    {
     "data": {
      "text/plain": [
       "'one'"
      ]
     },
     "execution_count": 19,
     "metadata": {},
     "output_type": "execute_result"
    }
   ],
   "source": [
    "d = {1:'one', 2:'two', 3:'three'}\n",
    "d[1]"
   ]
  },
  {
   "cell_type": "code",
   "execution_count": 20,
   "metadata": {},
   "outputs": [
    {
     "ename": "TypeError",
     "evalue": "'dict' object is not callable",
     "output_type": "error",
     "traceback": [
      "\u001b[0;31m---------------------------------------------------------------------------\u001b[0m",
      "\u001b[0;31mTypeError\u001b[0m                                 Traceback (most recent call last)",
      "Input \u001b[0;32mIn [20]\u001b[0m, in \u001b[0;36m<cell line: 2>\u001b[0;34m()\u001b[0m\n\u001b[1;32m      1\u001b[0m d \u001b[38;5;241m=\u001b[39m {Integer(\u001b[38;5;241m1\u001b[39m):\u001b[38;5;124m'\u001b[39m\u001b[38;5;124mone\u001b[39m\u001b[38;5;124m'\u001b[39m, Integer(\u001b[38;5;241m2\u001b[39m):\u001b[38;5;124m'\u001b[39m\u001b[38;5;124mtwo\u001b[39m\u001b[38;5;124m'\u001b[39m, Integer(\u001b[38;5;241m3\u001b[39m):\u001b[38;5;124m'\u001b[39m\u001b[38;5;124mthree\u001b[39m\u001b[38;5;124m'\u001b[39m}\n\u001b[0;32m----> 2\u001b[0m \u001b[43md\u001b[49m\u001b[43m(\u001b[49m\u001b[43mInteger\u001b[49m\u001b[43m(\u001b[49m\u001b[38;5;241;43m1\u001b[39;49m\u001b[43m)\u001b[49m\u001b[43m)\u001b[49m\n",
      "\u001b[0;31mTypeError\u001b[0m: 'dict' object is not callable"
     ]
    }
   ],
   "source": [
    "d = {1:'one', 2:'two', 3:'three'}\n",
    "d(1)"
   ]
  },
  {
   "cell_type": "markdown",
   "metadata": {},
   "source": [
    "有須要的話  \n",
    "字典和函數可以互相轉換"
   ]
  },
  {
   "cell_type": "code",
   "execution_count": 21,
   "metadata": {},
   "outputs": [
    {
     "data": {
      "text/plain": [
       "'one'"
      ]
     },
     "execution_count": 21,
     "metadata": {},
     "output_type": "execute_result"
    }
   ],
   "source": [
    "d = {1:'one', 2:'two', 3:'three'}\n",
    "f = lambda k: d[k]\n",
    "f(1)"
   ]
  },
  {
   "cell_type": "code",
   "execution_count": 22,
   "metadata": {},
   "outputs": [
    {
     "data": {
      "text/plain": [
       "9"
      ]
     },
     "execution_count": 22,
     "metadata": {},
     "output_type": "execute_result"
    }
   ],
   "source": [
    "f = lambda k: k^2\n",
    "d = {k: k^2 for k in range(1,4)}\n",
    "d[3]"
   ]
  },
  {
   "cell_type": "markdown",
   "metadata": {},
   "source": [
    "### 三角函數\n",
    "常用的三角函數有 $\\sin$、$\\cos$、以及 $\\tan$  \n",
    "~~而且通常人們不記得它們的中文叫什麼~~  \n",
    "\n",
    "Sage 會儘量回傳確切的函數值"
   ]
  },
  {
   "cell_type": "code",
   "execution_count": 23,
   "metadata": {},
   "outputs": [
    {
     "name": "stdout",
     "output_type": "stream",
     "text": [
      "sin 0 equals 0\n",
      "sin 1/6*pi equals 1/2\n",
      "sin 1/4*pi equals 1/2*sqrt(2)\n",
      "sin 1/3*pi equals 1/2*sqrt(3)\n",
      "sin 1/2*pi equals 1\n"
     ]
    }
   ],
   "source": [
    "angles = [0, 1/6*pi, 1/4*pi, 2/6*pi, 1/2*pi]\n",
    "for theta in angles:\n",
    "    print('sin', theta, 'equals', sin(theta))"
   ]
  },
  {
   "cell_type": "code",
   "execution_count": 24,
   "metadata": {},
   "outputs": [
    {
     "name": "stdout",
     "output_type": "stream",
     "text": [
      "cos 0 equals 1\n",
      "cos 1/6*pi equals 1/2*sqrt(3)\n",
      "cos 1/4*pi equals 1/2*sqrt(2)\n",
      "cos 1/3*pi equals 1/2\n",
      "cos 1/2*pi equals 0\n"
     ]
    }
   ],
   "source": [
    "angles = [0, 1/6*pi, 1/4*pi, 2/6*pi, 1/2*pi]\n",
    "for theta in angles:\n",
    "    print('cos', theta, 'equals', cos(theta))"
   ]
  },
  {
   "cell_type": "code",
   "execution_count": 25,
   "metadata": {},
   "outputs": [
    {
     "name": "stdout",
     "output_type": "stream",
     "text": [
      "tan 0 equals 0\n",
      "tan 1/6*pi equals 1/3*sqrt(3)\n",
      "tan 1/4*pi equals 1\n",
      "tan 1/3*pi equals sqrt(3)\n"
     ]
    }
   ],
   "source": [
    "angles = [0, 1/6*pi, 1/4*pi, 2/6*pi]\n",
    "### tan is not defined on 1/2*pi\n",
    "for theta in angles:\n",
    "    print('tan', theta, 'equals', tan(theta))"
   ]
  },
  {
   "cell_type": "markdown",
   "metadata": {},
   "source": [
    "用 `N` 函數來得到小數的逼近值"
   ]
  },
  {
   "cell_type": "code",
   "execution_count": 26,
   "metadata": {},
   "outputs": [
    {
     "data": {
      "text/plain": [
       "sin(1)"
      ]
     },
     "execution_count": 26,
     "metadata": {},
     "output_type": "execute_result"
    }
   ],
   "source": [
    "sin(1)"
   ]
  },
  {
   "cell_type": "code",
   "execution_count": 27,
   "metadata": {},
   "outputs": [
    {
     "data": {
      "text/plain": [
       "0.841470984807897"
      ]
     },
     "execution_count": 27,
     "metadata": {},
     "output_type": "execute_result"
    }
   ],
   "source": [
    "N(sin(1))"
   ]
  },
  {
   "cell_type": "markdown",
   "metadata": {},
   "source": [
    "### 棣美弗公式（De Moivre's formula）\n",
    "對任意角度 $\\theta$ 及整數 $n$  \n",
    "$(\\cos\\theta + i\\sin\\theta)^n = \\cos(n\\theta) + i\\sin(n\\theta)$"
   ]
  },
  {
   "cell_type": "markdown",
   "metadata": {},
   "source": [
    "在 Sage 中用 `I` 代表虛數 $i$ "
   ]
  },
  {
   "cell_type": "code",
   "execution_count": 28,
   "metadata": {},
   "outputs": [
    {
     "data": {
      "text/plain": [
       "I"
      ]
     },
     "execution_count": 28,
     "metadata": {},
     "output_type": "execute_result"
    }
   ],
   "source": [
    "I"
   ]
  },
  {
   "cell_type": "code",
   "execution_count": 29,
   "metadata": {},
   "outputs": [
    {
     "data": {
      "text/plain": [
       "-1"
      ]
     },
     "execution_count": 29,
     "metadata": {},
     "output_type": "execute_result"
    }
   ],
   "source": [
    "I^2"
   ]
  },
  {
   "cell_type": "markdown",
   "metadata": {},
   "source": [
    "感覺一下棣美弗公式  \n",
    "令 $\\theta = \\frac{\\pi}{4}$ 且 $n=4$"
   ]
  },
  {
   "cell_type": "code",
   "execution_count": 30,
   "metadata": {},
   "outputs": [
    {
     "data": {
      "text/plain": [
       "(1/2*I + 1/2)*sqrt(2)"
      ]
     },
     "execution_count": 30,
     "metadata": {},
     "output_type": "execute_result"
    }
   ],
   "source": [
    "z = cos(1/4*pi) + I*sin(1/4*pi)\n",
    "z"
   ]
  },
  {
   "cell_type": "markdown",
   "metadata": {},
   "source": [
    "$(\\cos\\theta + i\\sin\\theta)^n$"
   ]
  },
  {
   "cell_type": "code",
   "execution_count": 31,
   "metadata": {},
   "outputs": [
    {
     "data": {
      "text/plain": [
       "-1"
      ]
     },
     "execution_count": 31,
     "metadata": {},
     "output_type": "execute_result"
    }
   ],
   "source": [
    "z^4"
   ]
  },
  {
   "cell_type": "markdown",
   "metadata": {},
   "source": [
    "$\\cos(n\\theta) + i\\sin(n\\theta)$"
   ]
  },
  {
   "cell_type": "code",
   "execution_count": 32,
   "metadata": {},
   "outputs": [
    {
     "data": {
      "text/plain": [
       "-1"
      ]
     },
     "execution_count": 32,
     "metadata": {},
     "output_type": "execute_result"
    }
   ],
   "source": [
    "cos(pi) + I*sin(pi)"
   ]
  },
  {
   "cell_type": "markdown",
   "metadata": {},
   "source": [
    "## 二維座標上的圖形\n",
    "由於實數上的函數  \n",
    "一次描述了許多點和點之間的關係  \n",
    "\n",
    "通常會在二維座標系上  \n",
    "記錄所有的 $(x,y)$  \n",
    "其中 $y=f(x)$"
   ]
  },
  {
   "cell_type": "code",
   "execution_count": 33,
   "metadata": {},
   "outputs": [
    {
     "data": {
      "image/png": "[encoded data removed]",
      "text/plain": [
       "Graphics object consisting of 1 graphics primitive"
      ]
     },
     "execution_count": 33,
     "metadata": {},
     "output_type": "execute_result"
    }
   ],
   "source": [
    "f = x^2\n",
    "f.plot()"
   ]
  },
  {
   "cell_type": "markdown",
   "metadata": {},
   "source": [
    "`plot` 函數有很多參數可以調整  \n",
    "像是 `xmin`、`xmax`、`ymin`、`ymax` 等等  \n",
    "\n",
    "可以參考 [Sage 說明書](http://doc.sagemath.org/html/en/reference/plotting/sage/plot/plot.html#sage.plot.plot.plot)"
   ]
  },
  {
   "cell_type": "code",
   "execution_count": 34,
   "metadata": {},
   "outputs": [
    {
     "data": {
      "image/png": "[encoded data removed]",
      "text/plain": [
       "Graphics object consisting of 1 graphics primitive"
      ]
     },
     "execution_count": 34,
     "metadata": {},
     "output_type": "execute_result"
    }
   ],
   "source": [
    "f = x^2\n",
    "f.plot(xmin=-0.1, xmax=0.1, ymin=-0.1, ymax=0.1)"
   ]
  },
  {
   "cell_type": "markdown",
   "metadata": {},
   "source": [
    "兩個圖形可以相加  \n",
    "得到的就是將兩個圖形疊在一起"
   ]
  },
  {
   "cell_type": "code",
   "execution_count": 35,
   "metadata": {},
   "outputs": [
    {
     "data": {
      "image/png": "[encoded data removed]",
      "text/plain": [
       "Graphics object consisting of 2 graphics primitives"
      ]
     },
     "execution_count": 35,
     "metadata": {},
     "output_type": "execute_result"
    }
   ],
   "source": [
    "f = x^2\n",
    "g = x^3\n",
    "f.plot() + g.plot()"
   ]
  },
  {
   "cell_type": "markdown",
   "metadata": {},
   "source": [
    "每個圖形可以用 `color` 參數調整顏色  \n",
    "也可以用 `legend_label` 參數來設定圖例的文字  \n",
    "\n",
    "這裡 `$x^2$` 是 $\\TeX$ 語言的與法  \n",
    "$\\TeX$ 是一套強大的排版系統  \n",
    "近代幾乎所有的數學論文都是由 $\\TeX$ 排版完成的"
   ]
  },
  {
   "cell_type": "code",
   "execution_count": 36,
   "metadata": {},
   "outputs": [
    {
     "data": {
      "image/png": "[encoded data removed]",
      "text/plain": [
       "Graphics object consisting of 2 graphics primitives"
      ]
     },
     "execution_count": 36,
     "metadata": {},
     "output_type": "execute_result"
    }
   ],
   "source": [
    "f = x^2\n",
    "g = x^3\n",
    "f.plot(color='blue', legend_label='$x^2$') + g.plot(color='red', legend_label='$x^3$')"
   ]
  },
  {
   "cell_type": "markdown",
   "metadata": {},
   "source": [
    "也可以用 `linestyle` 參數來調整線的格式"
   ]
  },
  {
   "cell_type": "code",
   "execution_count": 37,
   "metadata": {},
   "outputs": [
    {
     "data": {
      "image/png": "[encoded data removed]",
      "text/plain": [
       "Graphics object consisting of 2 graphics primitives"
      ]
     },
     "execution_count": 37,
     "metadata": {},
     "output_type": "execute_result"
    }
   ],
   "source": [
    "f = sin(x)\n",
    "g = cos(x)\n",
    "pic1 = f.plot(xmin=-pi, xmax=pi, color='blue', linestyle='--', legend_label=r'$\\sin(x)$')\n",
    "pic2 = g.plot(xmin=-pi, xmax=pi, color='red', linestyle=':', legend_label=r'$\\cos(x)$')\n",
    "pic1 + pic2"
   ]
  },
  {
   "cell_type": "markdown",
   "metadata": {},
   "source": [
    "## 動手試試看"
   ]
  },
  {
   "cell_type": "markdown",
   "metadata": {},
   "source": [
    "##### 練習 1\n",
    "定義一個字典 `months`  \n",
    "將 `1` 到 `12` 對應到  \n",
    "`'January'` 到 `'December'`。"
   ]
  },
  {
   "cell_type": "code",
   "execution_count": null,
   "metadata": {},
   "outputs": [],
   "source": [
    "### your answer here"
   ]
  },
  {
   "cell_type": "markdown",
   "metadata": {},
   "source": [
    "##### 練習 2\n",
    "上一個練習中 `months`  \n",
    "的定義域和值域分別是是什麼。"
   ]
  },
  {
   "cell_type": "code",
   "execution_count": null,
   "metadata": {},
   "outputs": [],
   "source": [
    "### your answer here"
   ]
  },
  {
   "cell_type": "markdown",
   "metadata": {},
   "source": [
    "##### 練習 3\n",
    "將 $y$ 設為一個變數，  \n",
    "定義 $f(y) =  y^5 + 2y^4 + 3y^3 + 4y^2 + 5y +6$，  \n",
    "並計算 $f(3)$ 的函數值。"
   ]
  },
  {
   "cell_type": "code",
   "execution_count": null,
   "metadata": {},
   "outputs": [],
   "source": [
    "### your answer here"
   ]
  },
  {
   "cell_type": "markdown",
   "metadata": {},
   "source": [
    "##### 練習 4\n",
    "定義 $f(x) = \\frac{x^2-1}{x-1}$。  \n",
    "並計算 $f(1.1)$、$f(1.001)$、以及 $f(1.00001)$。  \n",
    "而 $f(1)$ 又是多少。"
   ]
  },
  {
   "cell_type": "code",
   "execution_count": null,
   "metadata": {},
   "outputs": [],
   "source": [
    "### your answer here"
   ]
  },
  {
   "cell_type": "markdown",
   "metadata": {},
   "source": [
    "##### 練習 5\n",
    "定義 $f(x) = \\frac{1}{1-x}$ 及 $g(x) = \\frac{x-1}{x}$。  \n",
    "計算 $f(g(x))$。  \n",
    "（利用 `simplify(expand(the_function))` 將函數化到最簡。）"
   ]
  },
  {
   "cell_type": "code",
   "execution_count": null,
   "metadata": {},
   "outputs": [],
   "source": [
    "### your answer here"
   ]
  },
  {
   "cell_type": "markdown",
   "metadata": {},
   "source": [
    "##### 練習 6\n",
    "用 `lambda` 運算式  \n",
    "定義一個函數其功能為：  \n",
    "輸入 `x`，  \n",
    "輸出 `x` 的絕對值 `abs(x)`。"
   ]
  },
  {
   "cell_type": "code",
   "execution_count": null,
   "metadata": {},
   "outputs": [],
   "source": [
    "### your answer here"
   ]
  },
  {
   "cell_type": "markdown",
   "metadata": {},
   "source": [
    "##### 練習 7\n",
    "若 `a = [3,-5,2,-4,6,1]` 為一列表。  \n",
    "則 `a.sort()` 可以將 `a` 改為由小到大排列。  \n",
    "\n",
    "而 `sort` 函數裡面還有一個參數叫做 `key` 。  \n",
    "若 `key` 被設定為一個函數 `f` ，  \n",
    "則 `a.sort(key=f)` 會將 `a`  \n",
    "依照 `f(3)`, `f(-5)`, ... 的順序排列。  \n",
    "\n",
    "試著將 `a` 依照元素的絕對值大小排列。"
   ]
  },
  {
   "cell_type": "code",
   "execution_count": null,
   "metadata": {},
   "outputs": [],
   "source": [
    "### your answer here"
   ]
  },
  {
   "cell_type": "markdown",
   "metadata": {},
   "source": [
    "##### 練習 8\n",
    "用 `lambda` 運算式  \n",
    "定義一個函數其功能為：  \n",
    "輸入一個兩個元素的列表，  \n",
    "輸出這個列表的第一位。"
   ]
  },
  {
   "cell_type": "code",
   "execution_count": null,
   "metadata": {},
   "outputs": [],
   "source": [
    "### your answer here"
   ]
  },
  {
   "cell_type": "markdown",
   "metadata": {},
   "source": [
    "##### 練習 9\n",
    "若 `a = [[3,2], [1,4], [2,3], [4,2], [0,5]]` 。  \n",
    "將 `a` 依照元素中的第一個元素排列。"
   ]
  },
  {
   "cell_type": "code",
   "execution_count": null,
   "metadata": {},
   "outputs": [],
   "source": [
    "### your answer here"
   ]
  },
  {
   "cell_type": "markdown",
   "metadata": {},
   "source": [
    "##### 練習 10\n",
    "計算 $\\sin 15^\\circ$。"
   ]
  },
  {
   "cell_type": "code",
   "execution_count": null,
   "metadata": {},
   "outputs": [],
   "source": [
    "### your answer here"
   ]
  },
  {
   "cell_type": "markdown",
   "metadata": {},
   "source": [
    "##### 練習 11\n",
    "計算 $\\cos 18^\\circ$。"
   ]
  },
  {
   "cell_type": "code",
   "execution_count": null,
   "metadata": {},
   "outputs": [],
   "source": [
    "### your answer here"
   ]
  },
  {
   "cell_type": "markdown",
   "metadata": {},
   "source": [
    "##### 練習 12\n",
    "計算 $\\sin 3$。  \n",
    "（注意這裡 $3$ 是徑度不是度數。）"
   ]
  },
  {
   "cell_type": "code",
   "execution_count": null,
   "metadata": {},
   "outputs": [],
   "source": [
    "### your answer here"
   ]
  },
  {
   "cell_type": "markdown",
   "metadata": {},
   "source": [
    "##### 練習 13\n",
    "畫一張圖：  \n",
    "上面有 $x$, $x^2$, $x^3$ 的函數圖形，  \n",
    "設定 $0\\leq x\\leq 1$ 及 $0\\leq y\\leq 1$，  \n",
    "其中每個函數圖形用不同顏色表示  \n",
    "並有圖例來說明各個圖形。"
   ]
  },
  {
   "cell_type": "code",
   "execution_count": null,
   "metadata": {},
   "outputs": [],
   "source": [
    "### your answer here"
   ]
  },
  {
   "cell_type": "markdown",
   "metadata": {},
   "source": [
    "##### 練習 14\n",
    "若 `n` 為一個正整數，  \n",
    "則 `rainbow(n)` 會回傳一個含有 `n` 個顏色的列表。  \n",
    "\n",
    "例用 `for` 迴圈  \n",
    "將 $x^1$, $x^2$, ..., $x^{10}$ 都畫在同一張圖上  \n",
    "（$0\\leq x\\leq 1$ 及 $0\\leq y\\leq 1$），  \n",
    "並用不同顏色表示。  \n",
    "\n",
    "有辦法將圖例也補上嗎？  "
   ]
  },
  {
   "cell_type": "code",
   "execution_count": null,
   "metadata": {},
   "outputs": [],
   "source": [
    "### your answer here"
   ]
  }
 ],
 "metadata": {
  "kernelspec": {
   "display_name": "SageMath 9.6",
   "language": "sage",
   "name": "sagemath"
  },
  "language_info": {
   "codemirror_mode": {
    "name": "ipython",
    "version": 3
   },
   "file_extension": ".py",
   "mimetype": "text/x-python",
   "name": "python",
   "nbconvert_exporter": "python",
   "pygments_lexer": "ipython3",
   "version": "3.10.4"
  }
 },
 "nbformat": 4,
 "nbformat_minor": 2
}
