{
 "cells": [
  {
   "cell_type": "markdown",
   "metadata": {},
   "source": [
    "# 排列組合與離散機率（Combinatorics and Discrete Probability）"
   ]
  },
  {
   "cell_type": "markdown",
   "metadata": {},
   "source": [
    "![Creative Commons License](https://i.creativecommons.org/l/by/4.0/88x31.png)\n",
    "\n",
    "This work by Jephian Lin is licensed under a [Creative Commons Attribution 4.0 International License](http://creativecommons.org/licenses/by/4.0/)."
   ]
  },
  {
   "cell_type": "markdown",
   "metadata": {},
   "source": [
    "_Tested on SageMath version 8.7_"
   ]
  },
  {
   "cell_type": "markdown",
   "metadata": {},
   "source": [
    "## 排列組合"
   ]
  },
  {
   "cell_type": "markdown",
   "metadata": {},
   "source": [
    "### 排列\n",
    "\n",
    "從 $n$ 個東西中拿出 $k$ 個出來**排列**時要計較順序  \n",
    "可以用 `Permutations` 來找出所有排列  \n",
    "（注意最後有個 `s`）"
   ]
  },
  {
   "cell_type": "code",
   "execution_count": 6,
   "metadata": {},
   "outputs": [
    {
     "name": "stdout",
     "output_type": "stream",
     "text": [
      "[1, 2]\n",
      "[1, 3]\n",
      "[1, 4]\n",
      "[1, 5]\n",
      "[2, 1]\n",
      "[2, 3]\n",
      "[2, 4]\n",
      "[2, 5]\n",
      "[3, 1]\n",
      "[3, 2]\n",
      "[3, 4]\n",
      "[3, 5]\n",
      "[4, 1]\n",
      "[4, 2]\n",
      "[4, 3]\n",
      "[4, 5]\n",
      "[5, 1]\n",
      "[5, 2]\n",
      "[5, 3]\n",
      "[5, 4]\n"
     ]
    }
   ],
   "source": [
    "elements = [1,2,3,4,5]\n",
    "for per in Permutations(elements,2):\n",
    "    print(per)"
   ]
  },
  {
   "cell_type": "markdown",
   "metadata": {},
   "source": [
    "從 $n$ 個東西中拿出 $k$ 個出來排列的  \n",
    "方法數有 $P^n_k=\\frac{n!}{(n-k)!}$ 種\n",
    "\n",
    "也有人把 $P^n_k$ 記作 $[n]_k$"
   ]
  },
  {
   "cell_type": "code",
   "execution_count": 9,
   "metadata": {},
   "outputs": [
    {
     "data": {
      "text/plain": [
       "20"
      ]
     },
     "execution_count": 9,
     "metadata": {},
     "output_type": "execute_result"
    }
   ],
   "source": [
    "factorial(5)/factorial(5-2)"
   ]
  },
  {
   "cell_type": "markdown",
   "metadata": {},
   "source": [
    "### 組合\n",
    "\n",
    "從 $n$ 個東西中拿出 $k$ 個出來**組合**時要**不計較**順序  \n",
    "可以用 `Combinations` 來找出所有組合  \n",
    "（注意最後一樣有個 `s`）"
   ]
  },
  {
   "cell_type": "code",
   "execution_count": 5,
   "metadata": {},
   "outputs": [
    {
     "name": "stdout",
     "output_type": "stream",
     "text": [
      "[1, 2]\n",
      "[1, 3]\n",
      "[1, 4]\n",
      "[1, 5]\n",
      "[2, 3]\n",
      "[2, 4]\n",
      "[2, 5]\n",
      "[3, 4]\n",
      "[3, 5]\n",
      "[4, 5]\n"
     ]
    }
   ],
   "source": [
    "elements = [1,2,3,4,5]\n",
    "for com in Combinations(elements,2):\n",
    "    print(com)"
   ]
  },
  {
   "cell_type": "markdown",
   "metadata": {},
   "source": [
    "從 $n$ 個東西中拿出 $k$ 個出來組合的  \n",
    "方法數有 $C^n_k=\\frac{n!}{k!(n-k)!}$ 種\n",
    "\n",
    "也有人把 $C^n_k$ 記作 $\\binom{n}{k}$  "
   ]
  },
  {
   "cell_type": "code",
   "execution_count": 12,
   "metadata": {},
   "outputs": [
    {
     "data": {
      "text/plain": [
       "10"
      ]
     },
     "execution_count": 12,
     "metadata": {},
     "output_type": "execute_result"
    }
   ],
   "source": [
    "factorial(5)/factorial(5-2)/factorial(2)"
   ]
  },
  {
   "cell_type": "markdown",
   "metadata": {},
   "source": [
    "### 計數組合學（Enumerative Combinatorics）\n",
    "\n",
    "到底有幾個？何不全部列出來試試看？"
   ]
  },
  {
   "cell_type": "markdown",
   "metadata": {},
   "source": [
    "自己設定一個參數（比如說 `counter`）來計算次數"
   ]
  },
  {
   "cell_type": "markdown",
   "metadata": {},
   "source": [
    "在 1 到 100 中  \n",
    "除以 13 餘 1  \n",
    "或是  \n",
    "除以 17 餘 1  \n",
    "的數字有幾個"
   ]
  },
  {
   "cell_type": "code",
   "execution_count": 7,
   "metadata": {},
   "outputs": [
    {
     "name": "stdout",
     "output_type": "stream",
     "text": [
      "1\n",
      "14\n",
      "18\n",
      "27\n",
      "35\n",
      "40\n",
      "52\n",
      "53\n",
      "66\n",
      "69\n",
      "79\n",
      "86\n",
      "92\n"
     ]
    },
    {
     "data": {
      "text/plain": [
       "13"
      ]
     },
     "execution_count": 7,
     "metadata": {},
     "output_type": "execute_result"
    }
   ],
   "source": [
    "counter = 0\n",
    "\n",
    "for i in range(1,101):\n",
    "    if i%13 == 1 or i%17 == 1:\n",
    "        counter = counter + 1\n",
    "        print(i)\n",
    "\n",
    "counter"
   ]
  },
  {
   "cell_type": "markdown",
   "metadata": {},
   "source": [
    "數字 1,2,3,4,5 排成一排  \n",
    "1 在開頭  \n",
    "而且  \n",
    "5 不在結尾  \n",
    "的排列有幾種"
   ]
  },
  {
   "cell_type": "code",
   "execution_count": 15,
   "metadata": {},
   "outputs": [
    {
     "data": {
      "text/plain": [
       "18"
      ]
     },
     "execution_count": 15,
     "metadata": {},
     "output_type": "execute_result"
    }
   ],
   "source": [
    "elements = [1,2,3,4,5]\n",
    "\n",
    "counter = 0\n",
    "for per in Permutations(elements,5):\n",
    "    if per[0] == 1 and per[4] != 5:\n",
    "        counter = counter + 1\n",
    "\n",
    "counter"
   ]
  },
  {
   "cell_type": "markdown",
   "metadata": {},
   "source": [
    "數字 1,1,2,2,3 排成一排  \n",
    "的排列有幾種"
   ]
  },
  {
   "cell_type": "code",
   "execution_count": 17,
   "metadata": {},
   "outputs": [
    {
     "data": {
      "text/plain": [
       "30"
      ]
     },
     "execution_count": 17,
     "metadata": {},
     "output_type": "execute_result"
    }
   ],
   "source": [
    "elements = [1,1,2,2,3]\n",
    "\n",
    "counter = 0\n",
    "for per in Permutations(elements,5):\n",
    "    counter = counter + 1\n",
    "\n",
    "counter"
   ]
  },
  {
   "cell_type": "markdown",
   "metadata": {},
   "source": [
    "從數字 1,2,3,4,5 中選出三個  \n",
    "選到 1  \n",
    "而且  \n",
    "沒選到 5  \n",
    "的組合有幾種"
   ]
  },
  {
   "cell_type": "code",
   "execution_count": 19,
   "metadata": {},
   "outputs": [
    {
     "data": {
      "text/plain": [
       "3"
      ]
     },
     "execution_count": 19,
     "metadata": {},
     "output_type": "execute_result"
    }
   ],
   "source": [
    "elements = [1,2,3,4,5]\n",
    "\n",
    "counter = 0\n",
    "for com in Combinations(elements,3):\n",
    "    if 1 in com and 5 not in com:\n",
    "        counter = counter + 1\n",
    "\n",
    "counter"
   ]
  },
  {
   "cell_type": "markdown",
   "metadata": {},
   "source": [
    "從數字 1,1,2,2,3 中選出三個  \n",
    "的組合有幾種"
   ]
  },
  {
   "cell_type": "code",
   "execution_count": 2,
   "metadata": {},
   "outputs": [
    {
     "data": {
      "text/plain": [
       "5"
      ]
     },
     "execution_count": 2,
     "metadata": {},
     "output_type": "execute_result"
    }
   ],
   "source": [
    "elements = [1,1,2,2,3]\n",
    "\n",
    "counter = 0\n",
    "for com in Combinations(elements,3):\n",
    "    counter = counter + 1\n",
    "\n",
    "counter"
   ]
  },
  {
   "cell_type": "markdown",
   "metadata": {},
   "source": [
    "$x+y+z = 5$  \n",
    "的非負整數解有幾組"
   ]
  },
  {
   "cell_type": "code",
   "execution_count": 3,
   "metadata": {},
   "outputs": [
    {
     "data": {
      "text/plain": [
       "21"
      ]
     },
     "execution_count": 3,
     "metadata": {},
     "output_type": "execute_result"
    }
   ],
   "source": [
    "counter = 0\n",
    "\n",
    "for x in range(6):\n",
    "    for y in range(6):\n",
    "        for z in range(6):\n",
    "            if x + y + z == 5:\n",
    "                counter = counter + 1\n",
    "                \n",
    "counter"
   ]
  },
  {
   "cell_type": "markdown",
   "metadata": {},
   "source": [
    "$x+y+z=5$  \n",
    "的正整數解有幾組"
   ]
  },
  {
   "cell_type": "code",
   "execution_count": 4,
   "metadata": {},
   "outputs": [
    {
     "data": {
      "text/plain": [
       "6"
      ]
     },
     "execution_count": 4,
     "metadata": {},
     "output_type": "execute_result"
    }
   ],
   "source": [
    "counter = 0\n",
    "\n",
    "for x in range(1,6):\n",
    "    for y in range(1,6):\n",
    "        for z in range(1,6):\n",
    "            if x + y + z == 5:\n",
    "                counter = counter + 1\n",
    "                \n",
    "counter"
   ]
  },
  {
   "cell_type": "markdown",
   "metadata": {},
   "source": [
    "100 的因數有幾個"
   ]
  },
  {
   "cell_type": "code",
   "execution_count": 24,
   "metadata": {},
   "outputs": [
    {
     "data": {
      "text/plain": [
       "9"
      ]
     },
     "execution_count": 24,
     "metadata": {},
     "output_type": "execute_result"
    }
   ],
   "source": [
    "n = 100\n",
    "\n",
    "counter = 0\n",
    "\n",
    "for p in range(1,101):\n",
    "    if n % p == 0:\n",
    "        counter = counter + 1\n",
    "        \n",
    "counter"
   ]
  },
  {
   "cell_type": "markdown",
   "metadata": {},
   "source": [
    "100 的因數總和是多少"
   ]
  },
  {
   "cell_type": "code",
   "execution_count": 25,
   "metadata": {},
   "outputs": [
    {
     "data": {
      "text/plain": [
       "217"
      ]
     },
     "execution_count": 25,
     "metadata": {},
     "output_type": "execute_result"
    }
   ],
   "source": [
    "n = 100\n",
    "\n",
    "total = 0\n",
    "\n",
    "for p in range(1,101):\n",
    "    if n % p == 0:\n",
    "        total = total + p\n",
    "        \n",
    "total"
   ]
  },
  {
   "cell_type": "markdown",
   "metadata": {},
   "source": [
    "### 二項式定理\n",
    "\n",
    "將 $(1+x)^n$ 展開後  \n",
    "其 $x^k$ 的係數為 $C^n_k$  \n",
    "\n",
    "所以 $C^n_k$ 又稱為**二項式係數**（binomial coefficient）"
   ]
  },
  {
   "cell_type": "code",
   "execution_count": 8,
   "metadata": {},
   "outputs": [
    {
     "name": "stdout",
     "output_type": "stream",
     "text": [
      "x^10 + 10*x^9 + 45*x^8 + 120*x^7 + 210*x^6 + 252*x^5 + 210*x^4 + 120*x^3 + 45*x^2 + 10*x + 1\n",
      "210\n"
     ]
    }
   ],
   "source": [
    "x = var('x')\n",
    "n = 10\n",
    "k = 4\n",
    "\n",
    "p = expand((1+x)^n)\n",
    "\n",
    "print(p)\n",
    "print(p.coefficient(x^k))"
   ]
  },
  {
   "cell_type": "markdown",
   "metadata": {},
   "source": [
    "驗證一下對不對"
   ]
  },
  {
   "cell_type": "code",
   "execution_count": 9,
   "metadata": {},
   "outputs": [
    {
     "data": {
      "text/plain": [
       "210"
      ]
     },
     "execution_count": 9,
     "metadata": {},
     "output_type": "execute_result"
    }
   ],
   "source": [
    "n = 10\n",
    "k = 4\n",
    "\n",
    "factorial(n)/factorial(n-k)/factorial(k)"
   ]
  },
  {
   "cell_type": "markdown",
   "metadata": {},
   "source": [
    "也可以用 `binomial(n,k)` 來計算  "
   ]
  },
  {
   "cell_type": "code",
   "execution_count": 10,
   "metadata": {},
   "outputs": [
    {
     "data": {
      "text/plain": [
       "210"
      ]
     },
     "execution_count": 10,
     "metadata": {},
     "output_type": "execute_result"
    }
   ],
   "source": [
    "n = 10\n",
    "k = 4\n",
    "\n",
    "binomial(n,k)"
   ]
  },
  {
   "cell_type": "markdown",
   "metadata": {},
   "source": [
    "## 離散機率\n",
    "\n",
    "機率就存在我們生活之中  \n",
    "用 `random` 套件來模擬看看吧！"
   ]
  },
  {
   "cell_type": "markdown",
   "metadata": {},
   "source": [
    "後面的程式很多都要用到 `random` 套件  \n",
    "記得要執行下面這行以後才能用"
   ]
  },
  {
   "cell_type": "code",
   "execution_count": 4,
   "metadata": {},
   "outputs": [],
   "source": [
    "import random"
   ]
  },
  {
   "cell_type": "markdown",
   "metadata": {},
   "source": [
    "`random.choice` 會從輸入的列表中  \n",
    "隨機挑出一個元素  \n",
    "\n",
    "多執行幾次試試看"
   ]
  },
  {
   "cell_type": "code",
   "execution_count": 13,
   "metadata": {},
   "outputs": [
    {
     "data": {
      "text/plain": [
       "5"
      ]
     },
     "execution_count": 13,
     "metadata": {},
     "output_type": "execute_result"
    }
   ],
   "source": [
    "numbers = [1,2,3,4,5,6]\n",
    "random.choice(numbers)"
   ]
  },
  {
   "cell_type": "markdown",
   "metadata": {},
   "source": [
    "把它包成一個函數就可以  \n",
    "做出一個虛擬的骰子了"
   ]
  },
  {
   "cell_type": "code",
   "execution_count": 5,
   "metadata": {},
   "outputs": [],
   "source": [
    "def roll_a_dice():\n",
    "    return random.choice([1,2,3,4,5,6])"
   ]
  },
  {
   "cell_type": "code",
   "execution_count": 6,
   "metadata": {},
   "outputs": [
    {
     "data": {
      "text/plain": [
       "3"
      ]
     },
     "execution_count": 6,
     "metadata": {},
     "output_type": "execute_result"
    }
   ],
   "source": [
    "roll_a_dice()"
   ]
  },
  {
   "cell_type": "markdown",
   "metadata": {},
   "source": [
    "骰子公不公正？  \n",
    "要試試看才知道"
   ]
  },
  {
   "cell_type": "code",
   "execution_count": 9,
   "metadata": {},
   "outputs": [
    {
     "name": "stdout",
     "output_type": "stream",
     "text": [
      "出現次數 [1678, 1618, 1662, 1665, 1656, 1721]\n",
      "機率 [0.1678, 0.1618, 0.1662, 0.1665, 0.1656, 0.1721]\n"
     ]
    }
   ],
   "source": [
    "counter = [0,0,0,0,0,0]\n",
    "n = 10000\n",
    "\n",
    "for i in range(n):\n",
    "    k = roll_a_dice()\n",
    "    counter[k-1] = counter[k-1] + 1\n",
    "    # 骰子的數字是 1,2,3,4,5,6\n",
    "    # counter 的編號是 0,1,2,3,4,5\n",
    "    \n",
    "print('出現次數 %s'%counter)\n",
    "print('機率 %s'%[N(count/n, digits=4) for count in counter])"
   ]
  },
  {
   "cell_type": "markdown",
   "metadata": {},
   "source": [
    "也可以用 `random.randint(a,b)`  \n",
    "隨機從 `a` 到 `b` 之間取出一個數  \n",
    "（注意 `a` 和 `b` 都有可能取到，這和 `range(a,b)` 不一樣）"
   ]
  },
  {
   "cell_type": "code",
   "execution_count": 14,
   "metadata": {},
   "outputs": [
    {
     "data": {
      "text/plain": [
       "3"
      ]
     },
     "execution_count": 14,
     "metadata": {},
     "output_type": "execute_result"
    }
   ],
   "source": [
    "random.randint(1,6)"
   ]
  },
  {
   "cell_type": "markdown",
   "metadata": {},
   "source": [
    "撲克牌裡有 52 張牌  \n",
    "連抽五張  \n",
    "抽到鐵支（4+1）的機率是多少？"
   ]
  },
  {
   "cell_type": "code",
   "execution_count": 12,
   "metadata": {},
   "outputs": [],
   "source": [
    "def pick_one(l):\n",
    "    card = random.choice(l)\n",
    "    l.remove(card)\n",
    "    return card"
   ]
  },
  {
   "cell_type": "code",
   "execution_count": 18,
   "metadata": {},
   "outputs": [
    {
     "data": {
      "text/plain": [
       "[('spade', 4), ('spade', 13), ('heart', 7), ('diamond', 7), ('diamond', 8)]"
      ]
     },
     "execution_count": 18,
     "metadata": {},
     "output_type": "execute_result"
    }
   ],
   "source": [
    "suits = ['spade', 'heart', 'diamond', 'club']\n",
    "ranks = [1,2,3,4,5,6,7,8,9,10,11,12,13]\n",
    "cards = [(suit,rank) for suit in suits for rank in ranks]\n",
    "\n",
    "hand = []\n",
    "for _ in range(5):\n",
    "    hand.append(pick_one(cards))\n",
    "    \n",
    "hand"
   ]
  },
  {
   "cell_type": "code",
   "execution_count": 27,
   "metadata": {},
   "outputs": [
    {
     "name": "stdout",
     "output_type": "stream",
     "text": [
      "0.000300000000000000\n"
     ]
    }
   ],
   "source": [
    "K = 100000\n",
    "counter = 0\n",
    "\n",
    "for _ in range(K):\n",
    "    suits = ['spade', 'heart', 'diamond', 'club']\n",
    "    ranks = [1,2,3,4,5,6,7,8,9,10,11,12,13]\n",
    "    cards = [(suit,rank) for suit in suits for rank in ranks]\n",
    "\n",
    "    hand = []\n",
    "    for _ in range(5):\n",
    "        hand.append(pick_one(cards))\n",
    "\n",
    "    for i in range(1,14):\n",
    "        occur = [card for card in hand if card[1] == i]\n",
    "        if len(occur) == 4:\n",
    "            counter += 1\n",
    "            break;\n",
    "    \n",
    "print(N(counter / K))"
   ]
  },
  {
   "cell_type": "markdown",
   "metadata": {},
   "source": [
    "從 1 到 100 中  \n",
    "有幾個質數？  \n",
    "選到一個質數的機率是多少？"
   ]
  },
  {
   "cell_type": "code",
   "execution_count": 10,
   "metadata": {},
   "outputs": [
    {
     "name": "stdout",
     "output_type": "stream",
     "text": [
      "25\n",
      "0.250000000000000\n"
     ]
    }
   ],
   "source": [
    "counter = 0\n",
    "\n",
    "for i in range(1,101):\n",
    "    if is_prime(i):\n",
    "        counter = counter + 1\n",
    "        \n",
    "print(counter)\n",
    "print(N(counter/100))"
   ]
  },
  {
   "cell_type": "markdown",
   "metadata": {},
   "source": [
    "包成一個函數\n",
    "\n",
    "從 1 到 `K` 中  \n",
    "選出一個數字  \n",
    "回傳這數字是不是質數"
   ]
  },
  {
   "cell_type": "code",
   "execution_count": 11,
   "metadata": {},
   "outputs": [],
   "source": [
    "def prime_in_K(K=100):\n",
    "    p = random.randint(1,K)\n",
    "    return is_prime(p)"
   ]
  },
  {
   "cell_type": "markdown",
   "metadata": {},
   "source": [
    "真的來測測看機率  \n",
    "\n",
    "換言之，這就是 1 到 `K` 中  \n",
    "質數出現的比例  \n",
    "\n",
    "換成不同的 `K` 試試看"
   ]
  },
  {
   "cell_type": "code",
   "execution_count": 12,
   "metadata": {},
   "outputs": [
    {
     "data": {
      "text/plain": [
       "0.250800000000000"
      ]
     },
     "execution_count": 12,
     "metadata": {},
     "output_type": "execute_result"
    }
   ],
   "source": [
    "K = 100\n",
    "n = 10000\n",
    "\n",
    "counter = 0\n",
    "\n",
    "for i in range(n):\n",
    "    if prime_in_K():\n",
    "        counter = counter + 1\n",
    "        \n",
    "N(counter / n)"
   ]
  },
  {
   "cell_type": "markdown",
   "metadata": {},
   "source": [
    "#### Monty Hall 問題\n",
    "\n",
    "美國有一個電視節目叫 Let's Make a Deal  \n",
    "（Monty Hall 是主持人）  \n",
    "\n",
    "節目中有三扇門  \n",
    "其中一扇後面是車子  \n",
    "另外兩扇後面是山羊  \n",
    "如果玩家選中車子的門  \n",
    "就可以帶走車子"
   ]
  },
  {
   "cell_type": "markdown",
   "metadata": {},
   "source": [
    "但是當玩家選好一扇門以後  \n",
    "主持人就會到後面看一看  \n",
    "打開一扇沒被選到的門  \n",
    "告訴玩家這扇門後面並不是車子  \n",
    "問你要不要換  \n",
    "\n",
    "如果你是玩家  \n",
    "你會換嗎？"
   ]
  },
  {
   "cell_type": "markdown",
   "metadata": {},
   "source": [
    "我們來**模擬一場遊戲**：\n",
    "\n",
    "三扇門  \n",
    "隨機選一扇放車子  \n",
    "玩家隨機選一個門  "
   ]
  },
  {
   "cell_type": "markdown",
   "metadata": {},
   "source": [
    "現在沒被選到又不是車子的門  \n",
    "可能有一扇（你沒選到車子）  \n",
    "也有可能是兩扇（你選到車子了！）  \n",
    "主持人打開其中一扇"
   ]
  },
  {
   "cell_type": "markdown",
   "metadata": {},
   "source": [
    "你決定換到最後那扇  \n",
    "沒選到 也不是主持人打開的  \n",
    "那扇門  \n",
    "\n",
    "然後開獎！  \n",
    "選中是 `True`  \n",
    "沒選中是 `False`"
   ]
  },
  {
   "cell_type": "code",
   "execution_count": 84,
   "metadata": {},
   "outputs": [
    {
     "data": {
      "text/plain": [
       "False"
      ]
     },
     "execution_count": 84,
     "metadata": {},
     "output_type": "execute_result"
    }
   ],
   "source": [
    "doors = [1,2,3]\n",
    "car = random.choice(doors)\n",
    "player_choose = random.choice(doors)\n",
    "\n",
    "no_car_no_choose = [door for door in doors if door != car and door != player_choose]\n",
    "host_open = random.choice(no_car_no_choose)\n",
    "\n",
    "no_choose_no_open = [door for door in doors if door != player_choose and door != host_open]\n",
    "player_change = no_choose_no_open[0]\n",
    "\n",
    "player_change == car"
   ]
  },
  {
   "cell_type": "markdown",
   "metadata": {},
   "source": [
    "把整場遊戲包成一個函數  \n",
    "這樣我們才能一次又一次的模擬  \n",
    "並計算成功的機率"
   ]
  },
  {
   "cell_type": "code",
   "execution_count": 85,
   "metadata": {},
   "outputs": [],
   "source": [
    "def Monty_Hall_game():\n",
    "    doors = [1,2,3]\n",
    "    car = random.choice(doors)\n",
    "    player_choose = random.choice(doors)\n",
    "\n",
    "    no_car_no_choose = [door for door in doors if door != car and door != player_choose]\n",
    "    host_open = random.choice(no_car_no_choose)\n",
    "\n",
    "    no_choose_no_open = [door for door in doors if door != player_choose and door != host_open]\n",
    "    player_change = no_choose_no_open[0]\n",
    "\n",
    "    return player_change == car"
   ]
  },
  {
   "cell_type": "markdown",
   "metadata": {},
   "source": [
    "玩很多場試試看  \n",
    "究竟決定換一扇門  \n",
    "選到車子的機率是多少"
   ]
  },
  {
   "cell_type": "code",
   "execution_count": 86,
   "metadata": {},
   "outputs": [
    {
     "data": {
      "text/plain": [
       "0.666600000000000"
      ]
     },
     "execution_count": 86,
     "metadata": {},
     "output_type": "execute_result"
    }
   ],
   "source": [
    "n = 10000\n",
    "\n",
    "counter = 0\n",
    "for i in range(n):\n",
    "    if Monty_Hall_game():\n",
    "        counter = counter + 1\n",
    "\n",
    "N(counter / n)"
   ]
  },
  {
   "cell_type": "markdown",
   "metadata": {},
   "source": [
    "##  動手試試看"
   ]
  },
  {
   "cell_type": "markdown",
   "metadata": {},
   "source": [
    "##### 練習\n",
    "用 1,2,3,4,5 排成一排，  \n",
    "其中 1 不在第一位、  \n",
    "2 不在第二位、  \n",
    "3 不在第三位、  \n",
    "4 不在第四位、而且  \n",
    "5 不在第五位  \n",
    "的排法有幾種。"
   ]
  },
  {
   "cell_type": "code",
   "execution_count": null,
   "metadata": {},
   "outputs": [],
   "source": [
    "### your answer here"
   ]
  },
  {
   "cell_type": "markdown",
   "metadata": {},
   "source": [
    "##### 練習 1\n",
    "袋中有三顆紅球、兩顆白球，  \n",
    "用 `'r'` 代表紅球，  \n",
    "用 `'w'` 代表白球。  \n",
    "列出所有  \n",
    "從袋中取出三顆球的組合方法。  "
   ]
  },
  {
   "cell_type": "code",
   "execution_count": null,
   "metadata": {},
   "outputs": [],
   "source": [
    "### your answer here"
   ]
  },
  {
   "cell_type": "markdown",
   "metadata": {},
   "source": [
    "##### 練習 2\n",
    "求整數解的個數：  \n",
    "$x+y+z=10$  \n",
    "$0\\leq x\\leq 4$,  \n",
    "$1\\leq y\\leq 5$,  \n",
    "$2\\leq z\\leq 6$。"
   ]
  },
  {
   "cell_type": "code",
   "execution_count": null,
   "metadata": {},
   "outputs": [],
   "source": [
    "### your answer here"
   ]
  },
  {
   "cell_type": "markdown",
   "metadata": {},
   "source": [
    "##### 練習 3\n",
    "求偶數解的個數：  \n",
    "$x+y+z=10$  \n",
    "$0\\leq x\\leq 4$,  \n",
    "$1\\leq y\\leq 5$,  \n",
    "$2\\leq z\\leq 6$。"
   ]
  },
  {
   "cell_type": "code",
   "execution_count": null,
   "metadata": {},
   "outputs": [],
   "source": [
    "### your answer here"
   ]
  },
  {
   "cell_type": "markdown",
   "metadata": {},
   "source": [
    "##### 練習 4\n",
    "從 5 個 1 和 5 個 0  \n",
    "中拿出 5 個數字排列。  \n",
    "恰好使用奇數個 1 的排列方法有幾種。"
   ]
  },
  {
   "cell_type": "code",
   "execution_count": null,
   "metadata": {},
   "outputs": [],
   "source": [
    "### your answer here"
   ]
  },
  {
   "cell_type": "markdown",
   "metadata": {},
   "source": [
    "_做以下練習前記得先_ `import random`"
   ]
  },
  {
   "cell_type": "code",
   "execution_count": 29,
   "metadata": {},
   "outputs": [],
   "source": [
    "import random"
   ]
  },
  {
   "cell_type": "markdown",
   "metadata": {},
   "source": [
    "##### 練習 5\n",
    "下面定義一顆虛擬的硬幣（1 是正面、0 是反面）。  \n",
    "試著丟這顆硬幣許多次來猜測  \n",
    "丟到正面的機率是多少。"
   ]
  },
  {
   "cell_type": "code",
   "execution_count": 31,
   "metadata": {},
   "outputs": [],
   "source": [
    "def unknown_dice():\n",
    "    a = list(bin(1365))[2:]\n",
    "    return random.choice(a)"
   ]
  },
  {
   "cell_type": "code",
   "execution_count": null,
   "metadata": {},
   "outputs": [],
   "source": [
    "### your answer here"
   ]
  },
  {
   "cell_type": "markdown",
   "metadata": {},
   "source": [
    "##### 練習 6\n",
    "定義一個函數 `six_get_three` 其功能為：  \n",
    "不輸入任何參數，  \n",
    "隨機產生一個長度是六的列表 `a`，  \n",
    "每個個元素為 1 或 0 的機率各為 0.5， \n",
    "若 `a` 剛好有 3 個 1，  \n",
    "則回傳 `True`，否則回傳 `False`。\n",
    "\n",
    "回傳 `True` 的機率是多少？"
   ]
  },
  {
   "cell_type": "code",
   "execution_count": 34,
   "metadata": {},
   "outputs": [],
   "source": [
    "### your answer here"
   ]
  },
  {
   "cell_type": "markdown",
   "metadata": {},
   "source": [
    "##### 練習 7\n",
    "撲克牌裡有 52 張牌  \n",
    "連抽五張  \n",
    "抽到葫蘆（3+2）的機率是多少？"
   ]
  },
  {
   "cell_type": "code",
   "execution_count": 34,
   "metadata": {},
   "outputs": [],
   "source": [
    "### your answer here"
   ]
  },
  {
   "cell_type": "markdown",
   "metadata": {},
   "source": [
    "##### 練習 8\n",
    "撲克牌裡有 52 張牌  \n",
    "連抽五張  \n",
    "抽到葫蘆（3+2）的機率是多少？"
   ]
  },
  {
   "cell_type": "code",
   "execution_count": 34,
   "metadata": {},
   "outputs": [],
   "source": [
    "### your answer here"
   ]
  },
  {
   "cell_type": "markdown",
   "metadata": {},
   "source": [
    "##### 練習 9\n",
    "除了 `for` 迴圈以外，  \n",
    "還有 `while` 迴圈：  \n",
    "```Python \n",
    "while condition:\n",
    "    do something\n",
    "```\n",
    "當條件 `condition` 成立時  \n",
    "程式會不斷重覆執行 `do something`。  \n",
    "\n",
    "猜看看這個函數的功能是什麼？\n",
    "（輸入的 `a` 和 `b` 必須是正整數。）\n",
    "```Python\n",
    "def  the_number(a,b):\n",
    "    k = 1\n",
    "    again = True\n",
    "    while again:\n",
    "        if k % a == 0 and k % b == 0:\n",
    "            again = False\n",
    "            return k\n",
    "        else:\n",
    "            k = k + 1\n",
    "```"
   ]
  },
  {
   "cell_type": "code",
   "execution_count": 35,
   "metadata": {},
   "outputs": [],
   "source": [
    "### your answer here"
   ]
  },
  {
   "cell_type": "markdown",
   "metadata": {},
   "source": [
    "##### 練習 9（Monty Fall 問題）\n",
    "同樣在 Let's Make a Deal 的節目上，  \n",
    "玩家選了一扇門，  \n",
    "主持人在走向門的時候滑到了並不小心打開一扇門  \n",
    "（這時候主持人不知道哪扇門後面有車子），  \n",
    "好險主持人不小心打開的剛好不是車子。  \n",
    "主持人問玩家要不要換一扇門。\n",
    "\n",
    "如果你是玩家，你要換嗎？\n",
    "\n",
    "寫一個函數 `Monty_Fall_game` 來模擬這個問題：  \n",
    "這函數不輸入參數，  \n",
    "每次執行時做以下的事情  \n",
    "1. 建立三扇門\n",
    "2. 隨機選一扇放車子\n",
    "3. 玩家隨機選一扇門\n",
    "4. 主持人從玩家沒選到的兩扇門中隨機開啟一扇\n",
    "5. 如果主持人開到車子的門，則這局不算並從步驟 1 重新開始\n",
    "6. 如果主持人沒開到車子的門，則繼續步驟 7\n",
    "7. 玩家換一扇門（一開始沒選到、也不是主持人打開的那扇）\n",
    "8. 如果玩家選到車子，回傳 `True`，否則回傳 `False`\n",
    "\n",
    "若須要可以參考下方提示以及數學解釋"
   ]
  },
  {
   "cell_type": "code",
   "execution_count": null,
   "metadata": {},
   "outputs": [],
   "source": [
    "### your answer here"
   ]
  },
  {
   "cell_type": "markdown",
   "metadata": {},
   "source": [
    "提示：  \n",
    "第 1, 2, 3 步與 Monty Hall 問題相同  \n",
    "第 4 步則是類似，只要修改部分即可  \n",
    "第 5, 6 步可使用無窮 `while` 迴圈，直到符合第 6 步的條件才 `break`  \n",
    "最後 7, 8 步也是相同\n",
    "\n",
    "完成以下程式碼的 `...` 部分  \n",
    "```Python\n",
    "def Monty_Fall_game():\n",
    "    while True:\n",
    "        doors = ...                # step 1\n",
    "        car = ...                  # step 2\n",
    "        player_choose = ...        # step 3\n",
    "\n",
    "        not_player_choose = ...    # step 4\n",
    "        host_open = ...\n",
    "        \n",
    "        if host_open != car:       # step 5, 6\n",
    "            break\n",
    "\n",
    "    no_choose_no_open = ...        # step 7\n",
    "    player_change = ...\n",
    "\n",
    "    return player_change == car    # step 8\n",
    "```\n",
    "\n",
    "完成 Monty Fall 問題後，可執行以下程式碼來統計成功的機率  \n",
    "\n",
    "```Python\n",
    "n = 10000\n",
    "\n",
    "counter = 0\n",
    "for i in range(n):\n",
    "    if Monty_Fall_game():\n",
    "        counter = counter + 1\n",
    "\n",
    "N(counter / n)\n",
    "```"
   ]
  },
  {
   "cell_type": "markdown",
   "metadata": {},
   "source": [
    "##### 用數學推論結果\n",
    "假設 $X$ 為一隨機變數，代表 Monty Fall 問題的結果  \n",
    "$X = 0$ 時代表沒選到車  \n",
    "$X = 1$ 時代表選到車  \n",
    "$E[X]$ 為 X 的期望值，而在這裡也代表了選到車的機率  \n",
    "\n",
    "接著計算 $E[X]$  \n",
    "第一步時，玩家有 $\\frac{1}{3}$ 的機率直接選到車，$\\frac{2}{3}$ 的機率沒選到車  \n",
    "\n",
    "若第一步玩家選到車，則主持人一定會開到普通的門（且遊戲不會重來）  \n",
    "此時若換門，則不可能選到車（$0\\%$）\n",
    "\n",
    "若第一步玩家沒選到車，則主持人有 $\\frac{1}{2}$ 的機率開到普通的門，$\\frac{1}{2}$ 的機率開到車  \n",
    "只有主持人開到門時遊戲才會繼續（若不小心開到車則遊戲重來）  \n",
    "此時若換門，則一定選到車（$100\\%$）\n",
    "\n",
    "整個過程有三部份：  \n",
    "Case 1. 選到車、主持人開普通門 $p_1 = \\frac{1}{3}\\cdot 1 = \\frac{1}{3}$  \n",
    "Case 2. 沒選到車、主持人開到普通門 $p_2 = \\frac{2}{3}\\cdot\\frac{1}{2} = \\frac{1}{3}$  \n",
    "Case 3. 沒選到車、主持人開到有車的門 $p_3 = \\frac{2}{3}\\cdot\\frac{1}{2} = \\frac{1}{3}$  \n",
    "只有前兩個狀況遊戲才會繼續\n",
    "\n",
    "因此  \n",
    "$E[X] = \\big(p_1 \\cdot$ 換門後選到車的機率 $+ p_1 \\cdot$ 換門後選到車的機率$\\big)/(p_1+p_2) = \\frac{1}{2}$"
   ]
  },
  {
   "cell_type": "code",
   "execution_count": null,
   "metadata": {},
   "outputs": [],
   "source": []
  }
 ],
 "metadata": {
  "kernelspec": {
   "display_name": "SageMath",
   "language": "",
   "name": "sagemath"
  },
  "language_info": {
   "codemirror_mode": {
    "name": "ipython",
    "version": 2
   },
   "file_extension": ".py",
   "mimetype": "text/x-python",
   "name": "python",
   "nbconvert_exporter": "python",
   "pygments_lexer": "ipython2",
   "version": "2.7.17"
  }
 },
 "nbformat": 4,
 "nbformat_minor": 2
}
